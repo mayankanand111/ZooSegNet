{
 "cells": [
  {
   "cell_type": "markdown",
   "id": "187fdbeb-132b-4ceb-99c6-fc6f73992082",
   "metadata": {
    "tags": []
   },
   "source": [
    "# Below is used to create csv with only 2 colums for training purposes"
   ]
  },
  {
   "cell_type": "code",
   "execution_count": 62,
   "id": "09e22e16-ed73-438d-be24-dd7f05bcfc9d",
   "metadata": {
    "tags": []
   },
   "outputs": [
    {
     "name": "stdout",
     "output_type": "stream",
     "text": [
      "Looking in indexes: https://pypi.org/simple, https://pip.repos.neuron.amazonaws.com\n",
      "Collecting natsort\n",
      "  Downloading natsort-8.4.0-py3-none-any.whl (38 kB)\n",
      "Installing collected packages: natsort\n",
      "Successfully installed natsort-8.4.0\n",
      "Note: you may need to restart the kernel to use updated packages.\n"
     ]
    }
   ],
   "source": [
    "pip install natsort"
   ]
  },
  {
   "cell_type": "code",
   "execution_count": 63,
   "id": "fb26ddb1-ff9b-4a2f-9be5-f8d7a0d29d65",
   "metadata": {
    "tags": []
   },
   "outputs": [
    {
     "name": "stdout",
     "output_type": "stream",
     "text": [
      "Looking in indexes: https://pypi.org/simple, https://pip.repos.neuron.amazonaws.com\n",
      "Collecting comtypes\n",
      "  Downloading comtypes-1.2.0-py2.py3-none-any.whl (184 kB)\n",
      "\u001B[2K     \u001B[90m━━━━━━━━━━━━━━━━━━━━━━━━━━━━━━━━━━━━━━━\u001B[0m \u001B[32m184.3/184.3 kB\u001B[0m \u001B[31m1.7 MB/s\u001B[0m eta \u001B[36m0:00:00\u001B[0ma \u001B[36m0:00:01\u001B[0m\n",
      "\u001B[?25hInstalling collected packages: comtypes\n",
      "Successfully installed comtypes-1.2.0\n",
      "Note: you may need to restart the kernel to use updated packages.\n"
     ]
    }
   ],
   "source": [
    "pip install comtypes"
   ]
  },
  {
   "cell_type": "code",
   "execution_count": 16,
   "id": "d161ca59-8136-42d7-bd23-fb3c8e4731b2",
   "metadata": {
    "tags": []
   },
   "outputs": [],
   "source": [
    "# import os\n",
    "# import pandas as pd\n",
    "\n",
    "# csv_path = \"/home/ec2-user/SageMaker/annotations/8/annotations_8.csv\"\n",
    "# folder_path = \"/home/ec2-user/SageMaker/dataset/All_Images/2022-09-06/\"\n",
    "# new_csv_path = \"/home/ec2-user/SageMaker/annotations/8/annotations_8_final.csv\"\n",
    "\n",
    "# df = pd.read_csv(csv_path)\n",
    "# image_column = df[\"2: Video or Image Identifier\"]\n",
    "\n",
    "# new_df = pd.DataFrame(columns=[\"ImageName\", \"Label\"])\n",
    "# last_annotated_reached = False\n",
    "\n",
    "# folder_files = sorted(os.listdir(folder_path), key=lambda x: os.path.getmtime(os.path.join(folder_path, x)))\n",
    "\n",
    "# for image_name in folder_files:\n",
    "#     image_path = os.path.join(folder_path, image_name)\n",
    "#     if image_name in set(image_column):\n",
    "#         last_annotated_reached = True\n",
    "#     label = 1 if last_annotated_reached else 0\n",
    "#     new_df = new_df.append({\"ImageName\": image_name, \"Label\": label}, ignore_index=True)\n",
    "#     if last_annotated_reached and image_name == df[\"2: Video or Image Identifier\"].iloc[-1]:\n",
    "#         break\n",
    "#     last_annotated_reached = False\n",
    "\n",
    "# new_df.to_csv(new_csv_path, index=False)\n"
   ]
  },
  {
   "cell_type": "code",
   "execution_count": 71,
   "id": "ee9ddb9a-4d27-403d-bc86-9be5f9d27ce2",
   "metadata": {
    "tags": []
   },
   "outputs": [],
   "source": [
    "# added removal of marine snow or label it as 0 in final csv\n",
    "import os\n",
    "import pandas as pd\n",
    "\n",
    "csv_path = \"/home/ec2-user/SageMaker/annotations/19/annotations_19.csv\"\n",
    "folder_path = \"/home/ec2-user/SageMaker/dataset/All_Images/2022-09-19/\"\n",
    "new_csv_path = \"/home/ec2-user/SageMaker/annotations/19/annotations_19_final.csv\"\n",
    "\n",
    "df = pd.read_csv(csv_path)\n",
    "image_column = df[\"2: Video or Image Identifier\"]\n",
    "\n",
    "new_df = pd.DataFrame(columns=[\"ImageName\", \"Label\"])\n",
    "last_annotated_reached = False\n",
    "\n",
    "folder_files = sorted(os.listdir(folder_path), key=lambda x: os.path.getmtime(os.path.join(folder_path, x)))\n",
    "\n",
    "for image_name in folder_files:\n",
    "    image_path = os.path.join(folder_path, image_name)\n",
    "    if image_name in set(image_column):\n",
    "        last_annotated_reached = True\n",
    "        # Check if the corresponding [10-11+: Repeated Species] column value is \"marine-snow\"\n",
    "        corresponding_row = df[df[\"2: Video or Image Identifier\"] == image_name]\n",
    "        if corresponding_row.iloc[0][\"10-11+: Repeated Species\"] == \"marine-snow\":\n",
    "            last_annotated_reached = False\n",
    "    label = 1 if last_annotated_reached else 0\n",
    "    new_df = new_df.append({\"ImageName\": image_name, \"Label\": label}, ignore_index=True)\n",
    "    if last_annotated_reached and image_name == df[\"2: Video or Image Identifier\"].iloc[-1]:\n",
    "        break\n",
    "    last_annotated_reached = False\n",
    "\n",
    "new_df.to_csv(new_csv_path, index=False)\n"
   ]
  },
  {
   "cell_type": "code",
   "execution_count": 72,
   "id": "ef05e663-3704-44ac-9c5f-0aca94e99d8d",
   "metadata": {
    "tags": []
   },
   "outputs": [
    {
     "name": "stdout",
     "output_type": "stream",
     "text": [
      "Label 0 count: 8177\n",
      "Label 1 count: 1442\n"
     ]
    }
   ],
   "source": [
    "import pandas as pd\n",
    "csv_path = \"annotations/19/annotations_19_final.csv\"\n",
    "\n",
    "df = pd.read_csv(csv_path)\n",
    "\n",
    "label_counts = df[\"Label\"].value_counts()\n",
    "\n",
    "# Access the count for label 0 and label 1\n",
    "count_label_0 = label_counts.get(0, 0)\n",
    "count_label_1 = label_counts.get(1, 0)\n",
    "\n",
    "# Print the counts\n",
    "print(\"Label 0 count:\", count_label_0)\n",
    "print(\"Label 1 count:\", count_label_1)"
   ]
  },
  {
   "cell_type": "code",
   "execution_count": 4,
   "id": "f43b8e2f-b868-4dd6-abf2-d1eb5d890a6d",
   "metadata": {
    "tags": []
   },
   "outputs": [
    {
     "name": "stdout",
     "output_type": "stream",
     "text": [
      "Label 0 count: 1022\n",
      "Label 1 count: 294\n"
     ]
    }
   ],
   "source": [
    "import pandas as pd\n",
    "csv_path = \"dataset/All_Images/2022-09-11/2022-09-11_combined_new.csv\"\n",
    "\n",
    "df = pd.read_csv(csv_path)\n",
    "\n",
    "label_counts = df[\"Label\"].value_counts()\n",
    "\n",
    "# Access the count for label 0 and label 1\n",
    "count_label_0 = label_counts.get(0, 0)\n",
    "count_label_1 = label_counts.get(1, 0)\n",
    "\n",
    "# Print the counts\n",
    "print(\"Label 0 count:\", count_label_0)\n",
    "print(\"Label 1 count:\", count_label_1)"
   ]
  },
  {
   "cell_type": "code",
   "execution_count": 5,
   "id": "20956e42-2c4a-4cfb-ac7b-c75973c34251",
   "metadata": {
    "tags": []
   },
   "outputs": [
    {
     "name": "stdout",
     "output_type": "stream",
     "text": [
      "Number of unique image names: 294\n"
     ]
    }
   ],
   "source": [
    "csv_path = \"/home/ec2-user/SageMaker/dataset/All_Images/2022-09-11/combined.csv\"\n",
    "\n",
    "df = pd.read_csv(csv_path)\n",
    "\n",
    "unique_image_names_count = df[\"2: Video or Image Identifier\"].nunique()\n",
    "\n",
    "# Print the count of unique image names\n",
    "print(\"Number of unique image names:\", unique_image_names_count)"
   ]
  },
  {
   "cell_type": "code",
   "execution_count": 7,
   "id": "04ca0f80-0d36-4ef1-bbde-f0e5ebc0ffd1",
   "metadata": {
    "tags": []
   },
   "outputs": [
    {
     "ename": "NotADirectoryError",
     "evalue": "[Errno 20] Not a directory: '/home/ec2-user/SageMaker/dataset/All_Images/2022-09-19/combined_new.csv'",
     "output_type": "error",
     "traceback": [
      "\u001B[0;31m---------------------------------------------------------------------------\u001B[0m",
      "\u001B[0;31mNotADirectoryError\u001B[0m                        Traceback (most recent call last)",
      "\u001B[0;32m/tmp/ipykernel_11882/2212214799.py\u001B[0m in \u001B[0;36m<module>\u001B[0;34m\u001B[0m\n\u001B[1;32m      1\u001B[0m \u001B[0mfolder_path\u001B[0m \u001B[0;34m=\u001B[0m \u001B[0;34m\"/home/ec2-user/SageMaker/dataset/All_Images/2022-09-19/combined_new.csv\"\u001B[0m\u001B[0;34m\u001B[0m\u001B[0;34m\u001B[0m\u001B[0m\n\u001B[1;32m      2\u001B[0m \u001B[0;34m\u001B[0m\u001B[0m\n\u001B[0;32m----> 3\u001B[0;31m \u001B[0mitems\u001B[0m \u001B[0;34m=\u001B[0m \u001B[0mos\u001B[0m\u001B[0;34m.\u001B[0m\u001B[0mlistdir\u001B[0m\u001B[0;34m(\u001B[0m\u001B[0mfolder_path\u001B[0m\u001B[0;34m)\u001B[0m\u001B[0;34m\u001B[0m\u001B[0;34m\u001B[0m\u001B[0m\n\u001B[0m\u001B[1;32m      4\u001B[0m \u001B[0mtotal_items\u001B[0m \u001B[0;34m=\u001B[0m \u001B[0mlen\u001B[0m\u001B[0;34m(\u001B[0m\u001B[0mitems\u001B[0m\u001B[0;34m)\u001B[0m\u001B[0;34m\u001B[0m\u001B[0;34m\u001B[0m\u001B[0m\n\u001B[1;32m      5\u001B[0m \u001B[0;34m\u001B[0m\u001B[0m\n",
      "\u001B[0;31mNotADirectoryError\u001B[0m: [Errno 20] Not a directory: '/home/ec2-user/SageMaker/dataset/All_Images/2022-09-19/combined_new.csv'"
     ]
    }
   ],
   "source": [
    "folder_path = \"/home/ec2-user/SageMaker/dataset/All_Images/2022-09-19/combined_new.csv\"\n",
    "\n",
    "items = os.listdir(folder_path)\n",
    "total_items = len(items)\n",
    "\n",
    "print(\"Total items in the folder:\", total_items)"
   ]
  },
  {
   "cell_type": "markdown",
   "id": "aca19a5d-fc10-45ca-b4a4-8d2ff25583ed",
   "metadata": {
    "tags": []
   },
   "source": [
    "# Below is used to combine all csv into one \n"
   ]
  },
  {
   "cell_type": "code",
   "execution_count": 13,
   "id": "501ca4fc-7910-45f6-adec-f73c75de3d00",
   "metadata": {
    "tags": []
   },
   "outputs": [],
   "source": [
    "import glob\n",
    "import pandas as pd"
   ]
  },
  {
   "cell_type": "code",
   "execution_count": 14,
   "id": "b65a6bd6-cb14-443c-8198-a46417fe6398",
   "metadata": {
    "tags": []
   },
   "outputs": [
    {
     "data": {
      "text/plain": [
       "'/home/ec2-user/SageMaker'"
      ]
     },
     "execution_count": 14,
     "metadata": {},
     "output_type": "execute_result"
    }
   ],
   "source": [
    "pwd"
   ]
  },
  {
   "cell_type": "code",
   "execution_count": 15,
   "id": "a3f93d9e-a742-4310-8b67-3fcc7729d902",
   "metadata": {
    "tags": []
   },
   "outputs": [],
   "source": [
    "path = '/home/ec2-user/SageMaker/All_csv_combined/Test/'"
   ]
  },
  {
   "cell_type": "code",
   "execution_count": 16,
   "id": "17757970-44dd-47ca-ad12-f581ae8e292a",
   "metadata": {
    "tags": []
   },
   "outputs": [],
   "source": [
    "all_files = sorted(glob.glob(path + \"*.csv\"))"
   ]
  },
  {
   "cell_type": "code",
   "execution_count": 17,
   "id": "b6a6d318-eb00-4a65-bc3a-c510231932bb",
   "metadata": {
    "tags": []
   },
   "outputs": [
    {
     "data": {
      "text/plain": [
       "['/home/ec2-user/SageMaker/All_csv_combined/Test/annotations_11_final.csv',\n",
       " '/home/ec2-user/SageMaker/All_csv_combined/Test/annotations_19_final.csv',\n",
       " '/home/ec2-user/SageMaker/All_csv_combined/Test/annotations_8_final.csv']"
      ]
     },
     "execution_count": 17,
     "metadata": {},
     "output_type": "execute_result"
    }
   ],
   "source": [
    "all_files"
   ]
  },
  {
   "cell_type": "code",
   "execution_count": 18,
   "id": "a62b31bc-8047-435a-9316-3efe7417d9d8",
   "metadata": {
    "tags": []
   },
   "outputs": [],
   "source": [
    "dataframes = []"
   ]
  },
  {
   "cell_type": "code",
   "execution_count": 19,
   "id": "7d24645c-5027-4470-9857-0e686d96a6f3",
   "metadata": {
    "tags": []
   },
   "outputs": [],
   "source": [
    "for i, file in enumerate(all_files):\n",
    "    df = pd.read_csv(file)\n",
    "    if i == 0:\n",
    "        dataframes.append(df)  # Append header from the first file\n",
    "    else:\n",
    "        dataframes.append(df[1:])"
   ]
  },
  {
   "cell_type": "code",
   "execution_count": 20,
   "id": "9095c6af-118c-4958-babe-a7999d5bc696",
   "metadata": {
    "tags": []
   },
   "outputs": [],
   "source": [
    "combined_df = pd.concat(dataframes, ignore_index=True)"
   ]
  },
  {
   "cell_type": "code",
   "execution_count": 21,
   "id": "8304d2a7-bc52-4fbe-af22-7ceabc6f1e81",
   "metadata": {
    "tags": []
   },
   "outputs": [],
   "source": [
    "output_path = '/home/ec2-user/SageMaker/All_csv_combined/Test/annotations.csv'"
   ]
  },
  {
   "cell_type": "code",
   "execution_count": 22,
   "id": "93def210-8133-4601-9540-69bea4d60b8a",
   "metadata": {
    "tags": []
   },
   "outputs": [],
   "source": [
    "combined_df.to_csv(output_path, index=False)"
   ]
  },
  {
   "cell_type": "code",
   "execution_count": 18,
   "id": "fe134d1f-8bb5-4275-b153-046bab4abee4",
   "metadata": {
    "tags": []
   },
   "outputs": [],
   "source": [
    "# import csv\n",
    "# import os\n",
    "\n",
    "# # Specify the folder path containing the images\n",
    "# image_folder = \"dataset/uncropped/\"\n",
    "\n",
    "# # Specify the path to the CSV file\n",
    "# csv_file = \"dataset/uncropped/annotations.csv\"\n",
    "\n",
    "# # Get the list of image files in the folder\n",
    "# image_files = os.listdir(image_folder)\n",
    "\n",
    "# # Read the CSV file and count the number of rows\n",
    "# with open(csv_file, 'r') as file:\n",
    "#     csv_reader = csv.reader(file)\n",
    "#     csv_row_count = sum(1 for row in csv_reader)\n",
    "\n",
    "# # Compare the row count with the number of images\n",
    "# if csv_row_count == len(image_files):\n",
    "#     print(\"The total number of rows in the CSV file is equal to the number of images.\")\n",
    "# else:\n",
    "#     print(\"The total number of rows in the CSV file is not equal to the number of images.\")\n",
    "\n",
    "#     # Find the missing images\n",
    "#     csv_images = [row[0] for row in csv.reader(open(csv_file, 'r'))]\n",
    "#     missing_images = [image for image in csv_images if image not in image_files]\n",
    "    \n",
    "#     # Print the names of missing images\n",
    "#     if missing_images:\n",
    "#         print(\"Missing images:\")\n",
    "#         for image in missing_images:\n",
    "#             print(image)\n",
    "#     else:\n",
    "#         print(\"No missing images.\")\n"
   ]
  },
  {
   "cell_type": "markdown",
   "id": "4daa44a4-5438-45ad-93dc-528a4c8e0b17",
   "metadata": {},
   "source": [
    "# Below code is udes to create a csv after predictions from Detected folder"
   ]
  },
  {
   "cell_type": "code",
   "execution_count": 1,
   "id": "5ac3b6b0-37c4-437d-aecc-8fe11e33fd0c",
   "metadata": {
    "tags": []
   },
   "outputs": [],
   "source": [
    "import os\n",
    "import csv\n"
   ]
  },
  {
   "cell_type": "code",
   "execution_count": 2,
   "id": "c939f685-754d-471b-9fe8-a4284ffeb7a1",
   "metadata": {
    "tags": []
   },
   "outputs": [],
   "source": [
    "image_folder_path = \"/home/ec2-user/SageMaker/Inference/Detected\"\n",
    "output_csv_path = \"/home/ec2-user/SageMaker/All_csv_combined/predictions_1.csv\"\n"
   ]
  },
  {
   "cell_type": "code",
   "execution_count": 3,
   "id": "3019a892-125f-43ba-a024-51add52ea7c8",
   "metadata": {
    "tags": []
   },
   "outputs": [],
   "source": [
    "image_filenames = [filename for filename in os.listdir(image_folder_path) if filename.endswith(('.jpg', '.png', '.jpeg'))]"
   ]
  },
  {
   "cell_type": "code",
   "execution_count": 4,
   "id": "b84ce401-5484-4c4a-87ce-0ad3bbde1cc0",
   "metadata": {
    "tags": []
   },
   "outputs": [],
   "source": [
    "data = [{'ImageName': filename, 'Label': 1} for filename in image_filenames]"
   ]
  },
  {
   "cell_type": "code",
   "execution_count": 5,
   "id": "7c5f995e-6586-4177-be55-444007cd92a6",
   "metadata": {
    "tags": []
   },
   "outputs": [
    {
     "name": "stdout",
     "output_type": "stream",
     "text": [
      "CSV file created successfully!\n"
     ]
    }
   ],
   "source": [
    "with open(output_csv_path, mode='w', newline='') as csv_file:\n",
    "    fieldnames = ['ImageName', 'Label']\n",
    "    writer = csv.DictWriter(csv_file, fieldnames=fieldnames)\n",
    "\n",
    "    writer.writeheader()\n",
    "    writer.writerows(data)\n",
    "\n",
    "print(\"CSV file created successfully!\")"
   ]
  },
  {
   "cell_type": "markdown",
   "id": "22e8d9db-71df-499c-a9e7-9ba1cdba277b",
   "metadata": {},
   "source": [
    "# Below is udes to remove .jpg from csv"
   ]
  },
  {
   "cell_type": "code",
   "execution_count": 2,
   "id": "937b78f7-d6ad-4182-baaa-eabdd335d560",
   "metadata": {
    "tags": []
   },
   "outputs": [],
   "source": [
    "import pandas as pd\n",
    "import os\n",
    "\n",
    "csv_file_path = '/home/ec2-user/SageMaker/All_csv_combined/annotations.csv'\n",
    "\n",
    "df = pd.read_csv(csv_file_path)\n",
    "\n",
    "df = df[~df['ImageName'].str.endswith('.jpg')]\n",
    "\n",
    "df.to_csv(csv_file_path, index=False)\n"
   ]
  },
  {
   "cell_type": "code",
   "execution_count": null,
   "id": "4e0fda87-ab91-46eb-8063-ec431cc825a0",
   "metadata": {},
   "outputs": [],
   "source": []
  }
 ],
 "metadata": {
  "kernelspec": {
   "display_name": "conda_amazonei_pytorch_latest_p37",
   "language": "python",
   "name": "conda_amazonei_pytorch_latest_p37"
  },
  "language_info": {
   "codemirror_mode": {
    "name": "ipython",
    "version": 3
   },
   "file_extension": ".py",
   "mimetype": "text/x-python",
   "name": "python",
   "nbconvert_exporter": "python",
   "pygments_lexer": "ipython3",
   "version": "3.7.10"
  }
 },
 "nbformat": 4,
 "nbformat_minor": 5
}
