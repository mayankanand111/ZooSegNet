{
 "cells": [
  {
   "cell_type": "code",
   "execution_count": 1,
   "id": "7b4370c3-bc91-43ec-bdc3-c9ede470fec8",
   "metadata": {
    "tags": []
   },
   "outputs": [],
   "source": [
    "import os\n",
    "import numpy as np\n",
    "import pandas as pd\n",
    "from PIL import Image\n",
    "import matplotlib.pyplot as plt\n",
    "import torch\n",
    "import torch.nn as nn\n",
    "import torch.optim as optim\n",
    "from torchvision import transforms\n",
    "from torch.utils.data import Dataset, DataLoader\n",
    "from sklearn.model_selection import train_test_split\n",
    "from sklearn.cluster import KMeans\n",
    "from torchvision.datasets import ImageFolder"
   ]
  },
  {
   "cell_type": "code",
   "execution_count": 2,
   "id": "00772607-6241-4827-bae0-54ac5c994bcd",
   "metadata": {
    "tags": []
   },
   "outputs": [],
   "source": [
    "output_dir = '/home/ec2-user/SageMaker/dataset/cropped/'"
   ]
  },
  {
   "cell_type": "code",
   "execution_count": 3,
   "id": "64378e96-8b5f-4754-b9fe-8d153e0ce4f0",
   "metadata": {
    "tags": []
   },
   "outputs": [],
   "source": [
    "def get_file_paths(data_dir: str) -> list:\n",
    "    \"\"\"Take a directory as input and return a list of paths to all files inside.\"\"\"\n",
    "    file_paths = []\n",
    "    for root_path, _, files in os.walk(data_dir):\n",
    "        for file in files:\n",
    "            if file.endswith('png'):\n",
    "                file_paths.append(os.path.join(root_path, file))\n",
    "    return file_paths"
   ]
  },
  {
   "cell_type": "code",
   "execution_count": 4,
   "id": "c19c6840-831d-44d6-9a2e-f6576842d015",
   "metadata": {
    "tags": []
   },
   "outputs": [],
   "source": [
    "def load_images(file_paths, dim=(128, 128), verbose=False):\n",
    "    print(f\"Processing {len(file_paths)} image paths...\") if verbose else None\n",
    "    images = []\n",
    "    \n",
    "    transform = transforms.Compose([\n",
    "        transforms.Resize(dim),  # Resize the image\n",
    "        transforms.ToTensor()  # Convert PIL image to PyTorch tensor\n",
    "    ])\n",
    "\n",
    "    for i, file_path in enumerate(file_paths):\n",
    "        f_path = os.path.join(file_path)\n",
    "        if \"checkpoint\" in f_path:\n",
    "            print(f\"[{i+1}] Skipping '{f_path}' (contains 'checkpoint')...\") if verbose else None\n",
    "            continue\n",
    "        \n",
    "        # print(f\"[{i+1}] Loading '{f_path}' . . .\") if verbose else None\n",
    "        image = Image.open(f_path)\n",
    "        \n",
    "        # Convert to RGB if the image has an alpha channel\n",
    "        if image.mode == 'RGBA':\n",
    "            image = image.convert('RGB')\n",
    "        \n",
    "        image = transform(image)\n",
    "        images.append(image)\n",
    "    \n",
    "    # Resize images to a consistent size\n",
    "    resized_images = []\n",
    "    for image in images:\n",
    "        if image.shape != (3, dim[0], dim[1]):\n",
    "            resize_transform = transforms.Resize((dim[1], dim[0]))\n",
    "            image = resize_transform(image)\n",
    "        resized_images.append(image)\n",
    "    \n",
    "    return torch.stack(resized_images)"
   ]
  },
  {
   "cell_type": "code",
   "execution_count": 5,
   "id": "6d8d7162-a49d-4422-877d-836b50645c8c",
   "metadata": {
    "tags": []
   },
   "outputs": [
    {
     "name": "stdout",
     "output_type": "stream",
     "text": [
      "Total 4161 images in directory.\n"
     ]
    }
   ],
   "source": [
    "file_paths = get_file_paths(output_dir)\n",
    "print(f\"Total {len(file_paths)} images in directory.\")"
   ]
  },
  {
   "cell_type": "code",
   "execution_count": 6,
   "id": "fa8f9b78-e619-435e-9013-561f1bdc58c0",
   "metadata": {
    "tags": []
   },
   "outputs": [
    {
     "name": "stdout",
     "output_type": "stream",
     "text": [
      "Processing 4161 image paths...\n",
      "[4146] Skipping '/home/ec2-user/SageMaker/dataset/cropped/.ipynb_checkpoints/soloAUV 20220919-174051-525_108-checkpoint.png' (contains 'checkpoint')...\n",
      "[4147] Skipping '/home/ec2-user/SageMaker/dataset/cropped/.ipynb_checkpoints/soloAUV 20220908-161810-004_3-checkpoint.png' (contains 'checkpoint')...\n",
      "[4148] Skipping '/home/ec2-user/SageMaker/dataset/cropped/.ipynb_checkpoints/soloAUV 20220908-175916-071_672-checkpoint.png' (contains 'checkpoint')...\n",
      "[4149] Skipping '/home/ec2-user/SageMaker/dataset/cropped/.ipynb_checkpoints/soloAUV 20220911-165223-994_950-checkpoint.png' (contains 'checkpoint')...\n",
      "[4150] Skipping '/home/ec2-user/SageMaker/dataset/cropped/.ipynb_checkpoints/soloAUV 20220911-163450-033_246-checkpoint.png' (contains 'checkpoint')...\n",
      "[4151] Skipping '/home/ec2-user/SageMaker/dataset/cropped/.ipynb_checkpoints/soloAUV 20220919-173206-042_26-checkpoint.png' (contains 'checkpoint')...\n",
      "[4152] Skipping '/home/ec2-user/SageMaker/dataset/cropped/.ipynb_checkpoints/soloAUV 20220908-170711-024_12-checkpoint.png' (contains 'checkpoint')...\n",
      "[4153] Skipping '/home/ec2-user/SageMaker/dataset/cropped/.ipynb_checkpoints/soloAUV 20220911-163643-139_876-checkpoint.png' (contains 'checkpoint')...\n",
      "[4154] Skipping '/home/ec2-user/SageMaker/dataset/cropped/.ipynb_checkpoints/soloAUV 20220908-170319-012_11-checkpoint.png' (contains 'checkpoint')...\n",
      "[4155] Skipping '/home/ec2-user/SageMaker/dataset/cropped/.ipynb_checkpoints/soloAUV 20220908-165946-001_640-checkpoint.png' (contains 'checkpoint')...\n",
      "[4156] Skipping '/home/ec2-user/SageMaker/dataset/cropped/.ipynb_checkpoints/soloAUV 20220908-171730-056_19-checkpoint.png' (contains 'checkpoint')...\n",
      "[4157] Skipping '/home/ec2-user/SageMaker/dataset/cropped/.ipynb_checkpoints/soloAUV 20220908-170750-026_14-checkpoint.png' (contains 'checkpoint')...\n",
      "[4158] Skipping '/home/ec2-user/SageMaker/dataset/cropped/.ipynb_checkpoints/soloAUV 20220911-163605-103_503-checkpoint.png' (contains 'checkpoint')...\n",
      "[4159] Skipping '/home/ec2-user/SageMaker/dataset/cropped/.ipynb_checkpoints/soloAUV 20220911-165425-1104_1022-checkpoint.png' (contains 'checkpoint')...\n",
      "[4160] Skipping '/home/ec2-user/SageMaker/dataset/cropped/.ipynb_checkpoints/soloAUV 20220908-171730-056_651-checkpoint.png' (contains 'checkpoint')...\n",
      "[4161] Skipping '/home/ec2-user/SageMaker/dataset/cropped/.ipynb_checkpoints/soloAUV 20220908-161939-004_4-checkpoint.png' (contains 'checkpoint')...\n"
     ]
    }
   ],
   "source": [
    "# Take a sample of images\n",
    "percent = 100\n",
    "N = int(len(file_paths)*percent)\n",
    "indexes = np.random.randint(low=0, high=len(file_paths), size=N)\n",
    "sample_files = [path for (i, path) in enumerate(file_paths) if i in indexes]\n",
    "X = load_images(sample_files, verbose=True, dim=(128, 128))"
   ]
  },
  {
   "cell_type": "code",
   "execution_count": 7,
   "id": "1ffb20fc-b678-4b62-8088-066803173c86",
   "metadata": {
    "tags": []
   },
   "outputs": [
    {
     "name": "stdout",
     "output_type": "stream",
     "text": [
      "X.shape : torch.Size([4145, 3, 128, 128])\n",
      "X_train.shape : torch.Size([3316, 3, 128, 128])\n",
      "X_test.shape : torch.Size([829, 3, 128, 128])\n"
     ]
    }
   ],
   "source": [
    "print(\"X.shape :\", X.shape)\n",
    "\n",
    "seed = 42\n",
    "X_train, X_test = train_test_split(X, test_size=0.2, random_state=seed)\n",
    "\n",
    "print(\"X_train.shape :\", X_train.shape)\n",
    "print(\"X_test.shape :\", X_test.shape)"
   ]
  },
  {
   "cell_type": "code",
   "execution_count": 8,
   "id": "0f7abe67-cab4-429b-9edb-2132fad2c40b",
   "metadata": {
    "tags": []
   },
   "outputs": [],
   "source": [
    "def show_images(X, n=10, h=28, w=28, latent_vector=False, title=None, plot_type=\"grid\", figsize=(10, 4)):\n",
    "    if plot_type == \"grid\":\n",
    "        num_rows = int(np.ceil(n / 10))\n",
    "        fig, axes = plt.subplots(num_rows, 10, figsize=figsize)\n",
    "        fig.suptitle(title, fontsize=14)\n",
    "        axes = axes.flatten()\n",
    "        for i in range(n):\n",
    "            ax = axes[i]\n",
    "            if latent_vector:\n",
    "                img = X[i].reshape(h, w)\n",
    "            else:\n",
    "                img = np.transpose(X[i], (1, 2, 0))\n",
    "            ax.imshow(img, cmap='gray')\n",
    "            ax.axis('off')\n",
    "    elif plot_type == \"flat\":\n",
    "        fig, axes = plt.subplots(1, n, figsize=figsize)\n",
    "        fig.suptitle(title, fontsize=14)\n",
    "        for i in range(n):\n",
    "            ax = axes[i]\n",
    "            if latent_vector:\n",
    "                img = X[i].reshape(h, w)\n",
    "            else:\n",
    "                img = np.transpose(X[i], (1, 2, 0))\n",
    "            ax.imshow(img, cmap='gray')\n",
    "            ax.axis('off')\n",
    "    plt.show()\n"
   ]
  },
  {
   "cell_type": "code",
   "execution_count": 9,
   "id": "d35ffffe-2ec8-428f-b311-80606bb1257a",
   "metadata": {
    "tags": []
   },
   "outputs": [
    {
     "data": {
      "image/png": "[encoded data removed]",
      "text/plain": [
       "<Figure size 1000x400 with 10 Axes>"
      ]
     },
     "metadata": {},
     "output_type": "display_data"
    },
    {
     "data": {
      "image/png": "[encoded data removed]",
      "text/plain": [
       "<Figure size 1000x400 with 10 Axes>"
      ]
     },
     "metadata": {},
     "output_type": "display_data"
    }
   ],
   "source": [
    "show_images(X_train,  title=\"Train data\", plot_type=\"flat\")\n",
    "show_images(X_test, title=\"Test data\", plot_type=\"flat\")"
   ]
  },
  {
   "cell_type": "markdown",
   "id": "02d073f0-3e39-43f1-afa2-7012e516e84b",
   "metadata": {},
   "source": [
    "# Building Autoencoder"
   ]
  },
  {
   "cell_type": "code",
   "execution_count": 13,
   "id": "27314937-a83f-4f38-9694-fbdbbe4ade1f",
   "metadata": {},
   "outputs": [],
   "source": [
    "device = torch.device(\"cuda\" if torch.cuda.is_available() else \"cpu\")"
   ]
  },
  {
   "cell_type": "code",
   "execution_count": 84,
   "id": "0882c7f5-25ee-4cfa-81d0-936fd74373df",
   "metadata": {
    "tags": []
   },
   "outputs": [],
   "source": [
    "class Autoencoder(nn.Module):\n",
    "    def __init__(self):\n",
    "        super(Autoencoder, self).__init__()\n",
    "\n",
    "        # Encoder\n",
    "        self.encoder = nn.Sequential(\n",
    "            nn.Conv2d(3, 16, kernel_size=3, padding=1),\n",
    "            nn.ReLU(),\n",
    "            nn.MaxPool2d(kernel_size=2, stride=2),\n",
    "            nn.Conv2d(16, 8, kernel_size=3, padding=1),\n",
    "            nn.ReLU(),\n",
    "            nn.MaxPool2d(kernel_size=2, stride=2),\n",
    "            nn.Conv2d(8, 8, kernel_size=3, padding=1),\n",
    "            nn.ReLU(),\n",
    "            nn.MaxPool2d(kernel_size=2, stride=2)\n",
    "        )\n",
    "\n",
    "        # Code (latent vector)\n",
    "        self.code = nn.MaxPool2d(kernel_size=2)\n",
    "\n",
    "        # Decoder\n",
    "        self.decoder = nn.Sequential(\n",
    "            nn.ConvTranspose2d(8, 8, kernel_size=3, padding=1),\n",
    "            nn.ReLU(),\n",
    "            nn.Upsample(scale_factor=2, mode='nearest'),\n",
    "            nn.ConvTranspose2d(8, 8, kernel_size=3, padding=1),\n",
    "            nn.ReLU(),\n",
    "            nn.Upsample(scale_factor=2, mode='nearest'),\n",
    "            nn.ConvTranspose2d(8, 16, kernel_size=3, padding=1),\n",
    "            nn.ReLU(),\n",
    "            nn.Upsample(scale_factor=2, mode='nearest'),\n",
    "            nn.Conv2d(16, 3, kernel_size=3, padding=1)\n",
    "        )\n",
    "\n",
    "    def forward(self, x):\n",
    "        encoded = self.encoder(x)\n",
    "        code = self.code(encoded)\n",
    "        decoded = self.decoder(code)\n",
    "        return decoded"
   ]
  },
  {
   "cell_type": "code",
   "execution_count": 86,
   "id": "a783273d-3724-4975-bbdb-f37a3774c612",
   "metadata": {
    "tags": []
   },
   "outputs": [],
   "source": [
    "X_train = X_train.to(device)\n",
    "X_test = X_test.to(device)\n",
    "\n",
    "train_dataset = torch.utils.data.TensorDataset(X_train, X_train)\n",
    "test_dataset = torch.utils.data.TensorDataset(X_test, X_test)\n",
    "\n",
    "# Define the batch size\n",
    "batch_size = 32\n",
    "\n",
    "# Create data loaders\n",
    "train_loader = DataLoader(train_dataset, batch_size=batch_size, shuffle=True)\n",
    "test_loader = DataLoader(test_dataset, batch_size=batch_size)\n",
    "\n",
    "# Define the autoencoder\n",
    "autoencoder = Autoencoder().to(device)\n",
    "\n",
    "# Define the optimizer and loss func4tion\n",
    "optimizer = optim.Adam(autoencoder.parameters())\n",
    "loss_fn = nn.MSELoss()\n",
    "\n",
    "# Define the number of epochs\n",
    "epochs = 50"
   ]
  },
  {
   "cell_type": "markdown",
   "id": "131fc636-dd38-410b-9000-283c5c1ad770",
   "metadata": {},
   "source": [
    "# Training Loop"
   ]
  },
  {
   "cell_type": "code",
   "execution_count": 87,
   "id": "562b3484-324a-419b-8e54-d1256ac9102d",
   "metadata": {
    "tags": []
   },
   "outputs": [
    {
     "name": "stdout",
     "output_type": "stream",
     "text": [
      "Epoch 1/50 | Train Loss: 0.05269539 | Test Loss: 0.00968952\n",
      "Epoch 2/50 | Train Loss: 0.00637376 | Test Loss: 0.00348797\n",
      "Epoch 3/50 | Train Loss: 0.00262134 | Test Loss: 0.00229076\n"
     ]
    },
    {
     "ename": "KeyboardInterrupt",
     "evalue": "",
     "output_type": "error",
     "traceback": [
      "\u001B[0;31m---------------------------------------------------------------------------\u001B[0m",
      "\u001B[0;31mKeyboardInterrupt\u001B[0m                         Traceback (most recent call last)",
      "Cell \u001B[0;32mIn[87], line 5\u001B[0m\n\u001B[1;32m      3\u001B[0m autoencoder\u001B[38;5;241m.\u001B[39mtrain()\n\u001B[1;32m      4\u001B[0m train_loss \u001B[38;5;241m=\u001B[39m \u001B[38;5;241m0.0\u001B[39m\n\u001B[0;32m----> 5\u001B[0m \u001B[38;5;28;01mfor\u001B[39;00m batch_data, _ \u001B[38;5;129;01min\u001B[39;00m train_loader:\n\u001B[1;32m      6\u001B[0m     \u001B[38;5;66;03m# Resize the target tensors to match the output size\u001B[39;00m\n\u001B[1;32m      7\u001B[0m     target \u001B[38;5;241m=\u001B[39m torch\u001B[38;5;241m.\u001B[39mnn\u001B[38;5;241m.\u001B[39mfunctional\u001B[38;5;241m.\u001B[39minterpolate(batch_data, size\u001B[38;5;241m=\u001B[39m(\u001B[38;5;241m64\u001B[39m, \u001B[38;5;241m64\u001B[39m), mode\u001B[38;5;241m=\u001B[39m\u001B[38;5;124m'\u001B[39m\u001B[38;5;124mbilinear\u001B[39m\u001B[38;5;124m'\u001B[39m, align_corners\u001B[38;5;241m=\u001B[39m\u001B[38;5;28;01mFalse\u001B[39;00m)\n\u001B[1;32m      9\u001B[0m     \u001B[38;5;66;03m# Move data to CUDA device\u001B[39;00m\n",
      "File \u001B[0;32m~/anaconda3/envs/pytorch_p310/lib/python3.10/site-packages/torch/utils/data/dataloader.py:634\u001B[0m, in \u001B[0;36m_BaseDataLoaderIter.__next__\u001B[0;34m(self)\u001B[0m\n\u001B[1;32m    631\u001B[0m \u001B[38;5;28;01mif\u001B[39;00m \u001B[38;5;28mself\u001B[39m\u001B[38;5;241m.\u001B[39m_sampler_iter \u001B[38;5;129;01mis\u001B[39;00m \u001B[38;5;28;01mNone\u001B[39;00m:\n\u001B[1;32m    632\u001B[0m     \u001B[38;5;66;03m# TODO(https://github.com/pytorch/pytorch/issues/76750)\u001B[39;00m\n\u001B[1;32m    633\u001B[0m     \u001B[38;5;28mself\u001B[39m\u001B[38;5;241m.\u001B[39m_reset()  \u001B[38;5;66;03m# type: ignore[call-arg]\u001B[39;00m\n\u001B[0;32m--> 634\u001B[0m data \u001B[38;5;241m=\u001B[39m \u001B[38;5;28;43mself\u001B[39;49m\u001B[38;5;241;43m.\u001B[39;49m\u001B[43m_next_data\u001B[49m\u001B[43m(\u001B[49m\u001B[43m)\u001B[49m\n\u001B[1;32m    635\u001B[0m \u001B[38;5;28mself\u001B[39m\u001B[38;5;241m.\u001B[39m_num_yielded \u001B[38;5;241m+\u001B[39m\u001B[38;5;241m=\u001B[39m \u001B[38;5;241m1\u001B[39m\n\u001B[1;32m    636\u001B[0m \u001B[38;5;28;01mif\u001B[39;00m \u001B[38;5;28mself\u001B[39m\u001B[38;5;241m.\u001B[39m_dataset_kind \u001B[38;5;241m==\u001B[39m _DatasetKind\u001B[38;5;241m.\u001B[39mIterable \u001B[38;5;129;01mand\u001B[39;00m \\\n\u001B[1;32m    637\u001B[0m         \u001B[38;5;28mself\u001B[39m\u001B[38;5;241m.\u001B[39m_IterableDataset_len_called \u001B[38;5;129;01mis\u001B[39;00m \u001B[38;5;129;01mnot\u001B[39;00m \u001B[38;5;28;01mNone\u001B[39;00m \u001B[38;5;129;01mand\u001B[39;00m \\\n\u001B[1;32m    638\u001B[0m         \u001B[38;5;28mself\u001B[39m\u001B[38;5;241m.\u001B[39m_num_yielded \u001B[38;5;241m>\u001B[39m \u001B[38;5;28mself\u001B[39m\u001B[38;5;241m.\u001B[39m_IterableDataset_len_called:\n",
      "File \u001B[0;32m~/anaconda3/envs/pytorch_p310/lib/python3.10/site-packages/torch/utils/data/dataloader.py:678\u001B[0m, in \u001B[0;36m_SingleProcessDataLoaderIter._next_data\u001B[0;34m(self)\u001B[0m\n\u001B[1;32m    676\u001B[0m \u001B[38;5;28;01mdef\u001B[39;00m \u001B[38;5;21m_next_data\u001B[39m(\u001B[38;5;28mself\u001B[39m):\n\u001B[1;32m    677\u001B[0m     index \u001B[38;5;241m=\u001B[39m \u001B[38;5;28mself\u001B[39m\u001B[38;5;241m.\u001B[39m_next_index()  \u001B[38;5;66;03m# may raise StopIteration\u001B[39;00m\n\u001B[0;32m--> 678\u001B[0m     data \u001B[38;5;241m=\u001B[39m \u001B[38;5;28;43mself\u001B[39;49m\u001B[38;5;241;43m.\u001B[39;49m\u001B[43m_dataset_fetcher\u001B[49m\u001B[38;5;241;43m.\u001B[39;49m\u001B[43mfetch\u001B[49m\u001B[43m(\u001B[49m\u001B[43mindex\u001B[49m\u001B[43m)\u001B[49m  \u001B[38;5;66;03m# may raise StopIteration\u001B[39;00m\n\u001B[1;32m    679\u001B[0m     \u001B[38;5;28;01mif\u001B[39;00m \u001B[38;5;28mself\u001B[39m\u001B[38;5;241m.\u001B[39m_pin_memory:\n\u001B[1;32m    680\u001B[0m         data \u001B[38;5;241m=\u001B[39m _utils\u001B[38;5;241m.\u001B[39mpin_memory\u001B[38;5;241m.\u001B[39mpin_memory(data, \u001B[38;5;28mself\u001B[39m\u001B[38;5;241m.\u001B[39m_pin_memory_device)\n",
      "File \u001B[0;32m~/anaconda3/envs/pytorch_p310/lib/python3.10/site-packages/torch/utils/data/_utils/fetch.py:51\u001B[0m, in \u001B[0;36m_MapDatasetFetcher.fetch\u001B[0;34m(self, possibly_batched_index)\u001B[0m\n\u001B[1;32m     49\u001B[0m         data \u001B[38;5;241m=\u001B[39m \u001B[38;5;28mself\u001B[39m\u001B[38;5;241m.\u001B[39mdataset\u001B[38;5;241m.\u001B[39m__getitems__(possibly_batched_index)\n\u001B[1;32m     50\u001B[0m     \u001B[38;5;28;01melse\u001B[39;00m:\n\u001B[0;32m---> 51\u001B[0m         data \u001B[38;5;241m=\u001B[39m [\u001B[38;5;28mself\u001B[39m\u001B[38;5;241m.\u001B[39mdataset[idx] \u001B[38;5;28;01mfor\u001B[39;00m idx \u001B[38;5;129;01min\u001B[39;00m possibly_batched_index]\n\u001B[1;32m     52\u001B[0m \u001B[38;5;28;01melse\u001B[39;00m:\n\u001B[1;32m     53\u001B[0m     data \u001B[38;5;241m=\u001B[39m \u001B[38;5;28mself\u001B[39m\u001B[38;5;241m.\u001B[39mdataset[possibly_batched_index]\n",
      "File \u001B[0;32m~/anaconda3/envs/pytorch_p310/lib/python3.10/site-packages/torch/utils/data/_utils/fetch.py:51\u001B[0m, in \u001B[0;36m<listcomp>\u001B[0;34m(.0)\u001B[0m\n\u001B[1;32m     49\u001B[0m         data \u001B[38;5;241m=\u001B[39m \u001B[38;5;28mself\u001B[39m\u001B[38;5;241m.\u001B[39mdataset\u001B[38;5;241m.\u001B[39m__getitems__(possibly_batched_index)\n\u001B[1;32m     50\u001B[0m     \u001B[38;5;28;01melse\u001B[39;00m:\n\u001B[0;32m---> 51\u001B[0m         data \u001B[38;5;241m=\u001B[39m [\u001B[38;5;28;43mself\u001B[39;49m\u001B[38;5;241;43m.\u001B[39;49m\u001B[43mdataset\u001B[49m\u001B[43m[\u001B[49m\u001B[43midx\u001B[49m\u001B[43m]\u001B[49m \u001B[38;5;28;01mfor\u001B[39;00m idx \u001B[38;5;129;01min\u001B[39;00m possibly_batched_index]\n\u001B[1;32m     52\u001B[0m \u001B[38;5;28;01melse\u001B[39;00m:\n\u001B[1;32m     53\u001B[0m     data \u001B[38;5;241m=\u001B[39m \u001B[38;5;28mself\u001B[39m\u001B[38;5;241m.\u001B[39mdataset[possibly_batched_index]\n",
      "File \u001B[0;32m~/anaconda3/envs/pytorch_p310/lib/python3.10/site-packages/torch/utils/data/dataset.py:196\u001B[0m, in \u001B[0;36mTensorDataset.__getitem__\u001B[0;34m(self, index)\u001B[0m\n\u001B[1;32m    195\u001B[0m \u001B[38;5;28;01mdef\u001B[39;00m \u001B[38;5;21m__getitem__\u001B[39m(\u001B[38;5;28mself\u001B[39m, index):\n\u001B[0;32m--> 196\u001B[0m     \u001B[38;5;28;01mreturn\u001B[39;00m \u001B[38;5;28;43mtuple\u001B[39;49m\u001B[43m(\u001B[49m\u001B[43mtensor\u001B[49m\u001B[43m[\u001B[49m\u001B[43mindex\u001B[49m\u001B[43m]\u001B[49m\u001B[43m \u001B[49m\u001B[38;5;28;43;01mfor\u001B[39;49;00m\u001B[43m \u001B[49m\u001B[43mtensor\u001B[49m\u001B[43m \u001B[49m\u001B[38;5;129;43;01min\u001B[39;49;00m\u001B[43m \u001B[49m\u001B[38;5;28;43mself\u001B[39;49m\u001B[38;5;241;43m.\u001B[39;49m\u001B[43mtensors\u001B[49m\u001B[43m)\u001B[49m\n",
      "File \u001B[0;32m~/anaconda3/envs/pytorch_p310/lib/python3.10/site-packages/torch/utils/data/dataset.py:196\u001B[0m, in \u001B[0;36m<genexpr>\u001B[0;34m(.0)\u001B[0m\n\u001B[1;32m    195\u001B[0m \u001B[38;5;28;01mdef\u001B[39;00m \u001B[38;5;21m__getitem__\u001B[39m(\u001B[38;5;28mself\u001B[39m, index):\n\u001B[0;32m--> 196\u001B[0m     \u001B[38;5;28;01mreturn\u001B[39;00m \u001B[38;5;28mtuple\u001B[39m(tensor[index] \u001B[38;5;28;01mfor\u001B[39;00m tensor \u001B[38;5;129;01min\u001B[39;00m \u001B[38;5;28mself\u001B[39m\u001B[38;5;241m.\u001B[39mtensors)\n",
      "\u001B[0;31mKeyboardInterrupt\u001B[0m: "
     ]
    }
   ],
   "source": [
    "for epoch in range(epochs):\n",
    "    # Training phase\n",
    "    autoencoder.train()\n",
    "    train_loss = 0.0\n",
    "    for batch_data, _ in train_loader:\n",
    "        # Resize the target tensors to match the output size\n",
    "        target = torch.nn.functional.interpolate(batch_data, size=(64, 64), mode='bilinear', align_corners=False)\n",
    "        \n",
    "        # Move data to CUDA device\n",
    "        batch_data = batch_data.to(device)\n",
    "        target = target.to(device)\n",
    "        \n",
    "        # Forward pass\n",
    "        optimizer.zero_grad()\n",
    "        output = autoencoder(batch_data)\n",
    "\n",
    "        # Compute the loss\n",
    "        loss = loss_fn(output, target)\n",
    "        train_loss += loss.item()\n",
    "\n",
    "        # Backward pass and optimization\n",
    "        loss.backward()\n",
    "        optimizer.step()\n",
    "\n",
    "    train_loss /= len(train_loader)\n",
    "\n",
    "    # Evaluation phase\n",
    "    autoencoder.eval()\n",
    "    test_loss = 0.0\n",
    "    with torch.no_grad():\n",
    "        for batch_data, _ in test_loader:\n",
    "            # Resize the target tensors to match the output size\n",
    "            target = torch.nn.functional.interpolate(batch_data, size=(64, 64), mode='bilinear', align_corners=False)\n",
    "            \n",
    "            # Move data to CUDA device\n",
    "            batch_data = batch_data.to(device)\n",
    "            target = target.to(device)\n",
    "            \n",
    "            # Forward pass\n",
    "            output = autoencoder(batch_data)\n",
    "\n",
    "            # Compute the loss\n",
    "            loss = loss_fn(output, target)\n",
    "            test_loss += loss.item()\n",
    "\n",
    "        test_loss /= len(test_loader)\n",
    "\n",
    "    # Print the training progress\n",
    "    print(f\"Epoch {epoch+1}/{epochs} | Train Loss: {train_loss:.8f} | Test Loss: {test_loss:.8f}\")"
   ]
  },
  {
   "cell_type": "code",
   "execution_count": null,
   "id": "15e7fbb6-4f05-437c-80d7-ff0ad04fbc6b",
   "metadata": {
    "tags": []
   },
   "outputs": [],
   "source": [
    "# autoencoder.eval()\n",
    "\n",
    "# # Pass the input data through the encoder to get the latent vectors\n",
    "# with torch.no_grad():\n",
    "#     latent_vectors = autoencoder.encoder(X_train)\n",
    "\n",
    "# # Save the latent vectors\n",
    "# torch.save(latent_vectors, \"Zooplankon_latent_AE.pt\")"
   ]
  },
  {
   "cell_type": "code",
   "execution_count": null,
   "id": "eccd30b1-bf81-4cf9-9be0-48224b9f8a1d",
   "metadata": {
    "tags": []
   },
   "outputs": [],
   "source": [
    "autoencoder.eval()\n",
    "\n",
    "# Pass the input data through the encoder to get the latent vectors\n",
    "with torch.no_grad():\n",
    "    latent_vectors = autoencoder.encoder(X_train)\n",
    "\n",
    "# Reshape the latent vectors for visualization\n",
    "latent_vector = latent_vectors.reshape(len(X_train), -1)\n",
    "\n",
    "# Print the shapes\n",
    "print(\"X_test.shape :\", X_train.shape)\n",
    "print(\"latent_vector.shape :\", latent_vector.shape)"
   ]
  },
  {
   "cell_type": "code",
   "execution_count": null,
   "id": "45ecc2fc-d6b5-4746-82bc-3ac26440df3c",
   "metadata": {
    "tags": []
   },
   "outputs": [],
   "source": [
    "autoencoder.eval()\n",
    "\n",
    "# Pass the latent vectors through the decoder to reconstruct the images\n",
    "with torch.no_grad():\n",
    "    reconstructed_images = autoencoder.decoder(latent_vectors)\n",
    "\n",
    "reconstructed_images = reconstructed_images.cpu()\n",
    "\n",
    "# Clip the pixel values to the valid range of [0, 255]\n",
    "reconstructed_images = torch.clamp(reconstructed_images, 0, 255)\n",
    "\n",
    "# Convert the reconstructed images to numpy array\n",
    "reconstructed_images = reconstructed_images.cpu().numpy()\n",
    "\n",
    "# Show the original images, encoded representation, and reconstructed images\n",
    "show_images(X_train.cpu(), title=\"original images\", plot_type=\"flat\")\n",
    "show_images(latent_vector.cpu(), h=32, w=64, latent_vector=True, title=\"encoded representation\", plot_type=\"flat\")\n",
    "show_images(reconstructed_images, title=\"reconstructed images\", plot_type=\"flat\")"
   ]
  },
  {
   "cell_type": "markdown",
   "id": "7ddd6360-509a-4233-b174-04a5ca38e92d",
   "metadata": {
    "tags": []
   },
   "source": [
    "# Clustering the Latent Space"
   ]
  },
  {
   "cell_type": "code",
   "execution_count": null,
   "id": "7772be65-7e26-461a-a9bf-b01e772fbda5",
   "metadata": {
    "tags": []
   },
   "outputs": [],
   "source": [
    "k = 67\n",
    "random_state = np.random.randint(0, 500)\n",
    "clusters = KMeans(k, random_state=random_state)\n",
    "clusters.fit(latent_vector.cpu())\n",
    "cluster_id = clusters.labels_"
   ]
  },
  {
   "cell_type": "code",
   "execution_count": null,
   "id": "b5b85d95-0e27-44bb-8bcf-90e2edfb6633",
   "metadata": {
    "tags": []
   },
   "outputs": [],
   "source": [
    "print(X_train.shape)"
   ]
  },
  {
   "cell_type": "code",
   "execution_count": null,
   "id": "16169fd2-5af1-49ba-8d6b-0b95c96e6926",
   "metadata": {
    "tags": []
   },
   "outputs": [],
   "source": [
    "df = pd.DataFrame(X_train.cpu().reshape(X_train.shape[0], X_train.shape[1]*X_train.shape[2]*X_train.shape[3]))\n",
    "df[\"clusterid\"] = clusters.labels_\n",
    "df"
   ]
  },
  {
   "cell_type": "code",
   "execution_count": null,
   "id": "5ddb55ad-cda3-4380-a4a8-964b369bbce1",
   "metadata": {
    "tags": []
   },
   "outputs": [],
   "source": [
    "clusters = dict()\n",
    "for cid in df.clusterid.unique():\n",
    "    clusters[cid] = df[df.clusterid == cid].drop(\"clusterid\", axis=\"columns\").to_numpy()"
   ]
  },
  {
   "cell_type": "code",
   "execution_count": null,
   "id": "8184a881-e242-4b30-a2e7-27429b780198",
   "metadata": {
    "tags": []
   },
   "outputs": [],
   "source": [
    "import numpy as np\n",
    "import matplotlib.pyplot as plt\n",
    "\n",
    "def show_random_samples(X, n=12, h=400, w=400, latent_vector=False, title=\"\", figsize=(16, 16), plot_type=\"grid\"):\n",
    "    # Reshape if needed\n",
    "    if X.ndim == 2 and latent_vector:\n",
    "        X = X.reshape(X.shape[0], 3, h, w)\n",
    "    if X.ndim == 2:\n",
    "        X = X.reshape(X.shape[0], 3, h, w)\n",
    "    \n",
    "    # Take random sample\n",
    "    idxs = np.random.randint(len(X), size=n)\n",
    "    \n",
    "    # Create a list to store images from each cluster\n",
    "    cluster_images = [[] for _ in range(n)]\n",
    "    \n",
    "    # Collect images from each cluster\n",
    "    for i, idx in enumerate(idxs):\n",
    "        cluster_images[i % n].append(X[idx])\n",
    "    \n",
    "    # Calculate optimal figsize for horizontal display\n",
    "    image_height = cluster_images[0][0].shape[1]\n",
    "    image_width = cluster_images[0][0].shape[2]\n",
    "    figsize = (figsize[0], (figsize[0] / n) * (image_height / image_width))\n",
    "    \n",
    "    # Plot images horizontally for each cluster\n",
    "    fig, ax = plt.subplots(nrows=1, ncols=n, figsize=figsize)\n",
    "    for i, images in enumerate(cluster_images):\n",
    "        combined_image = np.concatenate(images, axis=2)\n",
    "        ax[i].imshow(combined_image.transpose(1, 2, 0))\n",
    "        ax[i].axis('off')\n",
    "        ax[i].set_aspect('auto')\n",
    "    \n",
    "    # Show plot\n",
    "    plt.suptitle(title, fontsize=20)\n",
    "    plt.tight_layout()\n",
    "    plt.show()\n"
   ]
  },
  {
   "cell_type": "code",
   "execution_count": null,
   "id": "8b461860-efc3-424b-b46c-5e4252aa5182",
   "metadata": {
    "tags": []
   },
   "outputs": [],
   "source": [
    "for cid in sorted(clusters.keys()):\n",
    "    show_random_samples(clusters[cid], h=128, w=128, n=12, title=f\"cluster {cid}\", plot_type=\"grid\")"
   ]
  },
  {
   "cell_type": "code",
   "execution_count": null,
   "id": "6a865459-e122-421e-8961-8f2a4f1325be",
   "metadata": {
    "tags": []
   },
   "outputs": [],
   "source": [
    "import seaborn as sns\n",
    "import numpy as np\n",
    "import pandas as pd\n",
    "from sklearn.manifold import TSNE\n",
    "import matplotlib.pyplot as plt\n",
    "\n",
    "# Assuming you have the `clusters` dictionary containing the cluster data\n",
    "\n",
    "# Concatenate the clusters into a single array\n",
    "concatenated_clusters = np.concatenate(list(clusters.values()))\n",
    "\n",
    "# Create a DataFrame for the concatenated clusters\n",
    "df_concatenated = pd.DataFrame(concatenated_clusters)\n",
    "\n",
    "# Add a column for cluster labels\n",
    "df_concatenated['clusterid'] = np.concatenate([np.full(len(cluster), cid) for cid, cluster in clusters.items()])\n",
    "\n",
    "# Perform t-SNE on the concatenated data\n",
    "tsne = TSNE(n_components=2, random_state=42)\n",
    "tsne_representation = tsne.fit_transform(df_concatenated.drop('clusterid', axis=1))\n",
    "\n",
    "# Create a scatter plot of the t-SNE representation with cluster labels\n",
    "plt.figure(figsize=(8, 6))\n",
    "sns.scatterplot(x=tsne_representation[:, 0], y=tsne_representation[:, 1], hue=df_concatenated['clusterid'], palette='Set1', legend='full')\n",
    "plt.title('t-SNE Plot of All Clusters')\n",
    "plt.xlabel('t-SNE Dimension 1')\n",
    "plt.ylabel('t-SNE Dimension 2')\n",
    "plt.show()\n"
   ]
  },
  {
   "cell_type": "code",
   "execution_count": null,
   "id": "6d9c1f23-1edd-4ad2-9805-bd13a025e90d",
   "metadata": {
    "tags": []
   },
   "outputs": [],
   "source": [
    "labels_df = pd.read_csv(\"All_csv_combined/orignal_annotations.csv\")"
   ]
  },
  {
   "cell_type": "code",
   "execution_count": null,
   "id": "2be624b9-0f7b-4876-bf33-e2ce2c01761d",
   "metadata": {
    "tags": []
   },
   "outputs": [],
   "source": [
    "name_to_label = dict(zip(labels_df[\"2: Video or Image Identifier\"], labels_df[\"10-11+: Repeated Species\"]))"
   ]
  },
  {
   "cell_type": "code",
   "execution_count": null,
   "id": "100a60fb-47cc-4a13-8f13-09976300ad81",
   "metadata": {
    "tags": []
   },
   "outputs": [],
   "source": [
    "pip install fuzzywuzzy"
   ]
  },
  {
   "cell_type": "code",
   "execution_count": null,
   "id": "9222ed06-3300-4c90-991f-0d691b0f788d",
   "metadata": {},
   "outputs": [],
   "source": [
    "# import pandas as pd\n",
    "# from fuzzywuzzy import fuzz\n",
    "\n",
    "# # Load the CSV file containing the image labels\n",
    "# labels_df = pd.read_csv(\"All_csv_combined/orignal_annotations.csv\")\n",
    "\n",
    "# # Create a dictionary to map image names to labels\n",
    "# name_to_label = dict(zip(labels_df[\"2: Video or Image Identifier\"], labels_df[\"10-11+: Repeated Species\"]))\n",
    "\n",
    "# # Print the original labels for each cluster\n",
    "# for cid in sorted(clusters.keys()):\n",
    "#     cluster_images = clusters[cid]\n",
    "#     cluster_labels = []\n",
    "\n",
    "#     for i, image_name in enumerate(cluster_images[:10]):\n",
    "#         # Find the nearest image name in the CSV file using fuzzy string matching\n",
    "#         best_match = max(labels_df[\"2: Video or Image Identifier\"], key=lambda x: fuzz.token_sort_ratio(x, image_name))\n",
    "#         cluster_labels.append(name_to_label.get(best_match, \"Unknown\"))\n",
    "    \n",
    "#     print(f\"Cluster {cid} - Labels: {cluster_labels}\")\n"
   ]
  },
  {
   "cell_type": "markdown",
   "id": "bb1f2bb8-f785-4267-9bd4-1fc68ca940e2",
   "metadata": {
    "tags": []
   },
   "source": [
    "# Estimization-Maximization Clustering"
   ]
  },
  {
   "cell_type": "code",
   "execution_count": null,
   "id": "da898435-9e94-4089-b68b-84d611f9c768",
   "metadata": {
    "tags": []
   },
   "outputs": [],
   "source": [
    "import numpy as np\n",
    "import pandas as pd\n",
    "import matplotlib.pyplot as plt\n",
    "from sklearn.mixture import GaussianMixture\n",
    "\n",
    "# Define the number of clusters and random state\n",
    "k = 67\n",
    "random_state = np.random.randint(0, 500)\n",
    "\n",
    "# Fit Gaussian Mixture Model\n",
    "gmm = GaussianMixture(n_components=k, random_state=random_state)\n",
    "gmm.fit(latent_vector.cpu())\n",
    "cluster_id = gmm.predict(latent_vector.cpu())\n",
    "\n",
    "# Create DataFrame with cluster labels\n",
    "df = pd.DataFrame(X_train.cpu().reshape(X_train.shape[0], X_train.shape[1]*X_train.shape[2]*X_train.shape[3]))\n",
    "df[\"clusterid\"] = cluster_id\n",
    "\n",
    "# Store clusters in a dictionary\n",
    "clusters = dict()\n",
    "for cid in df.clusterid.unique():\n",
    "    clusters[cid] = df[df.clusterid == cid].drop(\"clusterid\", axis=\"columns\").to_numpy()\n",
    "\n",
    "# Function to visualize random samples\n",
    "import numpy as np\n",
    "import matplotlib.pyplot as plt\n",
    "\n",
    "def show_random_samples(X, n=12, h=400, w=400, latent_vector=False, title=\"\", figsize=(16, 16), plot_type=\"grid\"):\n",
    "    # Reshape if needed\n",
    "    if X.ndim == 2 and latent_vector:\n",
    "        X = X.reshape(X.shape[0], 3, h, w)\n",
    "    if X.ndim == 2:\n",
    "        X = X.reshape(X.shape[0], 3, h, w)\n",
    "    \n",
    "    # Take random sample\n",
    "    idxs = np.random.randint(len(X), size=n)\n",
    "    \n",
    "    # Create a list to store images from each cluster\n",
    "    cluster_images = [[] for _ in range(n)]\n",
    "    \n",
    "    # Collect images from each cluster\n",
    "    for i, idx in enumerate(idxs):\n",
    "        cluster_images[i % n].append(X[idx])\n",
    "    \n",
    "    # Calculate optimal figsize for horizontal display\n",
    "    image_height = cluster_images[0][0].shape[1]\n",
    "    image_width = cluster_images[0][0].shape[2]\n",
    "    figsize = (figsize[0], (figsize[0] / n) * (image_height / image_width))\n",
    "    \n",
    "    # Plot images horizontally for each cluster\n",
    "    fig, ax = plt.subplots(nrows=1, ncols=n, figsize=figsize)\n",
    "    for i, images in enumerate(cluster_images):\n",
    "        combined_image = np.concatenate(images, axis=2)\n",
    "        ax[i].imshow(combined_image.transpose(1, 2, 0))\n",
    "        ax[i].axis('off')\n",
    "        ax[i].set_aspect('auto')\n",
    "    \n",
    "    # Show plot\n",
    "    plt.suptitle(title, fontsize=20)\n",
    "    plt.tight_layout()\n",
    "    plt.show()\n",
    "\n",
    "# Visualize clusters\n",
    "for cid in sorted(clusters.keys()):\n",
    "    show_random_samples(clusters[cid], h=128, w=128, n=8, title=f\"cluster {cid}\", plot_type=\"grid\")\n"
   ]
  },
  {
   "cell_type": "code",
   "execution_count": null,
   "id": "f9955835-c759-47df-8d5c-c09c347d73b8",
   "metadata": {
    "tags": []
   },
   "outputs": [],
   "source": [
    "import seaborn as sns\n",
    "import numpy as np\n",
    "import pandas as pd\n",
    "from sklearn.manifold import TSNE\n",
    "import matplotlib.pyplot as plt\n",
    "\n",
    "# Assuming you have the `clusters` dictionary containing the cluster data\n",
    "\n",
    "# Concatenate the clusters into a single array\n",
    "concatenated_clusters = np.concatenate(list(clusters.values()))\n",
    "\n",
    "# Create a DataFrame for the concatenated clusters\n",
    "df_concatenated = pd.DataFrame(concatenated_clusters)\n",
    "\n",
    "# Add a column for cluster labels\n",
    "df_concatenated['clusterid'] = np.concatenate([np.full(len(cluster), cid) for cid, cluster in clusters.items()])\n",
    "\n",
    "# Perform t-SNE on the concatenated data\n",
    "tsne = TSNE(n_components=2, random_state=42)\n",
    "tsne_representation = tsne.fit_transform(df_concatenated.drop('clusterid', axis=1))\n",
    "\n",
    "# Create a scatter plot of the t-SNE representation with cluster labels\n",
    "plt.figure(figsize=(8, 6))\n",
    "sns.scatterplot(x=tsne_representation[:, 0], y=tsne_representation[:, 1], hue=df_concatenated['clusterid'], palette='Set1', legend='full')\n",
    "plt.title('t-SNE Plot of All Clusters')\n",
    "plt.xlabel('t-SNE Dimension 1')\n",
    "plt.ylabel('t-SNE Dimension 2')\n",
    "plt.show()\n"
   ]
  },
  {
   "cell_type": "code",
   "execution_count": null,
   "id": "d9e2ca78-1ffb-4de6-bb01-5f073b104e18",
   "metadata": {},
   "outputs": [],
   "source": []
  },
  {
   "cell_type": "code",
   "execution_count": null,
   "id": "11610ef3-ef58-47a8-8fe4-e3557ac53eac",
   "metadata": {},
   "outputs": [],
   "source": []
  }
 ],
 "metadata": {
  "kernelspec": {
   "display_name": "conda_pytorch_p310",
   "language": "python",
   "name": "conda_pytorch_p310"
  },
  "language_info": {
   "codemirror_mode": {
    "name": "ipython",
    "version": 3
   },
   "file_extension": ".py",
   "mimetype": "text/x-python",
   "name": "python",
   "nbconvert_exporter": "python",
   "pygments_lexer": "ipython3",
   "version": "3.10.10"
  }
 },
 "nbformat": 4,
 "nbformat_minor": 5
}
