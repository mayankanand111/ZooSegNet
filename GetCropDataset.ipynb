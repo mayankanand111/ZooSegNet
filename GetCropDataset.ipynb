{
 "cells": [
  {
   "cell_type": "code",
   "execution_count": 12,
   "id": "4b613dd5-2d0a-4bcc-b0f8-77ab5b230673",
   "metadata": {
    "tags": []
   },
   "outputs": [],
   "source": [
    "import os\n",
    "import torch\n",
    "import torch.nn as nn\n",
    "import pandas as pd\n",
    "import numpy as np\n",
    "from torch.utils.data import Dataset, DataLoader\n",
    "from torchvision import transforms, utils\n",
    "from PIL import Image, UnidentifiedImageError\n",
    "import glob"
   ]
  },
  {
   "cell_type": "code",
   "execution_count": 13,
   "id": "803443ec-ca4d-4f73-910e-dce8e201a780",
   "metadata": {
    "tags": []
   },
   "outputs": [],
   "source": [
    "class CroppedZooplanktonDataset(Dataset):\n",
    "    def __init__(self, csv, root_dir, transform=None):\n",
    "        self.annotations = pd.read_csv(os.path.join(root_dir, csv))\n",
    "        self.root_dir = root_dir\n",
    "        self.transform = transform\n",
    "    \n",
    "    def __len__(self):\n",
    "        return len(self.annotations)\n",
    "    \n",
    "    def __getitem__(self, index):\n",
    "        img_path = os.path.join(self.root_dir, self.annotations.iloc[index, 1])\n",
    "        image = Image.open(img_path).convert('RGB')\n",
    "        \n",
    "        # Extract coordinates for area of interest from the CSV columns\n",
    "        TL_x = self.annotations.iloc[index, 3]  # Top-left x-coordinate\n",
    "        TL_y = self.annotations.iloc[index, 4]  # Top-left y-coordinate\n",
    "        BR_x = self.annotations.iloc[index, 5]  # Bottom-right x-coordinate\n",
    "        BR_y = self.annotations.iloc[index, 6]  # Bottom-right y-coordinate\n",
    "                \n",
    "        cropped_image = image.crop((TL_x, TL_y, BR_x, BR_y))\n",
    "        \n",
    "        y_label = self.annotations.iloc[index, 9]\n",
    "        y_label = 0 if y_label == \"marine-snow\" else 1\n",
    "            \n",
    "        if self.transform:\n",
    "            cropped_image = self.transform(cropped_image)\n",
    "        \n",
    "        return (cropped_image, y_label)"
   ]
  },
  {
   "cell_type": "code",
   "execution_count": 14,
   "id": "24b6a5da-6963-454f-9275-3fb9ff2e4c97",
   "metadata": {
    "tags": []
   },
   "outputs": [],
   "source": [
    "input_folder = '/home/ec2-user/SageMaker/dataset//All_Images/2022-09-19'\n",
    "output_folder = '/home/ec2-user/SageMaker/dataset/cropped'"
   ]
  },
  {
   "cell_type": "code",
   "execution_count": 15,
   "id": "53bef13e-96ba-40f6-ae17-73aa3c43d3da",
   "metadata": {
    "tags": []
   },
   "outputs": [],
   "source": [
    "os.makedirs(output_folder, exist_ok=True)"
   ]
  },
  {
   "cell_type": "code",
   "execution_count": 16,
   "id": "64044473-8579-4695-a7dd-b3903c817366",
   "metadata": {
    "tags": []
   },
   "outputs": [],
   "source": [
    "#apply transformation only if you are extracting uncropped images.\n",
    "data_transform = transforms.Compose([\n",
    "    transforms.Resize((224, 224))\n",
    "])"
   ]
  },
  {
   "cell_type": "code",
   "execution_count": 17,
   "id": "e88c53f5-87e0-498f-a007-d38b2633881c",
   "metadata": {
    "tags": []
   },
   "outputs": [],
   "source": [
    "dataset = CroppedZooplanktonDataset(csv='/home/ec2-user/SageMaker/dataset/All_Images/2022-09-19/2022-09-19_4.csv', root_dir=input_folder, transform=\n",
    "                                   data_transform)"
   ]
  },
  {
   "cell_type": "code",
   "execution_count": 18,
   "id": "c96e6588-872d-45b4-9dce-731a90f8eb24",
   "metadata": {
    "tags": []
   },
   "outputs": [],
   "source": [
    "# Thsi is sused to save image if same name comes again append with 1\n",
    "counter = 1\n",
    "for i in range(len(dataset)):\n",
    "    cropped_image, _ = dataset[i]  # cropped image\n",
    "    image_name = dataset.annotations.iloc[i, 1]  # image name\n",
    "    base_name, ext = os.path.splitext(image_name)\n",
    "    output_path = os.path.join(output_folder, f\"{base_name}_{counter}{ext}\")\n",
    "    counter += 1\n",
    "    cropped_image.save(output_path)\n"
   ]
  },
  {
   "cell_type": "markdown",
   "id": "a6ae8376-6b37-4631-86d0-584932125555",
   "metadata": {},
   "source": [
    "remeber we have saved images without transform so we have to apply transformation in the dataloader"
   ]
  },
  {
   "cell_type": "markdown",
   "id": "1cf4d208-012e-4260-8da1-5cbd09d4edaf",
   "metadata": {
    "tags": []
   },
   "source": [
    "# Below is used to combine all csv into one "
   ]
  },
  {
   "cell_type": "code",
   "execution_count": 12,
   "id": "3e7bf782-40dd-42d9-a2fb-759c7d1a127c",
   "metadata": {
    "tags": []
   },
   "outputs": [
    {
     "data": {
      "text/plain": [
       "'/home/ec2-user/SageMaker'"
      ]
     },
     "execution_count": 12,
     "metadata": {},
     "output_type": "execute_result"
    }
   ],
   "source": [
    "pwd"
   ]
  },
  {
   "cell_type": "code",
   "execution_count": 13,
   "id": "f6e32ab5-6384-4136-90bc-66b390d9e7a1",
   "metadata": {
    "tags": []
   },
   "outputs": [],
   "source": [
    "path = '/home/ec2-user/SageMaker/dataset/2022-09-08/'"
   ]
  },
  {
   "cell_type": "code",
   "execution_count": 14,
   "id": "5d8cd0d1-9d65-4a70-b492-b4a686c7ce8b",
   "metadata": {
    "tags": []
   },
   "outputs": [],
   "source": [
    "all_files = glob.glob(path + \"*.csv\")"
   ]
  },
  {
   "cell_type": "code",
   "execution_count": 15,
   "id": "36149649-dbcb-44d9-b202-f870f7d6e501",
   "metadata": {
    "tags": []
   },
   "outputs": [
    {
     "data": {
      "text/plain": [
       "['/home/ec2-user/SageMaker/dataset/2022-09-08/2022_09_08_1.csv',\n",
       " '/home/ec2-user/SageMaker/dataset/2022-09-08/2022-09-08_2.csv']"
      ]
     },
     "execution_count": 15,
     "metadata": {},
     "output_type": "execute_result"
    }
   ],
   "source": [
    "all_files"
   ]
  },
  {
   "cell_type": "code",
   "execution_count": 16,
   "id": "54ac44a2-0a2e-491b-9631-df90bbe879e0",
   "metadata": {
    "tags": []
   },
   "outputs": [],
   "source": [
    "dataframes = []"
   ]
  },
  {
   "cell_type": "code",
   "execution_count": 17,
   "id": "90c177d2-f425-4837-a2c4-d35858e652b6",
   "metadata": {
    "tags": []
   },
   "outputs": [],
   "source": [
    "for i, file in enumerate(all_files):\n",
    "    df = pd.read_csv(file)\n",
    "    if i == 0:\n",
    "        dataframes.append(df)  # Append header from the first file\n",
    "    else:\n",
    "        dataframes.append(df[1:])"
   ]
  },
  {
   "cell_type": "code",
   "execution_count": 18,
   "id": "bb6f6310-6fcf-44e0-86ea-1c2de24ffcab",
   "metadata": {
    "tags": []
   },
   "outputs": [],
   "source": [
    "combined_df = pd.concat(dataframes, ignore_index=True)"
   ]
  },
  {
   "cell_type": "code",
   "execution_count": 19,
   "id": "3f9d6a04-2608-4e11-a30c-ad4fd1331e26",
   "metadata": {
    "tags": []
   },
   "outputs": [],
   "source": [
    "output_path = '/home/ec2-user/SageMaker/dataset/2022-09-08/combined.csv'"
   ]
  },
  {
   "cell_type": "code",
   "execution_count": 20,
   "id": "73c8ce66-3408-4179-98f9-a9f6f3fbff38",
   "metadata": {
    "tags": []
   },
   "outputs": [],
   "source": [
    "combined_df.to_csv(output_path, index=False)"
   ]
  },
  {
   "cell_type": "code",
   "execution_count": null,
   "id": "144aab26-6498-4b93-baa6-b5511a8e0108",
   "metadata": {},
   "outputs": [],
   "source": []
  }
 ],
 "metadata": {
  "kernelspec": {
   "display_name": "conda_amazonei_pytorch_latest_p37",
   "language": "python",
   "name": "conda_amazonei_pytorch_latest_p37"
  },
  "language_info": {
   "codemirror_mode": {
    "name": "ipython",
    "version": 3
   },
   "file_extension": ".py",
   "mimetype": "text/x-python",
   "name": "python",
   "nbconvert_exporter": "python",
   "pygments_lexer": "ipython3",
   "version": "3.7.10"
  }
 },
 "nbformat": 4,
 "nbformat_minor": 5
}
