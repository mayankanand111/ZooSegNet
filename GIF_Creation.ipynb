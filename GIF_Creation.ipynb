{
 "cells": [
  {
   "cell_type": "code",
   "execution_count": 8,
   "id": "e2587de4-d811-4ff8-b38a-14cbe48d9e8c",
   "metadata": {
    "tags": []
   },
   "outputs": [
    {
     "name": "stdout",
     "output_type": "stream",
     "text": [
      "GIF saved at Inference/resized.gif\n"
     ]
    }
   ],
   "source": [
    "import os\n",
    "import random\n",
    "from PIL import Image\n",
    "import torchvision.transforms as transforms\n",
    "\n",
    "images_folder = \"Inference/Dataset\"\n",
    "output_folder = \"Inference/\"\n",
    "os.makedirs(output_folder, exist_ok=True)\n",
    "\n",
    "image_paths = sorted([os.path.join(images_folder, fname) for fname in os.listdir(images_folder) if fname.endswith('.png')])\n",
    "\n",
    "# Shuffle the image paths and select the first 30\n",
    "random.shuffle(image_paths)\n",
    "selected_image_paths = image_paths[:30]\n",
    "\n",
    "transform = transforms.Compose([\n",
    "    transforms.Resize((500, 500)),  # Resize to 500x500\n",
    "])\n",
    "\n",
    "images = [Image.open(image_path) for image_path in selected_image_paths]\n",
    "\n",
    "# Apply the transformation to each image\n",
    "images = [transform(image) for image in images]\n",
    "\n",
    "gif_path = os.path.join(output_folder, \"resized.gif\")\n",
    "images[0].save(\n",
    "    gif_path,\n",
    "    save_all=True,\n",
    "    append_images=images[1:],\n",
    "    duration=200,  # Adjust the duration as needed (in milliseconds)\n",
    "    loop=0  # 0 means loop forever\n",
    ")\n",
    "print(f\"GIF saved at {gif_path}\")\n"
   ]
  },
  {
   "cell_type": "code",
   "execution_count": 7,
   "id": "c5bd107f-8027-4b3e-bec2-6a3d4d4d395a",
   "metadata": {
    "tags": []
   },
   "outputs": [
    {
     "name": "stdout",
     "output_type": "stream",
     "text": [
      "GIF saved at Inference/cropped.gif\n"
     ]
    }
   ],
   "source": [
    "import os\n",
    "import random\n",
    "from PIL import Image\n",
    "import torchvision.transforms as transforms\n",
    "import imageio\n",
    "\n",
    "images_folder = \"dataset/cropped\"\n",
    "output_folder = \"Inference/\"\n",
    "os.makedirs(output_folder, exist_ok=True)\n",
    "\n",
    "image_paths = sorted([os.path.join(images_folder, fname) for fname in os.listdir(images_folder) if fname.endswith('.png')])\n",
    "\n",
    "# Shuffle the image paths and select the first 30\n",
    "random.shuffle(image_paths)\n",
    "selected_image_paths = image_paths[:30]\n",
    "\n",
    "transform = transforms.Compose([\n",
    "    transforms.Resize((500, 500)),\n",
    "])\n",
    "\n",
    "images = [Image.open(image_path) for image_path in selected_image_paths]\n",
    "\n",
    "# Convert RGBA images to RGB\n",
    "images = [image.convert('RGB') if image.mode == 'RGBA' else image for image in images]\n",
    "\n",
    "gif_path = os.path.join(output_folder, \"cropped.gif\")\n",
    "images[0].save(\n",
    "    gif_path,\n",
    "    save_all=True,\n",
    "    append_images=images[1:],\n",
    "    duration=200,  # Adjust the duration as needed (in milliseconds)\n",
    "    loop=0  # 0 means loop forever\n",
    ")\n",
    "print(f\"GIF saved at {gif_path}\")\n"
   ]
  },
  {
   "cell_type": "code",
   "execution_count": null,
   "id": "d49b9e06-d59c-4dc1-b770-5c481907453c",
   "metadata": {},
   "outputs": [],
   "source": [
    "Inference/Detected/segmentedresults"
   ]
  },
  {
   "cell_type": "code",
   "execution_count": null,
   "id": "7a218c12-8663-4e6c-99d8-811e510b43f4",
   "metadata": {},
   "outputs": [],
   "source": [
    "Inference/UnModified_prediction.csv"
   ]
  },
  {
   "cell_type": "code",
   "execution_count": 3,
   "id": "32fc8d2c-d79e-420e-962e-8e05e594c8a9",
   "metadata": {
    "tags": []
   },
   "outputs": [
    {
     "name": "stderr",
     "output_type": "stream",
     "text": [
      "/tmp/ipykernel_1648/698039660.py:38: DeprecationWarning: Starting with ImageIO v3 the behavior of this function will switch to that of iio.v3.imread. To keep the current behavior (and make this warning disappear) use `import imageio.v2 as imageio` or call `imageio.v2.imread` directly.\n",
      "  images = [imageio.imread(os.path.join(destination_folder, img)) for img in images_to_include]\n"
     ]
    }
   ],
   "source": [
    "import csv\n",
    "import os\n",
    "import imageio\n",
    "import shutil\n",
    "\n",
    "# 1. Read the CSV file to get a list of images with label 'NotDetected'\n",
    "csv_file = 'Inference/UnModified_prediction.csv'\n",
    "included_images = []\n",
    "\n",
    "with open(csv_file, 'r') as file:\n",
    "    reader = csv.reader(file)\n",
    "    next(reader)  # skip the header row if it exists\n",
    "    for row in reader:\n",
    "        image_name, label = row\n",
    "        if label == 'NotDetected':\n",
    "            included_images.append(image_name)\n",
    "\n",
    "# 2. Scan the folder for all image files\n",
    "folder_path = 'Inference/Detected/segmentedresults'\n",
    "all_images = [img for img in os.listdir(folder_path) if img.endswith(('.png', '.jpg', '.jpeg'))]\n",
    "\n",
    "# 3. Filter out the images\n",
    "images_to_include = [img for img in all_images if img in included_images]\n",
    "\n",
    "# Before making the GIF, copy all these images to a new folder\n",
    "destination_folder = 'Inference/GIFImages'\n",
    "if not os.path.exists(destination_folder):\n",
    "    os.makedirs(destination_folder)\n",
    "\n",
    "for img in images_to_include:\n",
    "    shutil.copy(os.path.join(folder_path, img), destination_folder)\n",
    "\n",
    "# Empty the original folder\n",
    "for img in images_to_include:\n",
    "    os.remove(os.path.join(folder_path, img))\n",
    "\n",
    "# 4 & 5. Convert the filtered images into a GIF and Save\n",
    "images = [imageio.imread(os.path.join(destination_folder, img)) for img in images_to_include]\n",
    "imageio.mimsave('output.gif', images, duration=0.5)  # 0.5 seconds per image, adjust as needed\n"
   ]
  },
  {
   "cell_type": "code",
   "execution_count": 7,
   "id": "23add63f-16c5-4176-9adf-1a135c594cca",
   "metadata": {
    "tags": []
   },
   "outputs": [
    {
     "name": "stderr",
     "output_type": "stream",
     "text": [
      "/tmp/ipykernel_1648/2023244572.py:11: DeprecationWarning: Starting with ImageIO v3 the behavior of this function will switch to that of iio.v3.imread. To keep the current behavior (and make this warning disappear) use `import imageio.v2 as imageio` or call `imageio.v2.imread` directly.\n",
      "  images = [imageio.imread(os.path.join(destination_folder, img)) for img in all_images_in_destination]\n"
     ]
    }
   ],
   "source": [
    "import os\n",
    "import imageio\n",
    "\n",
    "# Define the path to the directory where images were saved\n",
    "destination_folder = 'Inference/GIFImages'\n",
    "\n",
    "# List all images in the destination folder\n",
    "all_images_in_destination = [img for img in os.listdir(destination_folder) if img.endswith(('.png', '.jpg', '.jpeg'))]\n",
    "\n",
    "# Read these images and save them as a GIF\n",
    "images = [imageio.imread(os.path.join(destination_folder, img)) for img in all_images_in_destination]\n",
    "imageio.mimsave('output.gif', images, duration=0.5, loop=0)  # 0.5 seconds per image, adjust as needed, looped indefinitely\n"
   ]
  },
  {
   "cell_type": "code",
   "execution_count": null,
   "id": "b4617ee3-f25a-472d-8903-346f56f82f92",
   "metadata": {},
   "outputs": [],
   "source": []
  }
 ],
 "metadata": {
  "kernelspec": {
   "display_name": "conda_pytorch_p310",
   "language": "python",
   "name": "conda_pytorch_p310"
  },
  "language_info": {
   "codemirror_mode": {
    "name": "ipython",
    "version": 3
   },
   "file_extension": ".py",
   "mimetype": "text/x-python",
   "name": "python",
   "nbconvert_exporter": "python",
   "pygments_lexer": "ipython3",
   "version": "3.10.10"
  }
 },
 "nbformat": 4,
 "nbformat_minor": 5
}
