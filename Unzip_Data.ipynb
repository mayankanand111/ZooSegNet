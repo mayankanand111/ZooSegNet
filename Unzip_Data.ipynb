{
 "cells": [
  {
   "cell_type": "code",
   "execution_count": 1,
   "id": "7a83f2dc",
   "metadata": {
    "tags": []
   },
   "outputs": [
    {
     "data": {
      "text/plain": [
       "'/home/ec2-user/SageMaker'"
      ]
     },
     "execution_count": 1,
     "metadata": {},
     "output_type": "execute_result"
    }
   ],
   "source": [
    "pwd"
   ]
  },
  {
   "cell_type": "code",
   "execution_count": 2,
   "id": "bfa9d0d4",
   "metadata": {
    "tags": []
   },
   "outputs": [
    {
     "name": "stdout",
     "output_type": "stream",
     "text": [
      "2022-09-08_extract_chips_from_detections.bat  exploratory_analysis.ipynb\n",
      "2022-09-08.zip                                \u001B[0m\u001B[01;34mlost+found\u001B[0m/\n",
      "2022-09-11.zip                                \u001B[01;34m__MACOSX\u001B[0m/\n",
      "2022-09-19.zip                                pipeline.ipynb\n",
      "\u001B[01;34mcheckpoints\u001B[0m/                                  Unzip_Data.ipynb\n",
      "\u001B[01;34mdataset\u001B[0m/                                      Unzip_from_S3.ipynb\n"
     ]
    }
   ],
   "source": [
    "ls"
   ]
  },
  {
   "cell_type": "code",
   "execution_count": 3,
   "id": "70543f0e",
   "metadata": {
    "tags": []
   },
   "outputs": [],
   "source": [
    "import os\n",
    "os.environ['UNZIP_DISABLE_ZIPBOMB_DETECTION'] = 'TRUE'\n"
   ]
  },
  {
   "cell_type": "code",
   "execution_count": 14,
   "id": "dc6f71dc",
   "metadata": {
    "scrolled": true,
    "tags": []
   },
   "outputs": [
    {
     "name": "stdout",
     "output_type": "stream",
     "text": [
      "Archive:  /home/ec2-user/SageMaker/2022-09-11.zip\n",
      "replace /home/ec2-user/SageMaker/dataset/2022-09-11/soloAUV 20220911-163712-165.png? [y]es, [n]o, [A]ll, [N]one, [r]ename: ^C\n"
     ]
    }
   ],
   "source": [
    "!unzip /home/ec2-user/SageMaker/2022-09-19.zip  -d /home/ec2-user/SageMaker/dataset"
   ]
  },
  {
   "cell_type": "code",
   "execution_count": null,
   "id": "ecb74a95",
   "metadata": {},
   "outputs": [],
   "source": []
  }
 ],
 "metadata": {
  "kernelspec": {
   "display_name": "conda_pytorch_p39",
   "language": "python",
   "name": "conda_pytorch_p39"
  },
  "language_info": {
   "codemirror_mode": {
    "name": "ipython",
    "version": 3
   },
   "file_extension": ".py",
   "mimetype": "text/x-python",
   "name": "python",
   "nbconvert_exporter": "python",
   "pygments_lexer": "ipython3",
   "version": "3.9.15"
  }
 },
 "nbformat": 4,
 "nbformat_minor": 5
}
