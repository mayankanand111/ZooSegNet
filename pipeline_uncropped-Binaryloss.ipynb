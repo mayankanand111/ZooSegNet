{
 "cells": [
  {
   "cell_type": "markdown",
   "id": "632bc5c7-3383-479b-bc2b-053037e66c18",
   "metadata": {
    "tags": []
   },
   "source": [
    "# Imports"
   ]
  },
  {
   "cell_type": "code",
   "execution_count": 29,
   "id": "a66df1e2-3718-4cfe-83de-61750940bbe7",
   "metadata": {
    "tags": []
   },
   "outputs": [
    {
     "name": "stdout",
     "output_type": "stream",
     "text": [
      "Looking in indexes: https://pypi.org/simple, https://pip.repos.neuron.amazonaws.com\n",
      "Requirement already satisfied: tensorboard in /home/ec2-user/anaconda3/envs/pytorch_p310/lib/python3.10/site-packages (2.13.0)\n",
      "Requirement already satisfied: absl-py>=0.4 in /home/ec2-user/anaconda3/envs/pytorch_p310/lib/python3.10/site-packages (from tensorboard) (1.4.0)\n",
      "Requirement already satisfied: grpcio>=1.48.2 in /home/ec2-user/anaconda3/envs/pytorch_p310/lib/python3.10/site-packages (from tensorboard) (1.56.2)\n",
      "Requirement already satisfied: google-auth<3,>=1.6.3 in /home/ec2-user/anaconda3/envs/pytorch_p310/lib/python3.10/site-packages (from tensorboard) (2.22.0)\n",
      "Requirement already satisfied: google-auth-oauthlib<1.1,>=0.5 in /home/ec2-user/anaconda3/envs/pytorch_p310/lib/python3.10/site-packages (from tensorboard) (1.0.0)\n",
      "Requirement already satisfied: markdown>=2.6.8 in /home/ec2-user/anaconda3/envs/pytorch_p310/lib/python3.10/site-packages (from tensorboard) (3.4.4)\n",
      "Requirement already satisfied: numpy>=1.12.0 in /home/ec2-user/anaconda3/envs/pytorch_p310/lib/python3.10/site-packages (from tensorboard) (1.24.3)\n",
      "Requirement already satisfied: protobuf>=3.19.6 in /home/ec2-user/anaconda3/envs/pytorch_p310/lib/python3.10/site-packages (from tensorboard) (3.20.3)\n",
      "Requirement already satisfied: requests<3,>=2.21.0 in /home/ec2-user/anaconda3/envs/pytorch_p310/lib/python3.10/site-packages (from tensorboard) (2.29.0)\n",
      "Requirement already satisfied: setuptools>=41.0.0 in /home/ec2-user/anaconda3/envs/pytorch_p310/lib/python3.10/site-packages (from tensorboard) (67.7.2)\n",
      "Requirement already satisfied: tensorboard-data-server<0.8.0,>=0.7.0 in /home/ec2-user/anaconda3/envs/pytorch_p310/lib/python3.10/site-packages (from tensorboard) (0.7.1)\n",
      "Requirement already satisfied: werkzeug>=1.0.1 in /home/ec2-user/anaconda3/envs/pytorch_p310/lib/python3.10/site-packages (from tensorboard) (2.3.4)\n",
      "Requirement already satisfied: wheel>=0.26 in /home/ec2-user/anaconda3/envs/pytorch_p310/lib/python3.10/site-packages (from tensorboard) (0.40.0)\n",
      "Requirement already satisfied: cachetools<6.0,>=2.0.0 in /home/ec2-user/anaconda3/envs/pytorch_p310/lib/python3.10/site-packages (from google-auth<3,>=1.6.3->tensorboard) (5.3.1)\n",
      "Requirement already satisfied: pyasn1-modules>=0.2.1 in /home/ec2-user/anaconda3/envs/pytorch_p310/lib/python3.10/site-packages (from google-auth<3,>=1.6.3->tensorboard) (0.3.0)\n",
      "Requirement already satisfied: rsa<5,>=3.1.4 in /home/ec2-user/anaconda3/envs/pytorch_p310/lib/python3.10/site-packages (from google-auth<3,>=1.6.3->tensorboard) (4.7.2)\n",
      "Requirement already satisfied: six>=1.9.0 in /home/ec2-user/anaconda3/envs/pytorch_p310/lib/python3.10/site-packages (from google-auth<3,>=1.6.3->tensorboard) (1.16.0)\n",
      "Requirement already satisfied: urllib3<2.0 in /home/ec2-user/anaconda3/envs/pytorch_p310/lib/python3.10/site-packages (from google-auth<3,>=1.6.3->tensorboard) (1.26.14)\n",
      "Requirement already satisfied: requests-oauthlib>=0.7.0 in /home/ec2-user/anaconda3/envs/pytorch_p310/lib/python3.10/site-packages (from google-auth-oauthlib<1.1,>=0.5->tensorboard) (1.3.1)\n",
      "Requirement already satisfied: charset-normalizer<4,>=2 in /home/ec2-user/anaconda3/envs/pytorch_p310/lib/python3.10/site-packages (from requests<3,>=2.21.0->tensorboard) (3.1.0)\n",
      "Requirement already satisfied: idna<4,>=2.5 in /home/ec2-user/anaconda3/envs/pytorch_p310/lib/python3.10/site-packages (from requests<3,>=2.21.0->tensorboard) (3.4)\n",
      "Requirement already satisfied: certifi>=2017.4.17 in /home/ec2-user/anaconda3/envs/pytorch_p310/lib/python3.10/site-packages (from requests<3,>=2.21.0->tensorboard) (2023.5.7)\n",
      "Requirement already satisfied: MarkupSafe>=2.1.1 in /home/ec2-user/anaconda3/envs/pytorch_p310/lib/python3.10/site-packages (from werkzeug>=1.0.1->tensorboard) (2.1.2)\n",
      "Requirement already satisfied: pyasn1<0.6.0,>=0.4.6 in /home/ec2-user/anaconda3/envs/pytorch_p310/lib/python3.10/site-packages (from pyasn1-modules>=0.2.1->google-auth<3,>=1.6.3->tensorboard) (0.4.8)\n",
      "Requirement already satisfied: oauthlib>=3.0.0 in /home/ec2-user/anaconda3/envs/pytorch_p310/lib/python3.10/site-packages (from requests-oauthlib>=0.7.0->google-auth-oauthlib<1.1,>=0.5->tensorboard) (3.2.2)\n",
      "Looking in indexes: https://pypi.org/simple, https://pip.repos.neuron.amazonaws.com\n",
      "Requirement already satisfied: torch_optimizer in /home/ec2-user/anaconda3/envs/pytorch_p310/lib/python3.10/site-packages (0.3.0)\n",
      "Requirement already satisfied: torch>=1.5.0 in /home/ec2-user/anaconda3/envs/pytorch_p310/lib/python3.10/site-packages (from torch_optimizer) (2.0.0)\n",
      "Requirement already satisfied: pytorch-ranger>=0.1.1 in /home/ec2-user/anaconda3/envs/pytorch_p310/lib/python3.10/site-packages (from torch_optimizer) (0.1.1)\n",
      "Requirement already satisfied: filelock in /home/ec2-user/anaconda3/envs/pytorch_p310/lib/python3.10/site-packages (from torch>=1.5.0->torch_optimizer) (3.12.0)\n",
      "Requirement already satisfied: typing-extensions in /home/ec2-user/anaconda3/envs/pytorch_p310/lib/python3.10/site-packages (from torch>=1.5.0->torch_optimizer) (4.5.0)\n",
      "Requirement already satisfied: sympy in /home/ec2-user/anaconda3/envs/pytorch_p310/lib/python3.10/site-packages (from torch>=1.5.0->torch_optimizer) (1.11.1)\n",
      "Requirement already satisfied: networkx in /home/ec2-user/anaconda3/envs/pytorch_p310/lib/python3.10/site-packages (from torch>=1.5.0->torch_optimizer) (3.1)\n",
      "Requirement already satisfied: jinja2 in /home/ec2-user/anaconda3/envs/pytorch_p310/lib/python3.10/site-packages (from torch>=1.5.0->torch_optimizer) (3.1.2)\n",
      "Requirement already satisfied: MarkupSafe>=2.0 in /home/ec2-user/anaconda3/envs/pytorch_p310/lib/python3.10/site-packages (from jinja2->torch>=1.5.0->torch_optimizer) (2.1.2)\n",
      "Requirement already satisfied: mpmath>=0.19 in /home/ec2-user/anaconda3/envs/pytorch_p310/lib/python3.10/site-packages (from sympy->torch>=1.5.0->torch_optimizer) (1.3.0)\n"
     ]
    }
   ],
   "source": [
    "!pip install tensorboard\n",
    "!pip install torch_optimizer"
   ]
  },
  {
   "cell_type": "code",
   "execution_count": 30,
   "id": "7a543005-cabc-41ad-8649-287c81ca6ed0",
   "metadata": {
    "tags": []
   },
   "outputs": [],
   "source": [
    "import os\n",
    "import torch\n",
    "import torch.nn as nn\n",
    "import torch.nn.functional as F\n",
    "import pandas as pd\n",
    "# from skimage import io,transform,img_as_ubyte\n",
    "import numpy as np\n",
    "import matplotlib.pyplot as plt\n",
    "import matplotlib.patches as patches\n",
    "from torch.utils.data import Dataset, DataLoader\n",
    "from torchvision import transforms, utils\n",
    "from PIL import Image\n",
    "from tqdm import tqdm\n",
    "import torch.optim as optim\n",
    "import math\n",
    "import time\n",
    "from datetime import datetime\n",
    "import shutil\n",
    "import tensorboard\n",
    "from torch.utils.tensorboard import SummaryWriter\n",
    "from torchvision.utils import make_grid\n",
    "import torchvision.transforms.functional as TF\n",
    "from PIL import Image, ImageDraw, ImageFont\n",
    "import torchvision.utils as vutils\n",
    "from torchvision.transforms.functional import to_pil_image\n",
    "from sklearn.metrics import confusion_matrix\n",
    "import itertools\n",
    "import torch.distributed as dist\n",
    "import torch.multiprocessing as mp\n",
    "from sklearn.model_selection import train_test_split\n",
    "from torch_optimizer import Lookahead"
   ]
  },
  {
   "cell_type": "markdown",
   "id": "ca5f05bc-d0b6-4be3-9952-98b92c3fa7ed",
   "metadata": {
    "tags": []
   },
   "source": [
    "# Dataset and dataloaders"
   ]
  },
  {
   "cell_type": "code",
   "execution_count": 31,
   "id": "77b8ced9-17b3-4796-a75b-417ec9e73c37",
   "metadata": {
    "tags": []
   },
   "outputs": [],
   "source": [
    "class ZooplanktonDataset(Dataset):\n",
    "    def __init__(self, csv, cropped_image_folder, transform=None):\n",
    "        self.annotations = pd.read_csv(csv)\n",
    "        self.cropped_image_folder = cropped_image_folder\n",
    "        self.transform = transform\n",
    "        self.labels = np.array(self.annotations.iloc[:, 1])\n",
    "    \n",
    "    def __len__(self):\n",
    "        return len(self.annotations)\n",
    "    \n",
    "    def __getitem__(self, index):\n",
    "        img_name = self.annotations.iloc[index, 0]\n",
    "        cropped_img_path = os.path.join(self.cropped_image_folder, img_name)\n",
    "        \n",
    "        image = Image.open(cropped_img_path).convert('RGB')\n",
    "        \n",
    "        y_label = self.annotations.iloc[index, 1]\n",
    "            \n",
    "        if self.transform:\n",
    "            image = self.transform(image)\n",
    "        \n",
    "        return image, y_label\n"
   ]
  },
  {
   "cell_type": "code",
   "execution_count": 32,
   "id": "e8af52db-116d-4f52-bae8-10ad16f0a976",
   "metadata": {
    "tags": []
   },
   "outputs": [],
   "source": [
    "# # Downsampleing Majority class\n",
    "\n",
    "# from sklearn.utils import resample\n",
    "# class ZooplanktonDataset(Dataset):\n",
    "#     def __init__(self, csv, cropped_image_folder, transform=None):\n",
    "#         self.labels = pd.read_csv(csv)  \n",
    "#         self.cropped_image_folder = cropped_image_folder\n",
    "#         self.transform = transform\n",
    "        \n",
    "#         # Separate samples for classes 0 and 1\n",
    "#         class_0_samples = self.labels[self.labels['Label'] == 0]\n",
    "#         class_1_samples = self.labels[self.labels['Label'] == 1]\n",
    "        \n",
    "#         # Downsample class 0 to match the size of class 1\n",
    "#         class_0_downsampled = resample(class_0_samples,\n",
    "#                                        replace=False,  # Without replacement\n",
    "#                                        n_samples=len(class_1_samples),\n",
    "#                                        random_state=42)  # For reproducibility\n",
    "        \n",
    "#         # Concatenate downsampled class 0 and class 1 samples\n",
    "#         self.labels = pd.concat([class_0_downsampled, class_1_samples])\n",
    "#         self.labels = self.labels.sample(frac=1).reset_index(drop=True)  # Shuffle\n",
    "        \n",
    "#     def __len__(self):\n",
    "#         return len(self.labels)\n",
    "    \n",
    "#     def __getitem__(self, index):\n",
    "#         img_name = self.labels.iloc[index, 0]  # Change from self.annotations to self.labels\n",
    "#         cropped_img_path = os.path.join(self.cropped_image_folder, img_name)\n",
    "        \n",
    "#         image = Image.open(cropped_img_path).convert('RGB')\n",
    "        \n",
    "#         y_label = self.labels.iloc[index, 1]  # Change from self.annotations to self.labels\n",
    "            \n",
    "#         if self.transform:\n",
    "#             image = self.transform(image)\n",
    "        \n",
    "#         return image, y_label\n"
   ]
  },
  {
   "cell_type": "code",
   "execution_count": 33,
   "id": "a273a85c-fe78-4ae8-8198-d2570efb8c8f",
   "metadata": {
    "tags": []
   },
   "outputs": [],
   "source": [
    "# # Upsampling Minority class\n",
    "\n",
    "# def custom_collate(batch):\n",
    "#     images, labels = zip(*batch)\n",
    "#     images = torch.stack([transforms.ToTensor()(img) for img in images], dim=0)\n",
    "#     labels = torch.tensor(labels)\n",
    "#     return images, labels\n",
    "\n",
    "# from sklearn.utils import resample\n",
    "# import os\n",
    "# import pandas as pd\n",
    "# from PIL import Image\n",
    "# from torch.utils.data import Dataset\n",
    "# from torchvision import transforms\n",
    "\n",
    "# class ZooplanktonDataset(Dataset):\n",
    "#     def __init__(self, csv, cropped_image_folder, transform=None):\n",
    "#         self.labels = pd.read_csv(csv)  \n",
    "#         self.cropped_image_folder = cropped_image_folder\n",
    "#         self.transform = transform\n",
    "        \n",
    "#         class_0_samples = self.labels[self.labels['Label'] == 0]\n",
    "#         class_1_samples = self.labels[self.labels['Label'] == 1]\n",
    "        \n",
    "#         # Upsample class 1 to match the size of class 0\n",
    "#         class_1_upsampled = resample(class_1_samples,\n",
    "#                                      replace=True,  # With replacement for upsampling\n",
    "#                                      n_samples=len(class_0_samples),\n",
    "#                                      random_state=42)\n",
    "        \n",
    "#         self.labels = pd.concat([class_0_samples, class_1_upsampled])\n",
    "#         self.labels = self.labels.sample(frac=1).reset_index(drop=True)\n",
    "        \n",
    "#     def __len__(self):\n",
    "#         return len(self.labels)\n",
    "    \n",
    "#     def __getitem__(self, index):\n",
    "#         img_name = self.labels.iloc[index, 0]\n",
    "#         cropped_img_path = os.path.join(self.cropped_image_folder, img_name)\n",
    "        \n",
    "#         image = Image.open(cropped_img_path).convert('RGB')\n",
    "        \n",
    "#         y_label = self.labels.iloc[index, 1]\n",
    "            \n",
    "#         if self.transform:\n",
    "#             image = self.transform(image)\n",
    "        \n",
    "#         return image, y_label\n"
   ]
  },
  {
   "cell_type": "markdown",
   "id": "76534ffa-dbb5-49ae-98f0-579338d62172",
   "metadata": {
    "tags": []
   },
   "source": [
    "# Train and Test split "
   ]
  },
  {
   "cell_type": "code",
   "execution_count": 34,
   "id": "4c23216f-6606-45c2-a314-6925f62aa8b9",
   "metadata": {
    "tags": []
   },
   "outputs": [],
   "source": [
    "data_transform = transforms.Compose([\n",
    "    transforms.ToTensor(),\n",
    "    transforms.Normalize(mean=[0.485, 0.456, 0.406], std=[0.229, 0.224, 0.225])\n",
    "])\n",
    "\n",
    "# data_transform = transforms.Compose([\n",
    "#     transforms.RandomHorizontalFlip(0.5),\n",
    "#     transforms.RandomRotation(10),\n",
    "#     transforms.ToTensor(),\n",
    "#     transforms.Normalize(mean=[0.485, 0.456, 0.406], std=[0.229, 0.224, 0.225])\n",
    "# ])\n",
    "\n",
    "# random_transforms = transforms.Compose([\n",
    "#     transforms.RandomHorizontalFlip(),\n",
    "#     transforms.RandomVerticalFlip(),\n",
    "#     transforms.RandomRotation(degrees=20)\n",
    "# ])\n",
    "\n",
    "# dataset = ZooplanktonDataset(csv='/home/ec2-user/SageMaker/All_csv_combined/annotations.csv',cropped_image_folder='/home/ec2-user/SageMaker/dataset/uncropped+predictions1',\n",
    "#                             transform=data_transform)\n",
    "\n",
    "dataset = ZooplanktonDataset(csv='/home/ec2-user/SageMaker/All_csv_combined/annotations.csv',\n",
    "                             cropped_image_folder='/home/ec2-user/SageMaker/dataset/uncropped+predictions1',\n",
    "                             transform=data_transform)\n",
    "\n",
    "from torch.utils.data import Subset\n",
    "\n",
    "# # Splitting the indices into train and test sets with a stratified split\n",
    "train_indices, test_indices = train_test_split(\n",
    "    np.arange(len(dataset)), test_size=0.2, stratify=dataset.labels\n",
    ")\n",
    "\n",
    "# train_indices, test_indices = train_test_split(\n",
    "#     np.arange(len(dataset)), test_size=0.2\n",
    "# )\n",
    "\n",
    "# Create subset datasets using the train and test indices\n",
    "train_set = Subset(dataset, train_indices)\n",
    "test_set = Subset(dataset, test_indices)\n",
    "\n",
    "train_loader = DataLoader(dataset=train_set, batch_size=16, shuffle=True)\n",
    "test_loader = DataLoader(dataset=test_set, batch_size=16, shuffle=True)\n"
   ]
  },
  {
   "cell_type": "markdown",
   "id": "e663f213-8f71-46c3-9463-446d4a663454",
   "metadata": {
    "tags": []
   },
   "source": [
    "# Models"
   ]
  },
  {
   "cell_type": "code",
   "execution_count": 35,
   "id": "aff2c3e4-9ce5-41eb-b707-ed120b8db684",
   "metadata": {
    "tags": []
   },
   "outputs": [],
   "source": [
    "class Model_v2(nn.Module):\n",
    "    def __init__(self, dropout):\n",
    "        super(Model_v2, self).__init__()\n",
    "        self.conv1 = nn.Conv2d(3, 16, 3)\n",
    "        self.conv2 = nn.Conv2d(16, 32, 3)\n",
    "        self.conv3 = nn.Conv2d(32, 64, 3)\n",
    "        self.pool1 = nn.MaxPool2d(2, 2)\n",
    "        self.pool2 = nn.MaxPool2d(3, 2)\n",
    "        self.pool3 = nn.MaxPool2d(2, 2)\n",
    "        self.dropout = nn.Dropout(dropout)\n",
    "        \n",
    "        # Adjusting the fully connected layers to fit the spatial dimensions\n",
    "        # of the input image (256x256)\n",
    "        self.fc1 = nn.Linear(64 * 30 * 30, 256)\n",
    "        self.fc2 = nn.Linear(256, 84)\n",
    "        self.fc3 = nn.Linear(84, 1)  # Output layer for binary classification (1 neuron for probability)\n",
    "        self.sigmoid = nn.Sigmoid()  # Sigmoid activation for probability output\n",
    "        \n",
    "    def forward(self, x):\n",
    "        x = self.dropout(F.relu(self.conv1(x)))\n",
    "        x = self.pool1(x)\n",
    "        x = self.dropout(F.relu(self.conv2(x)))\n",
    "        x = self.pool2(x)\n",
    "        x = self.dropout(F.relu(self.conv3(x)))\n",
    "        x = self.pool3(x)\n",
    "        x = x.view(-1, 64 * 30 * 30)  # Adjusted view shape\n",
    "        x = self.dropout(F.relu(self.fc1(x)))\n",
    "        x = self.dropout(F.relu(self.fc2(x)))\n",
    "        x = self.sigmoid(self.fc3(x))  # Use sigmoid activation for probability output\n",
    "        return x"
   ]
  },
  {
   "cell_type": "code",
   "execution_count": 36,
   "id": "f5086f73-2884-44d2-a164-960240c793c7",
   "metadata": {},
   "outputs": [],
   "source": [
    "# class Model_v2(nn.Module):\n",
    "#     def __init__(self, dropout):\n",
    "#         super(Model_v2, self).__init__()\n",
    "#         self.conv1 = nn.Conv2d(3, 16, 3)\n",
    "#         self.conv2 = nn.Conv2d(16, 32, 3)\n",
    "#         self.conv3 = nn.Conv2d(32, 64, 3)\n",
    "#         self.pool1 = nn.AdaptiveMaxPool2d((3, 3))\n",
    "#         self.pool2 = nn.AdaptiveMaxPool2d((3, 3))\n",
    "#         self.pool3 = nn.AdaptiveMaxPool2d((2, 2))\n",
    "#         self.dropout = nn.Dropout(dropout)\n",
    "        \n",
    "#         # Adjusting the fully connected layers to fit the spatial dimensions\n",
    "#         # of the input image (256x256)\n",
    "#         self.fc1 = nn.Linear(64 * 2 * 2, 256)  # Adjusted input size\n",
    "#         self.fc2 = nn.Linear(256, 84)\n",
    "#         self.fc3 = nn.Linear(84, 1)\n",
    "#         self.sigmoid = nn.Sigmoid()\n",
    "        \n",
    "#     def forward(self, x):\n",
    "#         x = self.dropout(F.relu(self.conv1(x)))\n",
    "#         x = self.pool1(x)\n",
    "#         x = self.dropout(F.relu(self.conv2(x)))\n",
    "#         x = self.pool2(x)\n",
    "#         x = self.dropout(F.relu(self.conv3(x)))\n",
    "#         x = self.pool3(x)\n",
    "        \n",
    "#         # Flatten the tensor before fully connected layers\n",
    "#         x = x.view(x.size(0), -1)\n",
    "        \n",
    "#         x = self.dropout(F.relu(self.fc1(x)))\n",
    "#         x = self.dropout(F.relu(self.fc2(x)))\n",
    "#         x = self.sigmoid(self.fc3(x))\n",
    "#         return x\n",
    "\n",
    "\n"
   ]
  },
  {
   "cell_type": "markdown",
   "id": "aceb8ad3-2aec-4f7d-8ddd-2a229c5af1a6",
   "metadata": {
    "tags": []
   },
   "source": [
    "# Loss curve "
   ]
  },
  {
   "cell_type": "code",
   "execution_count": 37,
   "id": "064031cd-6a36-479e-9e02-ffa0eac97b37",
   "metadata": {
    "tags": []
   },
   "outputs": [],
   "source": [
    "class LossCurve:\n",
    "    def __init__(self):\n",
    "        self\n",
    "\n",
    "    def PlotCurve(loss_values,epochs):\n",
    "        plt.plot(range(epochs), loss_values, 'blue')\n",
    "        plt.title('Loss decay')\n",
    "        plt.xlabel('number of epochs')\n",
    "        plt.ylabel('Loss')\n",
    "        plt.show()"
   ]
  },
  {
   "cell_type": "markdown",
   "id": "973bd25c-d5fe-45e2-a39b-885db688590d",
   "metadata": {
    "tags": []
   },
   "source": [
    "# Training Loop"
   ]
  },
  {
   "cell_type": "code",
   "execution_count": 38,
   "id": "8a592bbe-76ae-4b74-9f7e-f18626f3a04e",
   "metadata": {
    "tags": []
   },
   "outputs": [],
   "source": [
    "class Trainer():\n",
    "    def __init__(self, model, loss_criterion, threshold, train_data_loader, test_data_loader,\n",
    "                 optimizer, epochs, with_cuda, use_scheduler, scheduler, save_dir, tensorboard_dir,\n",
    "                 lr=0.001, print_freq=1):\n",
    "        self.device = torch.device(\"cuda:0\" if with_cuda else \"cpu\")\n",
    "        self.model = model\n",
    "        self.loss_criterion = loss_criterion\n",
    "        self.optimizer = optimizer\n",
    "        self.epochs = epochs\n",
    "        self.with_cuda = with_cuda\n",
    "        self.train_data_loader = train_data_loader\n",
    "        self.test_data_loader = test_data_loader\n",
    "        self.lr = lr\n",
    "        self.save_dir = save_dir\n",
    "        self.tensorboard_dir = tensorboard_dir\n",
    "        self.use_scheduler = use_scheduler\n",
    "        self.scheduler = scheduler\n",
    "        self.step = 0\n",
    "        self.print_freq = print_freq\n",
    "        self.start_time = datetime.now().strftime('%b-%d_%H-%M')\n",
    "        self.save_freq = 1\n",
    "        self.accuracy = 0\n",
    "        self.threshold = threshold\n",
    "        if not os.path.exists(self.tensorboard_dir):\n",
    "            os.makedirs(self.tensorboard_dir)\n",
    "        self.writer = SummaryWriter(log_dir=self.tensorboard_dir)\n",
    "        \n",
    "    def _train_epoch(self):\n",
    "        loss_values = []\n",
    "        \n",
    "        for epoch in range(self.epochs):\n",
    "            running_loss = 0\n",
    "            last_step = self.step - 1\n",
    "            last_time = time.time()\n",
    "            batch_counter = 0\n",
    "            accuracy = 0\n",
    "            loop = tqdm(enumerate(self.train_data_loader), total=len(self.train_data_loader), leave=True)\n",
    "            for batch_idx, (images, labels) in loop:\n",
    "                if self.with_cuda:\n",
    "                    images, labels = images.to(self.device), labels.to(self.device)\n",
    "                self.model.train()\n",
    "                batch_counter += 1\n",
    "                # forward pass\n",
    "                outputs = self.model(images)\n",
    "                labels = labels.unsqueeze(1).float()\n",
    "                # finding loss\n",
    "                loss = self.loss_criterion(outputs, labels)\n",
    "                # backward pass\n",
    "                self.optimizer.zero_grad()\n",
    "                loss.backward()\n",
    "                self.optimizer.step()\n",
    "                \n",
    "                if self.use_scheduler:\n",
    "                    self.scheduler.step()\n",
    "\n",
    "                running_loss += loss.item()\n",
    "                # evaluation of model on test data\n",
    "                if batch_counter % 1000 == 0 or batch_counter == len(self.train_data_loader):\n",
    "                    accuracy = self._valid_epoch(self.model, epoch, self.test_data_loader)\n",
    "                \n",
    "                is_best = False\n",
    "                if accuracy > self.accuracy:\n",
    "                    is_best = True\n",
    "                self.accuracy = accuracy\n",
    "                \n",
    "                if self.step % self.print_freq == self.print_freq - 1:\n",
    "                    used_time = time.time() - last_time\n",
    "                    step_num = self.step - last_step\n",
    "                    speed = self.train_data_loader.batch_size * step_num / used_time\n",
    "                    batch_loss = loss.item()\n",
    "                    loop.set_description(f\"Epoch[{epoch + 1}/{self.epochs}]\")\n",
    "                    loop.set_postfix(\n",
    "                        lr=self.scheduler.get_last_lr(),\n",
    "                        batch_loss=batch_loss,\n",
    "                        global_loss=running_loss,\n",
    "                        speed=speed,\n",
    "                        accuracy=self.accuracy,\n",
    "                        device=self.device\n",
    "                    )\n",
    "                    global_loss = 0.0\n",
    "                    last_step = self.step\n",
    "                    last_time = time.time()\n",
    "                self.step += 1\n",
    "\n",
    "            if epoch % self.save_freq == 0:\n",
    "                self._save_checkpoint(epoch, is_best)\n",
    "            \n",
    "            self.writer.add_scalar('Loss', running_loss / len(self.train_data_loader), global_step=self.step)\n",
    "            loss_values.append(running_loss / len(self.train_data_loader))\n",
    "        \n",
    "        print(\"Train Accuracy:\", self._valid_epoch(self.model, self.epochs, self.train_data_loader))\n",
    "        print(\"Validation Accuracy:\", self._valid_epoch(self.model, self.epochs, self.test_data_loader))\n",
    "        \n",
    "        # Find the best threshold and its corresponding accuracy\n",
    "        best_threshold, best_accuracy = self._find_best_threshold()\n",
    "        print(\"Best Threshold:\", best_threshold)\n",
    "        print(\"Best Validation Accuracy:\", best_accuracy)\n",
    "        \n",
    "        # Plotting Loss Curve\n",
    "        self.writer.add_scalar('Best_Validation_Accuracy', best_accuracy, global_step=self.epochs)\n",
    "        LossCurve.PlotCurve(loss_values, self.epochs)\n",
    "        \n",
    "        # logging images to Tensorboard\n",
    "        self.log_images_after_training()\n",
    "        \n",
    "        # closing SummaryWriter Object\n",
    "        self.writer.close()\n",
    "\n",
    "    def _valid_epoch(self, model, epoch, test_loader, threshold=None):\n",
    "        model.eval()\n",
    "        if threshold is None:\n",
    "            threshold = self.threshold  # Use the current threshold if not provided\n",
    "        with torch.no_grad():\n",
    "            correct_samples = 0\n",
    "            total_samples = 0\n",
    "            for images, labels in test_loader:\n",
    "                if self.with_cuda:\n",
    "                    images, labels = images.to(self.device), labels.to(self.device)\n",
    "                pred_probs = model(images)\n",
    "                pred_labels = (pred_probs > threshold).float()\n",
    "                total_samples += labels.size(0)\n",
    "                correct_samples += (pred_labels == labels.view(-1, 1).float()).sum().item()\n",
    "            accuracy = (correct_samples / total_samples) * 100\n",
    "            self.writer.add_scalar('Accuracy', accuracy, global_step=epoch)\n",
    "            return accuracy\n",
    "\n",
    "    def _find_best_threshold(self, num_thresholds=100):\n",
    "        # Evaluate the model on the validation set for different thresholds\n",
    "        thresholds = np.linspace(0.1, 1, num_thresholds)\n",
    "        false_negatives = []\n",
    "        for threshold in thresholds:\n",
    "            false_negative = self._calculate_false_negatives(self.model, self.test_data_loader, threshold)\n",
    "            false_negatives.append(false_negative)\n",
    "\n",
    "        # Find the best threshold that gives the least false negatives\n",
    "        best_idx = np.argmin(false_negatives)\n",
    "        best_threshold = thresholds[best_idx]\n",
    "        best_false_negative = false_negatives[best_idx]\n",
    "\n",
    "        # Update the threshold in the class\n",
    "        self.threshold = best_threshold\n",
    "\n",
    "        return best_threshold, best_false_negative\n",
    "\n",
    "    def _calculate_false_negatives(self, model, test_loader, threshold):\n",
    "        model.eval()\n",
    "        with torch.no_grad():\n",
    "            false_negatives = 0\n",
    "            total_positives = 0\n",
    "            for images, labels in test_loader:\n",
    "                if self.with_cuda:\n",
    "                    images, labels = images.to(self.device), labels.to(self.device)\n",
    "                pred_probs = model(images)\n",
    "                pred_labels = (pred_probs > threshold).float()\n",
    "\n",
    "                # Count the number of false negatives (predicted as negative but actually positive)\n",
    "                false_negatives += ((pred_labels == 0) & (labels == 1)).sum().item()\n",
    "                total_positives += (labels == 1).sum().item()\n",
    "\n",
    "            false_negative_rate = false_negatives / max(total_positives, 1)  # Avoid division by zero\n",
    "            return false_negative_rate\n",
    "\n",
    "    \n",
    "    def _save_checkpoint(self, epoch, is_best):\n",
    "        arch = type(self.model).__name__\n",
    "        state = {\n",
    "            'epoch': epoch,\n",
    "            'arch': arch,\n",
    "            'state_dict': self.model.state_dict(),\n",
    "            'optimizer': self.optimizer.state_dict(),\n",
    "            'accuracy': self.accuracy,\n",
    "            'step': self.step + 1,\n",
    "            'start_time': self.start_time}\n",
    "        filename = os.path.join(\n",
    "            self.save_dir + 'checkpoint_{}_epoch{:02d}_acc_{:.5f}.pth.tar'.format(\n",
    "                arch, epoch, self.accuracy))\n",
    "        print(\"Saving checkpoint: {} ...\".format(filename))\n",
    "        if not os.path.exists(self.save_dir):\n",
    "            os.makedirs(self.save_dir)\n",
    "        torch.save(state, filename)\n",
    "        if is_best:\n",
    "            shutil.copyfile(\n",
    "                filename, os.path.join(self.save_dir, '{}_binary_best.pth.tar'.format(arch)))\n",
    "        return filename\n",
    "\n",
    "    def log_images_after_training(self):\n",
    "        arch = type(self.model).__name__\n",
    "        checkpoint = torch.load('/home/ec2-user/SageMaker/checkpoints/uncropped/{}_binary_best.pth.tar'.format(arch))\n",
    "        self.model.load_state_dict(checkpoint['state_dict'])\n",
    "        self.model.eval()\n",
    "        images = []\n",
    "        true_labels = []\n",
    "        predicted_labels = []\n",
    "\n",
    "        for batch_images, batch_labels in self.test_data_loader:\n",
    "            with torch.no_grad():\n",
    "                if self.with_cuda:\n",
    "                    batch_images, batch_labels = batch_images.to(self.device), batch_labels.to(self.device)\n",
    "\n",
    "                # Forward pass to obtain predicted labels for each item in the batch\n",
    "                batch_outputs = self.model(batch_images)\n",
    "                batch_predicted_labels = (batch_outputs >= self.threshold).float()  # Convert probabilities to binary predictions (0 or 1)\n",
    "            # Iterate over each item in the batch\n",
    "            for i in range(batch_images.size(0)):\n",
    "                image = vutils.make_grid(batch_images[i], nrow=1, padding=10, normalize=True) \n",
    "                true_label = batch_labels[i]\n",
    "                predicted_label = batch_predicted_labels[i]\n",
    "\n",
    "                images.append(image)\n",
    "                true_labels.append(true_label)\n",
    "                predicted_labels.append(predicted_label)\n",
    "\n",
    "        for i in range(len(images)):\n",
    "            image = images[i]\n",
    "            true_label = true_labels[i]\n",
    "            predicted_label = predicted_labels[i]\n",
    "\n",
    "            # Set the image name as the predicted and true labels\n",
    "            image_name = f\"Image-{i}-True-{true_label}-Predicted-{predicted_label}\"\n",
    "\n",
    "            # Log the image on TensorBoard with the image name\n",
    "            self.writer.add_image(image_name, image.cpu(), global_step=i)\n",
    "\n",
    "        #creating confusion matrix\n",
    "        true_labels = torch.tensor(true_labels)\n",
    "        predicted_labels = torch.tensor(predicted_labels)\n",
    "\n",
    "        cm = confusion_matrix(true_labels, predicted_labels)\n",
    "\n",
    "        fig = plt.figure(figsize=(8, 8))\n",
    "        plt.imshow(cm, interpolation='nearest', cmap=plt.cm.Blues)\n",
    "        plt.colorbar()\n",
    "\n",
    "        # Set the axis labels and ticks\n",
    "        class_names = ['Zooplankton', 'Marine-Snow']\n",
    "        tick_marks = np.arange(len(class_names))\n",
    "        plt.xticks(tick_marks, class_names)\n",
    "        plt.yticks(tick_marks, class_names)\n",
    "\n",
    "        # Add labels to each cell of the confusion matrix\n",
    "        thresh = cm.max() / 2.\n",
    "        for i, j in itertools.product(range(cm.shape[0]), range(cm.shape[1])):\n",
    "            plt.text(j, i, format(cm[i, j], 'd'),\n",
    "                     horizontalalignment=\"center\",\n",
    "                     color=\"white\" if cm[i, j] > thresh else \"black\")\n",
    "\n",
    "        # Save the confusion matrix figure to TensorBoard\n",
    "        self.writer.add_figure('Confusion Matrix', fig)"
   ]
  },
  {
   "cell_type": "markdown",
   "id": "6fc2f1e9-e45c-4e62-8a35-7330b88283ce",
   "metadata": {
    "tags": []
   },
   "source": [
    "# Hyperparameters"
   ]
  },
  {
   "cell_type": "code",
   "execution_count": 39,
   "id": "9087ec74-10c8-4b63-9d89-acf6159d26f7",
   "metadata": {
    "tags": []
   },
   "outputs": [
    {
     "name": "stdout",
     "output_type": "stream",
     "text": [
      "Class Weights: tensor([1., 1.], device='cuda:0')\n"
     ]
    }
   ],
   "source": [
    "    #model\n",
    "    device = torch.device(\"cuda:0\" if torch.cuda.is_available() else \"cpu\")\n",
    "    model = Model_v2(0.2)\n",
    "    model.to(device)\n",
    "    parameters = filter(lambda p: p.requires_grad, model.parameters())\n",
    "    # Base Optimizer\n",
    "    base_optimizer = optim.RAdam(\n",
    "        params=parameters,\n",
    "        lr=0.001,\n",
    "        betas=(0.8, 0.999),\n",
    "        eps=1e-8,\n",
    "        weight_decay=1e-5)\n",
    "\n",
    "    #Lookahead optimizer\n",
    "    optimizer = Lookahead(base_optimizer, k=10, alpha=0.5)  \n",
    "    #scheduler\n",
    "    lr_warm_up_num = 100\n",
    "    cr = 1.0 / math.log(lr_warm_up_num)\n",
    "    scheduler = optim.lr_scheduler.LambdaLR(\n",
    "        optimizer,\n",
    "        lr_lambda=lambda ee: cr * math.log(ee + 1)\n",
    "        if ee < lr_warm_up_num else 1)\n",
    "    data = pd.read_csv('/home/ec2-user/SageMaker/All_csv_combined/Test/annotations.csv')\n",
    "    label_counts = data.iloc[:, 1].value_counts()\n",
    "    loss_ratio = label_counts[0] / label_counts[1]\n",
    "    class_weights = torch.Tensor([1,1]).to(device)  # Inverse ratio of class frequencies\n",
    "    print(\"Class Weights:\", class_weights)\n",
    "\n",
    "    # Define the BCE loss with class weights\n",
    "    loss_criterion = torch.nn.BCELoss(class_weights[1])\n",
    "    #creating object for tensorboard_dir\n",
    "    tensorboard_dir = '/home/ec2-user/SageMaker/runs/'\n"
   ]
  },
  {
   "cell_type": "markdown",
   "id": "bcf15377-d31a-413c-be7e-42be733190d4",
   "metadata": {
    "tags": []
   },
   "source": [
    "# Trainer Object"
   ]
  },
  {
   "cell_type": "code",
   "execution_count": 40,
   "id": "86016839-5292-4fd5-8055-6520441a1397",
   "metadata": {
    "tags": []
   },
   "outputs": [],
   "source": [
    "   trainer = Trainer(\n",
    "        model, loss_criterion,\n",
    "        train_data_loader=train_loader,\n",
    "        threshold = 0.8,\n",
    "        test_data_loader=test_loader,\n",
    "        optimizer=optimizer,\n",
    "        epochs=30,\n",
    "        with_cuda=True,\n",
    "        use_scheduler=True,\n",
    "        scheduler=scheduler,\n",
    "        save_dir='/home/ec2-user/SageMaker/checkpoints/uncropped/',\n",
    "        tensorboard_dir=tensorboard_dir,\n",
    "        lr=0.001)\n",
    " "
   ]
  },
  {
   "cell_type": "markdown",
   "id": "d79f57ca-0722-4460-a193-997ba6ccb10d",
   "metadata": {
    "tags": []
   },
   "source": [
    "# Final Training"
   ]
  },
  {
   "cell_type": "code",
   "execution_count": 41,
   "id": "6e2fea83-1261-44a5-a96a-2e644d6c073e",
   "metadata": {
    "tags": []
   },
   "outputs": [
    {
     "name": "stderr",
     "output_type": "stream",
     "text": [
      "Epoch[1/30]: 100%|██████████| 855/855 [01:17<00:00, 10.99it/s, accuracy=85.6, batch_loss=0.925, device=cuda:0, global_loss=372, lr=[0.001], speed=1.36]              \n"
     ]
    },
    {
     "name": "stdout",
     "output_type": "stream",
     "text": [
      "Saving checkpoint: /home/ec2-user/SageMaker/checkpoints/uncropped/checkpoint_Model_v2_epoch00_acc_85.57214.pth.tar ...\n"
     ]
    },
    {
     "name": "stderr",
     "output_type": "stream",
     "text": [
      "Epoch[2/30]: 100%|██████████| 855/855 [01:04<00:00, 13.24it/s, accuracy=85.5, batch_loss=0.431, device=cuda:0, global_loss=343, lr=[0.001], speed=1.83]\n"
     ]
    },
    {
     "name": "stdout",
     "output_type": "stream",
     "text": [
      "Saving checkpoint: /home/ec2-user/SageMaker/checkpoints/uncropped/checkpoint_Model_v2_epoch01_acc_85.54287.pth.tar ...\n"
     ]
    },
    {
     "name": "stderr",
     "output_type": "stream",
     "text": [
      "Epoch[3/30]: 100%|██████████| 855/855 [01:03<00:00, 13.56it/s, accuracy=85.6, batch_loss=0.777, device=cuda:0, global_loss=318, lr=[0.001], speed=1.83]\n"
     ]
    },
    {
     "name": "stdout",
     "output_type": "stream",
     "text": [
      "Saving checkpoint: /home/ec2-user/SageMaker/checkpoints/uncropped/checkpoint_Model_v2_epoch02_acc_85.57214.pth.tar ...\n"
     ]
    },
    {
     "name": "stderr",
     "output_type": "stream",
     "text": [
      "Epoch[4/30]: 100%|██████████| 855/855 [01:05<00:00, 13.09it/s, accuracy=85.6, batch_loss=0.804, device=cuda:0, global_loss=298, lr=[0.001], speed=1.48]\n"
     ]
    },
    {
     "name": "stdout",
     "output_type": "stream",
     "text": [
      "Saving checkpoint: /home/ec2-user/SageMaker/checkpoints/uncropped/checkpoint_Model_v2_epoch03_acc_85.57214.pth.tar ...\n"
     ]
    },
    {
     "name": "stderr",
     "output_type": "stream",
     "text": [
      "Epoch[5/30]: 100%|██████████| 855/855 [01:03<00:00, 13.47it/s, accuracy=85.6, batch_loss=0.0643, device=cuda:0, global_loss=271, lr=[0.001], speed=1.82]\n"
     ]
    },
    {
     "name": "stdout",
     "output_type": "stream",
     "text": [
      "Saving checkpoint: /home/ec2-user/SageMaker/checkpoints/uncropped/checkpoint_Model_v2_epoch04_acc_85.63067.pth.tar ...\n"
     ]
    },
    {
     "name": "stderr",
     "output_type": "stream",
     "text": [
      "Epoch[6/30]: 100%|██████████| 855/855 [01:03<00:00, 13.52it/s, accuracy=85.6, batch_loss=0.0686, device=cuda:0, global_loss=281, lr=[0.001], speed=1.82]\n"
     ]
    },
    {
     "name": "stdout",
     "output_type": "stream",
     "text": [
      "Saving checkpoint: /home/ec2-user/SageMaker/checkpoints/uncropped/checkpoint_Model_v2_epoch05_acc_85.60140.pth.tar ...\n"
     ]
    },
    {
     "name": "stderr",
     "output_type": "stream",
     "text": [
      "Epoch[7/30]: 100%|██████████| 855/855 [01:04<00:00, 13.24it/s, accuracy=85.7, batch_loss=0.17, device=cuda:0, global_loss=242, lr=[0.001], speed=1.81]\n"
     ]
    },
    {
     "name": "stdout",
     "output_type": "stream",
     "text": [
      "Saving checkpoint: /home/ec2-user/SageMaker/checkpoints/uncropped/checkpoint_Model_v2_epoch06_acc_85.71847.pth.tar ...\n"
     ]
    },
    {
     "name": "stderr",
     "output_type": "stream",
     "text": [
      "Epoch[8/30]: 100%|██████████| 855/855 [01:09<00:00, 12.32it/s, accuracy=86.2, batch_loss=0.00182, device=cuda:0, global_loss=212, lr=[0.001], speed=1.57]\n"
     ]
    },
    {
     "name": "stdout",
     "output_type": "stream",
     "text": [
      "Saving checkpoint: /home/ec2-user/SageMaker/checkpoints/uncropped/checkpoint_Model_v2_epoch07_acc_86.21598.pth.tar ...\n"
     ]
    },
    {
     "name": "stderr",
     "output_type": "stream",
     "text": [
      "Epoch[9/30]: 100%|██████████| 855/855 [01:03<00:00, 13.37it/s, accuracy=86.2, batch_loss=0.0525, device=cuda:0, global_loss=191, lr=[0.001], speed=1.82]\n"
     ]
    },
    {
     "name": "stdout",
     "output_type": "stream",
     "text": [
      "Saving checkpoint: /home/ec2-user/SageMaker/checkpoints/uncropped/checkpoint_Model_v2_epoch08_acc_86.24524.pth.tar ...\n"
     ]
    },
    {
     "name": "stderr",
     "output_type": "stream",
     "text": [
      "Epoch[10/30]: 100%|██████████| 855/855 [01:03<00:00, 13.39it/s, accuracy=86.9, batch_loss=0.1, device=cuda:0, global_loss=174, lr=[0.001], speed=1.81] \n"
     ]
    },
    {
     "name": "stdout",
     "output_type": "stream",
     "text": [
      "Saving checkpoint: /home/ec2-user/SageMaker/checkpoints/uncropped/checkpoint_Model_v2_epoch09_acc_86.91835.pth.tar ...\n"
     ]
    },
    {
     "name": "stderr",
     "output_type": "stream",
     "text": [
      "Epoch[11/30]: 100%|██████████| 855/855 [01:03<00:00, 13.48it/s, accuracy=86.6, batch_loss=0.0182, device=cuda:0, global_loss=146, lr=[0.001], speed=1.82]\n"
     ]
    },
    {
     "name": "stdout",
     "output_type": "stream",
     "text": [
      "Saving checkpoint: /home/ec2-user/SageMaker/checkpoints/uncropped/checkpoint_Model_v2_epoch10_acc_86.59643.pth.tar ...\n"
     ]
    },
    {
     "name": "stderr",
     "output_type": "stream",
     "text": [
      "Epoch[12/30]: 100%|██████████| 855/855 [01:03<00:00, 13.45it/s, accuracy=86.9, batch_loss=0.406, device=cuda:0, global_loss=135, lr=[0.001], speed=1.81]\n"
     ]
    },
    {
     "name": "stdout",
     "output_type": "stream",
     "text": [
      "Saving checkpoint: /home/ec2-user/SageMaker/checkpoints/uncropped/checkpoint_Model_v2_epoch11_acc_86.88908.pth.tar ...\n"
     ]
    },
    {
     "name": "stderr",
     "output_type": "stream",
     "text": [
      "Epoch[13/30]: 100%|██████████| 855/855 [01:04<00:00, 13.28it/s, accuracy=87.6, batch_loss=0.000348, device=cuda:0, global_loss=107, lr=[0.001], speed=1.82]\n"
     ]
    },
    {
     "name": "stdout",
     "output_type": "stream",
     "text": [
      "Saving checkpoint: /home/ec2-user/SageMaker/checkpoints/uncropped/checkpoint_Model_v2_epoch12_acc_87.64999.pth.tar ...\n"
     ]
    },
    {
     "name": "stderr",
     "output_type": "stream",
     "text": [
      "Epoch[14/30]: 100%|██████████| 855/855 [01:03<00:00, 13.53it/s, accuracy=87.4, batch_loss=0.0116, device=cuda:0, global_loss=84.6, lr=[0.001], speed=1.82]\n"
     ]
    },
    {
     "name": "stdout",
     "output_type": "stream",
     "text": [
      "Saving checkpoint: /home/ec2-user/SageMaker/checkpoints/uncropped/checkpoint_Model_v2_epoch13_acc_87.35733.pth.tar ...\n"
     ]
    },
    {
     "name": "stderr",
     "output_type": "stream",
     "text": [
      "Epoch[15/30]: 100%|██████████| 855/855 [01:04<00:00, 13.21it/s, accuracy=87.6, batch_loss=0.0537, device=cuda:0, global_loss=81.5, lr=[0.001], speed=1.57]\n"
     ]
    },
    {
     "name": "stdout",
     "output_type": "stream",
     "text": [
      "Saving checkpoint: /home/ec2-user/SageMaker/checkpoints/uncropped/checkpoint_Model_v2_epoch14_acc_87.62072.pth.tar ...\n"
     ]
    },
    {
     "name": "stderr",
     "output_type": "stream",
     "text": [
      "Epoch[16/30]: 100%|██████████| 855/855 [01:03<00:00, 13.47it/s, accuracy=88.2, batch_loss=0.00746, device=cuda:0, global_loss=65.7, lr=[0.001], speed=1.82]\n"
     ]
    },
    {
     "name": "stdout",
     "output_type": "stream",
     "text": [
      "Saving checkpoint: /home/ec2-user/SageMaker/checkpoints/uncropped/checkpoint_Model_v2_epoch15_acc_88.20603.pth.tar ...\n"
     ]
    },
    {
     "name": "stderr",
     "output_type": "stream",
     "text": [
      "Epoch[17/30]: 100%|██████████| 855/855 [01:03<00:00, 13.54it/s, accuracy=88.2, batch_loss=0.0046, device=cuda:0, global_loss=62.3, lr=[0.001], speed=1.82]\n"
     ]
    },
    {
     "name": "stdout",
     "output_type": "stream",
     "text": [
      "Saving checkpoint: /home/ec2-user/SageMaker/checkpoints/uncropped/checkpoint_Model_v2_epoch16_acc_88.23529.pth.tar ...\n"
     ]
    },
    {
     "name": "stderr",
     "output_type": "stream",
     "text": [
      "Epoch[18/30]: 100%|██████████| 855/855 [01:04<00:00, 13.30it/s, accuracy=86.9, batch_loss=0.00225, device=cuda:0, global_loss=69, lr=[0.001], speed=1.83]\n"
     ]
    },
    {
     "name": "stdout",
     "output_type": "stream",
     "text": [
      "Saving checkpoint: /home/ec2-user/SageMaker/checkpoints/uncropped/checkpoint_Model_v2_epoch17_acc_86.88908.pth.tar ...\n"
     ]
    },
    {
     "name": "stderr",
     "output_type": "stream",
     "text": [
      "Epoch[19/30]: 100%|██████████| 855/855 [01:02<00:00, 13.59it/s, accuracy=87.9, batch_loss=0.0106, device=cuda:0, global_loss=66, lr=[0.001], speed=1.82]\n"
     ]
    },
    {
     "name": "stdout",
     "output_type": "stream",
     "text": [
      "Saving checkpoint: /home/ec2-user/SageMaker/checkpoints/uncropped/checkpoint_Model_v2_epoch18_acc_87.91337.pth.tar ...\n"
     ]
    },
    {
     "name": "stderr",
     "output_type": "stream",
     "text": [
      "Epoch[20/30]: 100%|██████████| 855/855 [01:03<00:00, 13.54it/s, accuracy=88.2, batch_loss=1.49, device=cuda:0, global_loss=45.7, lr=[0.001], speed=1.83]\n"
     ]
    },
    {
     "name": "stdout",
     "output_type": "stream",
     "text": [
      "Saving checkpoint: /home/ec2-user/SageMaker/checkpoints/uncropped/checkpoint_Model_v2_epoch19_acc_88.20603.pth.tar ...\n"
     ]
    },
    {
     "name": "stderr",
     "output_type": "stream",
     "text": [
      "Epoch[21/30]: 100%|██████████| 855/855 [01:03<00:00, 13.46it/s, accuracy=88.1, batch_loss=0.00466, device=cuda:0, global_loss=46.7, lr=[0.001], speed=1.83]\n"
     ]
    },
    {
     "name": "stdout",
     "output_type": "stream",
     "text": [
      "Saving checkpoint: /home/ec2-user/SageMaker/checkpoints/uncropped/checkpoint_Model_v2_epoch20_acc_88.05970.pth.tar ...\n"
     ]
    },
    {
     "name": "stderr",
     "output_type": "stream",
     "text": [
      "Epoch[22/30]: 100%|██████████| 855/855 [01:03<00:00, 13.57it/s, accuracy=88.2, batch_loss=0.0088, device=cuda:0, global_loss=41.9, lr=[0.001], speed=1.82]\n"
     ]
    },
    {
     "name": "stdout",
     "output_type": "stream",
     "text": [
      "Saving checkpoint: /home/ec2-user/SageMaker/checkpoints/uncropped/checkpoint_Model_v2_epoch21_acc_88.17676.pth.tar ...\n"
     ]
    },
    {
     "name": "stderr",
     "output_type": "stream",
     "text": [
      "Epoch[23/30]: 100%|██████████| 855/855 [01:03<00:00, 13.54it/s, accuracy=87.8, batch_loss=4.83e-6, device=cuda:0, global_loss=48.3, lr=[0.001], speed=1.82]\n"
     ]
    },
    {
     "name": "stdout",
     "output_type": "stream",
     "text": [
      "Saving checkpoint: /home/ec2-user/SageMaker/checkpoints/uncropped/checkpoint_Model_v2_epoch22_acc_87.76705.pth.tar ...\n"
     ]
    },
    {
     "name": "stderr",
     "output_type": "stream",
     "text": [
      "Epoch[24/30]: 100%|██████████| 855/855 [01:03<00:00, 13.57it/s, accuracy=87.7, batch_loss=0.158, device=cuda:0, global_loss=40.4, lr=[0.001], speed=1.83]\n"
     ]
    },
    {
     "name": "stdout",
     "output_type": "stream",
     "text": [
      "Saving checkpoint: /home/ec2-user/SageMaker/checkpoints/uncropped/checkpoint_Model_v2_epoch23_acc_87.73778.pth.tar ...\n"
     ]
    },
    {
     "name": "stderr",
     "output_type": "stream",
     "text": [
      "Epoch[25/30]: 100%|██████████| 855/855 [01:03<00:00, 13.52it/s, accuracy=88.2, batch_loss=0.000174, device=cuda:0, global_loss=31.3, lr=[0.001], speed=1.82]\n"
     ]
    },
    {
     "name": "stdout",
     "output_type": "stream",
     "text": [
      "Saving checkpoint: /home/ec2-user/SageMaker/checkpoints/uncropped/checkpoint_Model_v2_epoch24_acc_88.23529.pth.tar ...\n"
     ]
    },
    {
     "name": "stderr",
     "output_type": "stream",
     "text": [
      "Epoch[26/30]: 100%|██████████| 855/855 [01:03<00:00, 13.49it/s, accuracy=88.4, batch_loss=6.98e-5, device=cuda:0, global_loss=30.8, lr=[0.001], speed=1.82]\n"
     ]
    },
    {
     "name": "stdout",
     "output_type": "stream",
     "text": [
      "Saving checkpoint: /home/ec2-user/SageMaker/checkpoints/uncropped/checkpoint_Model_v2_epoch25_acc_88.44015.pth.tar ...\n"
     ]
    },
    {
     "name": "stderr",
     "output_type": "stream",
     "text": [
      "Epoch[27/30]: 100%|██████████| 855/855 [01:03<00:00, 13.40it/s, accuracy=88.3, batch_loss=1.92e-8, device=cuda:0, global_loss=28.8, lr=[0.001], speed=1.83]\n"
     ]
    },
    {
     "name": "stdout",
     "output_type": "stream",
     "text": [
      "Saving checkpoint: /home/ec2-user/SageMaker/checkpoints/uncropped/checkpoint_Model_v2_epoch26_acc_88.26456.pth.tar ...\n"
     ]
    },
    {
     "name": "stderr",
     "output_type": "stream",
     "text": [
      "Epoch[28/30]: 100%|██████████| 855/855 [01:03<00:00, 13.53it/s, accuracy=87.4, batch_loss=2.36e-9, device=cuda:0, global_loss=30.2, lr=[0.001], speed=1.83]\n"
     ]
    },
    {
     "name": "stdout",
     "output_type": "stream",
     "text": [
      "Saving checkpoint: /home/ec2-user/SageMaker/checkpoints/uncropped/checkpoint_Model_v2_epoch27_acc_87.38660.pth.tar ...\n"
     ]
    },
    {
     "name": "stderr",
     "output_type": "stream",
     "text": [
      "Epoch[29/30]: 100%|██████████| 855/855 [01:03<00:00, 13.36it/s, accuracy=88, batch_loss=0.0571, device=cuda:0, global_loss=26.6, lr=[0.001], speed=1.78]\n"
     ]
    },
    {
     "name": "stdout",
     "output_type": "stream",
     "text": [
      "Saving checkpoint: /home/ec2-user/SageMaker/checkpoints/uncropped/checkpoint_Model_v2_epoch28_acc_87.97191.pth.tar ...\n"
     ]
    },
    {
     "name": "stderr",
     "output_type": "stream",
     "text": [
      "Epoch[30/30]: 100%|██████████| 855/855 [01:03<00:00, 13.52it/s, accuracy=88.5, batch_loss=0.000388, device=cuda:0, global_loss=30.1, lr=[0.001], speed=1.82]\n"
     ]
    },
    {
     "name": "stdout",
     "output_type": "stream",
     "text": [
      "Saving checkpoint: /home/ec2-user/SageMaker/checkpoints/uncropped/checkpoint_Model_v2_epoch29_acc_88.46942.pth.tar ...\n",
      "Train Accuracy: 99.04141665447095\n",
      "Validation Accuracy: 88.46941761779338\n",
      "Best Threshold: 0.1\n",
      "Best Validation Accuracy: 12.4434250764526\n"
     ]
    },
    {
     "data": {
      "image/png": "[encoded data removed]",
      "text/plain": [
       "<Figure size 640x480 with 1 Axes>"
      ]
     },
     "metadata": {},
     "output_type": "display_data"
    }
   ],
   "source": [
    "trainer._train_epoch()"
   ]
  },
  {
   "cell_type": "code",
   "execution_count": 42,
   "id": "569d735d-e88e-49c1-ad63-9bee895ea005",
   "metadata": {
    "tags": []
   },
   "outputs": [],
   "source": [
    "# import itertools\n",
    "\n",
    "# # Define the hyperparameter grid\n",
    "# hyperparameter_grid = {\n",
    "#     'model': [Model_v2], # adding more layers # adding more maxpool and make \n",
    "#     'lr': [0.001], # imp\n",
    "#     'weight_decay': [1e-7],\n",
    "#     'dropout': [0.2], #imp\n",
    "#     'loss_weight': [0.3,0.5,1.0,1.5,2.0,5.0],\n",
    "#     'batch_size': [16] # most imp\n",
    "# }\n",
    "\n",
    "# # Create a list of all possible combinations of hyperparameters\n",
    "# hyperparameter_combinations = list(itertools.product(*hyperparameter_grid.values()))\n",
    "\n",
    "# # Define a function for training and evaluating the model with a given set of hyperparameters\n",
    "# def train_and_evaluate_model(model_class, lr, weight_decay, dropout, loss_weight, batch_size):\n",
    "#     # Create the model\n",
    "#     device = torch.device(\"cuda:0\" if torch.cuda.is_available() else \"cpu\")\n",
    "#     model = model_class(dropout)\n",
    "#     model.to(device)\n",
    "#     parameters = filter(lambda p: p.requires_grad, model.parameters())\n",
    "    \n",
    "#     # Create the optimizer\n",
    "#     optimizer = optim.Adam(\n",
    "#         params=parameters,\n",
    "#         lr=lr,\n",
    "#         betas=(0.8, 0.999),\n",
    "#         eps=1e-8,\n",
    "#         weight_decay=weight_decay)\n",
    "#     tensorboard_dir = '/home/ec2-user/SageMaker/runs/'\n",
    "#     # Create the scheduler\n",
    "#     lr_warm_up_num = 100\n",
    "#     cr = 1.0 / math.log(lr_warm_up_num)\n",
    "#     scheduler = optim.lr_scheduler.LambdaLR(\n",
    "#         optimizer,\n",
    "#         lr_lambda=lambda ee: cr * math.log(ee + 1)\n",
    "#         if ee < lr_warm_up_num else 1)\n",
    "    \n",
    "#     # Create the loss criterion\n",
    "#     data = pd.read_csv('dataset/uncropped/annotations.csv')\n",
    "#     label_counts = data.iloc[:, 1].value_counts()\n",
    "#     loss_ratio = label_counts[0] / label_counts[1]\n",
    "#     weight = torch.Tensor([1,loss_ratio*loss_weight]).to(device)\n",
    "#     loss_criterion = torch.nn.CrossEntropyLoss(weight=weight)\n",
    "    \n",
    "#     # Load the data with the specified batch size\n",
    "#     dataset_length = len(dataset)\n",
    "#     train_size = int(0.7 * dataset_length)\n",
    "#     test_size = dataset_length - train_size\n",
    "#     train_set, test_set = torch.utils.data.random_split(dataset, [train_size,test_size])\n",
    "\n",
    "#     train_loader = DataLoader(dataset=train_set, batch_size=batch_size, shuffle=True)\n",
    "#     test_loader = DataLoader(dataset=test_set, batch_size=batch_size, shuffle=True)\n",
    "    \n",
    "#     # Create the Trainer object\n",
    "#     trainer = Trainer(\n",
    "#         model, loss_criterion,\n",
    "#         train_data_loader=train_loader,\n",
    "#         test_data_loader=test_loader,\n",
    "#         optimizer=optimizer,\n",
    "#         epochs=30,\n",
    "#         with_cuda=True,\n",
    "#         use_scheduler=True,\n",
    "#         scheduler=scheduler,\n",
    "#         save_dir='/home/ec2-user/SageMaker/checkpoints/uncropped/',\n",
    "#         tensorboard_dir=tensorboard_dir,\n",
    "#         lr=lr)\n",
    "    \n",
    "#     # Train the model\n",
    "#     trainer._train_epoch()\n",
    "    \n",
    "#     # Evaluate the model\n",
    "#     accuracy = trainer._valid_epoch(model, 0, test_loader)\n",
    "    \n",
    "#     return accuracy\n",
    "\n",
    "# # Perform grid search\n",
    "# best_accuracy = 0.0\n",
    "# best_hyperparameters = None\n",
    "\n",
    "# for hyperparameters in hyperparameter_combinations:\n",
    "#     model_class, lr, weight_decay, dropout, loss_weight, batch_size = hyperparameters\n",
    "#     print(f\"Training model {model_class.__name__} with lr={lr}, weight_decay={weight_decay}, dropout={dropout}, loss_weight={loss_weight}, batch_size={batch_size}...\")\n",
    "#     accuracy = train_and_evaluate_model(model_class, lr, weight_decay, dropout, loss_weight, batch_size)\n",
    "#     print(f\"Accuracy: {accuracy}%\")\n",
    "    \n",
    "#     if accuracy > best_accuracy:\n",
    "#         best_accuracy = accuracy\n",
    "#         best_hyperparameters = hyperparameters\n",
    "        \n",
    "# print(best_accuracy)\n",
    "# print(best_hyperparameters)\n"
   ]
  }
 ],
 "metadata": {
  "kernelspec": {
   "display_name": "conda_pytorch_p310",
   "language": "python",
   "name": "conda_pytorch_p310"
  },
  "language_info": {
   "codemirror_mode": {
    "name": "ipython",
    "version": 3
   },
   "file_extension": ".py",
   "mimetype": "text/x-python",
   "name": "python",
   "nbconvert_exporter": "python",
   "pygments_lexer": "ipython3",
   "version": "3.10.10"
  }
 },
 "nbformat": 4,
 "nbformat_minor": 5
}
