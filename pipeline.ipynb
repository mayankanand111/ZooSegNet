{
 "cells": [
  {
   "cell_type": "markdown",
   "id": "632bc5c7-3383-479b-bc2b-053037e66c18",
   "metadata": {
    "tags": []
   },
   "source": [
    "# Imports"
   ]
  },
  {
   "cell_type": "code",
   "execution_count": 86,
   "id": "a66df1e2-3718-4cfe-83de-61750940bbe7",
   "metadata": {},
   "outputs": [
    {
     "name": "stdout",
     "output_type": "stream",
     "text": [
      "Looking in indexes: https://pypi.org/simple, https://pip.repos.neuron.amazonaws.com\n",
      "Requirement already satisfied: tensorboard in /home/ec2-user/anaconda3/envs/pytorch_p39/lib/python3.9/site-packages (2.13.0)\n",
      "Requirement already satisfied: tensorboard-data-server<0.8.0,>=0.7.0 in /home/ec2-user/anaconda3/envs/pytorch_p39/lib/python3.9/site-packages (from tensorboard) (0.7.0)\n",
      "Requirement already satisfied: numpy>=1.12.0 in /home/ec2-user/anaconda3/envs/pytorch_p39/lib/python3.9/site-packages (from tensorboard) (1.23.5)\n",
      "Requirement already satisfied: werkzeug>=1.0.1 in /home/ec2-user/anaconda3/envs/pytorch_p39/lib/python3.9/site-packages (from tensorboard) (2.2.2)\n",
      "Requirement already satisfied: google-auth-oauthlib<1.1,>=0.5 in /home/ec2-user/anaconda3/envs/pytorch_p39/lib/python3.9/site-packages (from tensorboard) (1.0.0)\n",
      "Requirement already satisfied: requests<3,>=2.21.0 in /home/ec2-user/anaconda3/envs/pytorch_p39/lib/python3.9/site-packages (from tensorboard) (2.28.1)\n",
      "Requirement already satisfied: setuptools>=41.0.0 in /home/ec2-user/anaconda3/envs/pytorch_p39/lib/python3.9/site-packages (from tensorboard) (65.6.3)\n",
      "Requirement already satisfied: markdown>=2.6.8 in /home/ec2-user/anaconda3/envs/pytorch_p39/lib/python3.9/site-packages (from tensorboard) (3.4.3)\n",
      "Requirement already satisfied: absl-py>=0.4 in /home/ec2-user/anaconda3/envs/pytorch_p39/lib/python3.9/site-packages (from tensorboard) (1.4.0)\n",
      "Requirement already satisfied: wheel>=0.26 in /home/ec2-user/anaconda3/envs/pytorch_p39/lib/python3.9/site-packages (from tensorboard) (0.38.4)\n",
      "Requirement already satisfied: grpcio>=1.48.2 in /home/ec2-user/anaconda3/envs/pytorch_p39/lib/python3.9/site-packages (from tensorboard) (1.54.2)\n",
      "Requirement already satisfied: protobuf>=3.19.6 in /home/ec2-user/anaconda3/envs/pytorch_p39/lib/python3.9/site-packages (from tensorboard) (3.20.2)\n",
      "Requirement already satisfied: google-auth<3,>=1.6.3 in /home/ec2-user/anaconda3/envs/pytorch_p39/lib/python3.9/site-packages (from tensorboard) (2.19.0)\n",
      "Requirement already satisfied: cachetools<6.0,>=2.0.0 in /home/ec2-user/anaconda3/envs/pytorch_p39/lib/python3.9/site-packages (from google-auth<3,>=1.6.3->tensorboard) (5.3.1)\n",
      "Requirement already satisfied: urllib3<2.0 in /home/ec2-user/anaconda3/envs/pytorch_p39/lib/python3.9/site-packages (from google-auth<3,>=1.6.3->tensorboard) (1.26.8)\n",
      "Requirement already satisfied: pyasn1-modules>=0.2.1 in /home/ec2-user/anaconda3/envs/pytorch_p39/lib/python3.9/site-packages (from google-auth<3,>=1.6.3->tensorboard) (0.3.0)\n",
      "Requirement already satisfied: rsa<5,>=3.1.4 in /home/ec2-user/anaconda3/envs/pytorch_p39/lib/python3.9/site-packages (from google-auth<3,>=1.6.3->tensorboard) (4.7.2)\n",
      "Requirement already satisfied: six>=1.9.0 in /home/ec2-user/anaconda3/envs/pytorch_p39/lib/python3.9/site-packages (from google-auth<3,>=1.6.3->tensorboard) (1.16.0)\n",
      "Requirement already satisfied: requests-oauthlib>=0.7.0 in /home/ec2-user/anaconda3/envs/pytorch_p39/lib/python3.9/site-packages (from google-auth-oauthlib<1.1,>=0.5->tensorboard) (1.3.1)\n",
      "Requirement already satisfied: importlib-metadata>=4.4 in /home/ec2-user/anaconda3/envs/pytorch_p39/lib/python3.9/site-packages (from markdown>=2.6.8->tensorboard) (4.13.0)\n",
      "Requirement already satisfied: idna<4,>=2.5 in /home/ec2-user/anaconda3/envs/pytorch_p39/lib/python3.9/site-packages (from requests<3,>=2.21.0->tensorboard) (3.4)\n",
      "Requirement already satisfied: charset-normalizer<3,>=2 in /home/ec2-user/anaconda3/envs/pytorch_p39/lib/python3.9/site-packages (from requests<3,>=2.21.0->tensorboard) (2.1.1)\n",
      "Requirement already satisfied: certifi>=2017.4.17 in /home/ec2-user/anaconda3/envs/pytorch_p39/lib/python3.9/site-packages (from requests<3,>=2.21.0->tensorboard) (2022.12.7)\n",
      "Requirement already satisfied: MarkupSafe>=2.1.1 in /home/ec2-user/anaconda3/envs/pytorch_p39/lib/python3.9/site-packages (from werkzeug>=1.0.1->tensorboard) (2.1.1)\n",
      "Requirement already satisfied: zipp>=0.5 in /home/ec2-user/anaconda3/envs/pytorch_p39/lib/python3.9/site-packages (from importlib-metadata>=4.4->markdown>=2.6.8->tensorboard) (3.11.0)\n",
      "Requirement already satisfied: pyasn1<0.6.0,>=0.4.6 in /home/ec2-user/anaconda3/envs/pytorch_p39/lib/python3.9/site-packages (from pyasn1-modules>=0.2.1->google-auth<3,>=1.6.3->tensorboard) (0.4.8)\n",
      "Requirement already satisfied: oauthlib>=3.0.0 in /home/ec2-user/anaconda3/envs/pytorch_p39/lib/python3.9/site-packages (from requests-oauthlib>=0.7.0->google-auth-oauthlib<1.1,>=0.5->tensorboard) (3.2.2)\n",
      "Note: you may need to restart the kernel to use updated packages.\n"
     ]
    }
   ],
   "source": [
    "pip install tensorboard"
   ]
  },
  {
   "cell_type": "code",
   "execution_count": 87,
   "id": "7a543005-cabc-41ad-8649-287c81ca6ed0",
   "metadata": {
    "tags": []
   },
   "outputs": [],
   "source": [
    "import os\n",
    "import torch\n",
    "import torch.nn as nn\n",
    "import torch.nn.functional as F\n",
    "import pandas as pd\n",
    "from skimage import io,transform,img_as_ubyte\n",
    "import numpy as np\n",
    "import matplotlib.pyplot as plt\n",
    "import matplotlib.patches as patches\n",
    "from torch.utils.data import Dataset, DataLoader\n",
    "from torchvision import transforms, utils\n",
    "from PIL import Image\n",
    "from tqdm import tqdm\n",
    "import torch.optim as optim\n",
    "import math\n",
    "import time\n",
    "from datetime import datetime\n",
    "import shutil\n",
    "import tensorboard\n",
    "from torch.utils.tensorboard import SummaryWriter\n",
    "from torchvision.utils import make_grid\n",
    "import torchvision.transforms.functional as TF\n",
    "from PIL import Image, ImageDraw, ImageFont\n",
    "import torchvision.utils as vutils\n",
    "from torchvision.transforms.functional import to_pil_image\n",
    "from sklearn.metrics import confusion_matrix\n",
    "import itertools"
   ]
  },
  {
   "cell_type": "markdown",
   "id": "9ac245bb-522d-4492-b7b3-47f82d7002bf",
   "metadata": {
    "tags": []
   },
   "source": [
    "# Saving cropped images\n",
    "\n",
    "below is comment and will be removed later because we use GetCropDataset.ipynp for cropping images "
   ]
  },
  {
   "cell_type": "code",
   "execution_count": 88,
   "id": "c9f33e3d-9f5e-4292-9e08-27caa8e2a4de",
   "metadata": {
    "tags": []
   },
   "outputs": [],
   "source": [
    "# class CroppedZooplanktonDataset(Dataset):\n",
    "#     def __init__(self, csv, root_dir, transform=None):\n",
    "#         self.annotations = pd.read_csv(os.path.join(root_dir, csv))\n",
    "#         self.root_dir = root_dir\n",
    "#         self.transform = transform\n",
    "    \n",
    "#     def __len__(self):\n",
    "#         return len(self.annotations)\n",
    "    \n",
    "#     def __getitem__(self, index):\n",
    "#         img_path = os.path.join(self.root_dir, self.annotations.iloc[index, 1])\n",
    "#         image = Image.open(img_path).convert('RGB')\n",
    "        \n",
    "#         # Extract coordinates for area of interest from the CSV columns\n",
    "#         TL_x = self.annotations.iloc[index, 3]  # Top-left x-coordinate\n",
    "#         TL_y = self.annotations.iloc[index, 4]  # Top-left y-coordinate\n",
    "#         BR_x = self.annotations.iloc[index, 5]  # Bottom-right x-coordinate\n",
    "#         BR_y = self.annotations.iloc[index, 6]  # Bottom-right y-coordinate\n",
    "                \n",
    "#         cropped_image = image.crop((TL_x, TL_y, BR_x, BR_y))\n",
    "        \n",
    "#         y_label = self.annotations.iloc[index, 9]\n",
    "#         y_label = 0 if y_label == \"marine-snow\" else 1\n",
    "            \n",
    "#         if self.transform:\n",
    "#             cropped_image = self.transform(cropped_image)\n",
    "        \n",
    "#         return (cropped_image, y_label)"
   ]
  },
  {
   "cell_type": "code",
   "execution_count": 89,
   "id": "5e11982b-80e0-40e6-b467-2c4b3e6539d9",
   "metadata": {
    "tags": []
   },
   "outputs": [],
   "source": [
    "input_folder = '/home/ec2-user/SageMaker/dataset/2022-09-08'\n",
    "output_folder = '/home/ec2-user/SageMaker/dataset/cropped'"
   ]
  },
  {
   "cell_type": "code",
   "execution_count": 90,
   "id": "bbbc78e4-3b5d-45ee-8a18-18de6dd5e576",
   "metadata": {
    "tags": []
   },
   "outputs": [],
   "source": [
    "# os.makedirs(output_folder, exist_ok=True)"
   ]
  },
  {
   "cell_type": "code",
   "execution_count": 91,
   "id": "484de4fc-2f8d-4383-8eef-3c0d7ea19457",
   "metadata": {
    "tags": []
   },
   "outputs": [],
   "source": [
    "# dataset = CroppedZooplanktonDataset(csv='result_2022_09_08.csv', root_dir=input_folder)"
   ]
  },
  {
   "cell_type": "code",
   "execution_count": 92,
   "id": "688f4262-66c5-4b52-ac97-8c9497cc41f5",
   "metadata": {
    "tags": []
   },
   "outputs": [],
   "source": [
    "# for i in range(len(dataset)):\n",
    "#     cropped_image, _ = dataset[i]  # cropped image\n",
    "#     image_name = dataset.annotations.iloc[i, 1]  #image name\n",
    "#     output_path = os.path.join(output_folder, image_name)  #output path\n",
    "#     cropped_image.save(output_path)"
   ]
  },
  {
   "cell_type": "markdown",
   "id": "c62c9280-2b5f-4aab-a41c-bb52a49217b1",
   "metadata": {
    "tags": []
   },
   "source": [
    "remeber we have saved images without transform so we have to apply transformation in the dataloader"
   ]
  },
  {
   "cell_type": "markdown",
   "id": "ca5f05bc-d0b6-4be3-9952-98b92c3fa7ed",
   "metadata": {
    "tags": []
   },
   "source": [
    "# Dataset and dataloaders"
   ]
  },
  {
   "cell_type": "code",
   "execution_count": 93,
   "id": "77b8ced9-17b3-4796-a75b-417ec9e73c37",
   "metadata": {
    "tags": []
   },
   "outputs": [],
   "source": [
    "class ZooplanktonDataset(Dataset):\n",
    "    def __init__(self, csv, cropped_image_folder, transform=None):\n",
    "        self.annotations = pd.read_csv(csv)\n",
    "        self.cropped_image_folder = cropped_image_folder\n",
    "        self.transform = transform\n",
    "    \n",
    "    def __len__(self):\n",
    "        return len(self.annotations)\n",
    "    \n",
    "    def __getitem__(self, index):\n",
    "        img_name = self.annotations.iloc[index, 1]\n",
    "        cropped_img_path = os.path.join(self.cropped_image_folder, img_name)\n",
    "        \n",
    "        image = Image.open(cropped_img_path)\n",
    "        \n",
    "        y_label = self.annotations.iloc[index, 9]\n",
    "        y_label = 0 if y_label == \"marine-snow\" else 1\n",
    "            \n",
    "        if self.transform:\n",
    "            image = self.transform(image)\n",
    "        \n",
    "        return image, y_label\n"
   ]
  },
  {
   "cell_type": "code",
   "execution_count": 94,
   "id": "4c23216f-6606-45c2-a314-6925f62aa8b9",
   "metadata": {
    "tags": []
   },
   "outputs": [],
   "source": [
    "data_transform = transforms.Compose([\n",
    "    transforms.Resize((224, 224)),\n",
    "    transforms.ToTensor(),\n",
    "    transforms.Normalize(mean=[0.485, 0.456, 0.406], std=[0.229, 0.224, 0.225])\n",
    "])\n",
    "\n",
    "# data_transform = transforms.Compose([\n",
    "#     transforms.Resize((224, 224)),\n",
    "#     transforms.RandomHorizontalFlip(0.5),\n",
    "#     transforms.RandomRotation(10),\n",
    "#     transforms.ToTensor(),\n",
    "#     transforms.Normalize(mean=[0.485, 0.456, 0.406], std=[0.229, 0.224, 0.225])\n",
    "# ])\n",
    "\n",
    "dataset = ZooplanktonDataset(csv='dataset/cropped/annotations.csv',cropped_image_folder='dataset/cropped',\n",
    "                            transform=data_transform)\n",
    "\n",
    "# Calculate split sizes\n",
    "dataset_length = len(dataset)\n",
    "train_size = int(0.8 * dataset_length)\n",
    "test_size = dataset_length - train_size\n",
    "train_set, test_set = torch.utils.data.random_split(dataset, [train_size,test_size])\n",
    "\n",
    "train_loader = DataLoader(dataset=train_set, batch_size=32, shuffle=True)\n",
    "test_loader = DataLoader(dataset=test_set, batch_size=32, shuffle=True)"
   ]
  },
  {
   "cell_type": "markdown",
   "id": "e663f213-8f71-46c3-9463-446d4a663454",
   "metadata": {
    "tags": []
   },
   "source": [
    "# Models"
   ]
  },
  {
   "cell_type": "code",
   "execution_count": 95,
   "id": "23617768-f290-4624-bac7-a589797d8f82",
   "metadata": {
    "tags": []
   },
   "outputs": [],
   "source": [
    "class Basemodel(nn.Module):\n",
    "    def __init__(self):\n",
    "        super(Basemodel, self).__init__()\n",
    "        self.conv1 = nn.Conv2d(3, 16, 5)\n",
    "        self.pool = nn.MaxPool2d(2,2)\n",
    "        self.conv2 = nn.Conv2d(16, 32, 5)\n",
    "        self.dropout = nn.Dropout(0.2)\n",
    "        self.fc1 = nn.Linear(32*53*53, 256)\n",
    "        self.fc2 = nn.Linear(256, 84)\n",
    "        self.fc3 = nn.Linear(84, 2)\n",
    "        self.softmax = nn.LogSoftmax(dim=1)\n",
    "        \n",
    "    def forward(self, x):\n",
    "        x = F.relu(self.pool(self.conv1(x)))\n",
    "        x = F.relu(self.pool(self.conv2(x)))\n",
    "        x = self.dropout(x)\n",
    "        x = x.view(-1, 32 * 53 * 53)\n",
    "        x = F.relu(self.fc1(x))\n",
    "        x = self.dropout(F.relu(self.fc2(x)))\n",
    "        x = self.softmax(self.fc3(x))\n",
    "        return x"
   ]
  },
  {
   "cell_type": "code",
   "execution_count": 96,
   "id": "1d4fcede-d733-4dd8-bac9-feb68c3ca1f4",
   "metadata": {
    "tags": []
   },
   "outputs": [],
   "source": [
    "class Model_v1(nn.Module):\n",
    "    def __init__(self):\n",
    "        super(Model_v1, self).__init__()\n",
    "        self.conv1 = nn.Conv2d(3, 16, 3)\n",
    "        self.conv2 = nn.Conv2d(16, 32, 3)\n",
    "        self.conv3 = nn.Conv2d(32, 64, 3)\n",
    "        self.pool = nn.MaxPool2d(2, 2)\n",
    "        self.dropout = nn.Dropout(0.2)\n",
    "        self.fc1 = nn.Linear(64 * 26 * 26, 256)\n",
    "        self.fc2 = nn.Linear(256, 84)\n",
    "        self.fc3 = nn.Linear(84, 2)\n",
    "        self.softmax = nn.LogSoftmax(dim=1)\n",
    "        \n",
    "    def forward(self, x):\n",
    "        x = F.relu(self.conv1(x))\n",
    "        x = self.pool(x)\n",
    "        x = F.relu(self.conv2(x))\n",
    "        x = self.pool(x)\n",
    "        x = F.relu(self.conv3(x))\n",
    "        x = self.pool(x)\n",
    "        x = self.dropout(x)\n",
    "        x = x.view(-1, 64 * 26 * 26)\n",
    "        x = F.relu(self.fc1(x))\n",
    "        x = self.dropout(F.relu(self.fc2(x)))\n",
    "        x = self.softmax(self.fc3(x))\n",
    "        return x\n"
   ]
  },
  {
   "cell_type": "code",
   "execution_count": 97,
   "id": "f54fb7f0-625e-4779-8565-0d9bd6e007f6",
   "metadata": {
    "tags": []
   },
   "outputs": [],
   "source": [
    "class Model_v2(nn.Module):\n",
    "    def __init__(self):\n",
    "        super(Model_v2, self).__init__()\n",
    "        self.conv1 = nn.Conv2d(3, 16, 3)\n",
    "        self.conv2 = nn.Conv2d(16, 32, 3)\n",
    "        self.conv3 = nn.Conv2d(32, 64, 3)\n",
    "        self.conv4 = nn.Conv2d(64, 128, 3)  \n",
    "        self.pool = nn.MaxPool2d(2, 2)\n",
    "        self.dropout = nn.Dropout(0.2)\n",
    "        self.fc1 = nn.Linear(128 * 12 * 12, 256)\n",
    "        self.fc2 = nn.Linear(256, 84)\n",
    "        self.fc3 = nn.Linear(84, 2)\n",
    "        self.softmax = nn.LogSoftmax(dim=1)\n",
    "        \n",
    "    def forward(self, x):\n",
    "        x = F.relu(self.conv1(x))\n",
    "        x = self.pool(x)\n",
    "        x = F.relu(self.conv2(x))\n",
    "        x = self.pool(x)\n",
    "        x = F.relu(self.conv3(x))\n",
    "        x = self.pool(x)\n",
    "        x = F.relu(self.conv4(x))  \n",
    "        x = self.pool(x)\n",
    "        x = self.dropout(x)\n",
    "        x = x.view(-1, 128 * 12 * 12)\n",
    "        x = F.relu(self.fc1(x))\n",
    "        x = self.dropout(F.relu(self.fc2(x)))\n",
    "        x = self.softmax(self.fc3(x))\n",
    "        return x\n"
   ]
  },
  {
   "cell_type": "markdown",
   "id": "aceb8ad3-2aec-4f7d-8ddd-2a229c5af1a6",
   "metadata": {
    "tags": []
   },
   "source": [
    "# Loss curve "
   ]
  },
  {
   "cell_type": "code",
   "execution_count": 98,
   "id": "064031cd-6a36-479e-9e02-ffa0eac97b37",
   "metadata": {
    "tags": []
   },
   "outputs": [],
   "source": [
    "class LossCurve:\n",
    "    def __init__(self):\n",
    "        self\n",
    "\n",
    "    def PlotCurve(loss_values,epochs):\n",
    "        plt.plot(range(epochs), loss_values, 'blue')\n",
    "        plt.title('Loss decay')\n",
    "        plt.xlabel('number of epochs')\n",
    "        plt.ylabel('Loss')\n",
    "        plt.show()"
   ]
  },
  {
   "cell_type": "markdown",
   "id": "973bd25c-d5fe-45e2-a39b-885db688590d",
   "metadata": {
    "tags": []
   },
   "source": [
    "# Training Loop"
   ]
  },
  {
   "cell_type": "code",
   "execution_count": 99,
   "id": "8a592bbe-76ae-4b74-9f7e-f18626f3a04e",
   "metadata": {
    "tags": []
   },
   "outputs": [],
   "source": [
    "class Trainer():\n",
    "    def __init__(self, model, loss_criterion,\n",
    "                 train_data_loader, test_data_loader,\n",
    "                 optimizer, epochs, with_cuda,\n",
    "                 use_scheduler, scheduler, save_dir,tensorboard_dir, lr=0.001,print_freq=1):\n",
    "        self.device = torch.device(\"cuda:0\" if with_cuda else \"cpu\")\n",
    "        self.model = model\n",
    "        self.loss_criterion = loss_criterion\n",
    "        self.optimizer = optimizer\n",
    "        self.epochs = epochs\n",
    "        self.with_cuda = with_cuda\n",
    "        self.train_data_loader = train_data_loader\n",
    "        self.test_data_loader = test_data_loader\n",
    "        self.lr = lr\n",
    "        self.save_dir = save_dir\n",
    "        self.tensorboard_dir = tensorboard_dir\n",
    "        self.use_scheduler = use_scheduler\n",
    "        self.scheduler = scheduler\n",
    "        self.step = 0\n",
    "        self.print_freq = print_freq\n",
    "        self.start_time = datetime.now().strftime('%b-%d_%H-%M')\n",
    "        self.save_freq = 1\n",
    "        self.accuracy = 0\n",
    "        if not os.path.exists(self.tensorboard_dir):\n",
    "            os.makedirs(self.tensorboard_dir)\n",
    "        self.writer = SummaryWriter(log_dir=self.tensorboard_dir)\n",
    "        \n",
    "    def _train_epoch(self):\n",
    "        loss_values = []\n",
    "        \n",
    "        for epoch in range(self.epochs):\n",
    "            running_loss = 0\n",
    "            last_step = self.step - 1\n",
    "            last_time = time.time()\n",
    "            batch_counter = 0\n",
    "            accuracy=0\n",
    "            loop = tqdm(enumerate(self.train_data_loader), total=len(self.train_data_loader), leave=True)\n",
    "            for batch_idx, (images, labels) in loop:\n",
    "                if self.with_cuda:\n",
    "                    images, labels = images.to(self.device), labels.to (self.device)\n",
    "                model.train()\n",
    "                batch_counter += 1\n",
    "                # forward pass\n",
    "                outputs = self.model(images)\n",
    "                # finding loss\n",
    "                loss = self.loss_criterion(outputs, labels)\n",
    "                # backward pass\n",
    "                self.optimizer.zero_grad()\n",
    "                loss.backward()\n",
    "                self.optimizer.step()\n",
    "                \n",
    "                if self.use_scheduler:\n",
    "                    self.scheduler.step()\n",
    "\n",
    "                running_loss += loss.item()\n",
    "                # evaluation of model on test data\n",
    "                if batch_counter % 10 == 0 or batch_counter == len(self.train_data_loader):\n",
    "                    accuracy = self._valid_epoch(model, epoch, self.test_data_loader)\n",
    "                \n",
    "                is_best = False\n",
    "                if accuracy > self.accuracy:\n",
    "                    is_best = True\n",
    "                self.accuracy = accuracy\n",
    "                \n",
    "                if self.step % self.print_freq == self.print_freq - 1:\n",
    "                    used_time = time.time() - last_time\n",
    "                    step_num = self.step - last_step\n",
    "                    speed = self.train_data_loader.batch_size * \\\n",
    "                        step_num / used_time\n",
    "                    batch_loss = loss.item()\n",
    "                    loop.set_description(f\"Epoch[{epoch + 1}/{self.epochs}]\")\n",
    "                    loop.set_postfix(\n",
    "                    lr=self.scheduler.get_last_lr(),\n",
    "                    batch_loss=batch_loss,\n",
    "                    global_loss = running_loss,\n",
    "                    speed=speed,\n",
    "                    accuracy = self.accuracy,\n",
    "                    device = self.device\n",
    "                    )\n",
    "                    global_loss = 0.0\n",
    "                    last_step = self.step\n",
    "                    last_time = time.time()\n",
    "                self.step += 1\n",
    "\n",
    "            if epoch % self.save_freq == 0:\n",
    "                self._save_checkpoint(epoch, is_best)\n",
    "            \n",
    "            self.writer.add_scalar('Loss', running_loss / len(self.train_data_loader), global_step=self.step)\n",
    "            loss_values.append(running_loss / len(self.train_data_loader))\n",
    "            \n",
    "        # Plotting Loss Curve\n",
    "        LossCurve.PlotCurve(loss_values, self.epochs)\n",
    "        \n",
    "        #logging images to Tensorboard\n",
    "        self.log_images_after_training()\n",
    "        \n",
    "        #closing SummaryWriter Object\n",
    "        self.writer.close()\n",
    "        \n",
    "    def _valid_epoch(self, model, epoch, test_loader):\n",
    "        model.eval()\n",
    "        with torch.no_grad():\n",
    "            correct_samples = 0\n",
    "            total_samples = 0\n",
    "            for images, labels in test_loader:\n",
    "                if self.with_cuda:\n",
    "                    images, labels = images.to(self.device), labels.to (self.device)\n",
    "                pred_ratio = model(images)\n",
    "                _, pred_labels = torch.max(pred_ratio, 1)\n",
    "                total_samples += labels.size(0)\n",
    "                correct_samples += (pred_labels == labels).sum().item()\n",
    "            accuracy = (correct_samples / total_samples) * 100\n",
    "            self.writer.add_scalar('Accuracy', accuracy, global_step=epoch)\n",
    "            return accuracy\n",
    "    \n",
    "    def _save_checkpoint(self, epoch, is_best):\n",
    "        arch = type(self.model).__name__\n",
    "        state = {\n",
    "            'epoch': epoch,\n",
    "            'arch': arch,\n",
    "            'state_dict': self.model.state_dict(),\n",
    "            'optimizer': self.optimizer.state_dict(),\n",
    "            'accuracy': self.accuracy,\n",
    "            'step': self.step + 1,\n",
    "            'start_time': self.start_time}\n",
    "        filename = os.path.join(\n",
    "            self.save_dir+\n",
    "            'checkpoint_{}_epoch{:02d}_acc_{:.5f}.pth.tar'.format(\n",
    "                arch,\n",
    "                epoch, \n",
    "                self.accuracy))\n",
    "        print(\"Saving checkpoint: {} ...\".format(filename))\n",
    "        if not os.path.exists(self.save_dir):\n",
    "            os.makedirs(self.save_dir)\n",
    "        torch.save(state, filename)\n",
    "        if is_best:\n",
    "            shutil.copyfile(\n",
    "                filename, os.path.join(self.save_dir, 'model_best.pth.tar'))\n",
    "        return filename\n",
    "\n",
    "    def log_images_after_training(self):\n",
    "        checkpoint = torch.load(\"/home/ec2-user/SageMaker/checkpoints/cropped/model_best.pth.tar\")\n",
    "        self.model.load_state_dict(checkpoint['state_dict'])\n",
    "        self.model.eval()\n",
    "        images = []\n",
    "        true_labels = []\n",
    "        predicted_labels = []\n",
    "\n",
    "        for batch_images, batch_labels in self.test_data_loader:\n",
    "            with torch.no_grad():\n",
    "                if self.with_cuda:\n",
    "                    batch_images, batch_labels = batch_images.to(self.device), batch_labels.to(self.device)\n",
    "\n",
    "                # Forward pass to obtain predicted labels for each item in the batch\n",
    "                batch_outputs = self.model(batch_images)\n",
    "                batch_predicted_labels = torch.argmax(batch_outputs, dim=1)\n",
    "            # Iterate over each item in the batch\n",
    "            for i in range(batch_images.size(0)):\n",
    "                image = vutils.make_grid(batch_images[i], nrow=1, padding=10, normalize=True) \n",
    "                true_label = batch_labels[i]\n",
    "                predicted_label = batch_predicted_labels[i]\n",
    "\n",
    "                images.append(image)\n",
    "                true_labels.append(true_label)\n",
    "                predicted_labels.append(predicted_label)\n",
    "\n",
    "        for i in range(len(images)):\n",
    "            image = images[i]\n",
    "            true_label = true_labels[i]\n",
    "            predicted_label = predicted_labels[i]\n",
    "\n",
    "            # Set the image name as the predicted and true labels\n",
    "            image_name = f\"Image-{i}-True-{true_label}-Predicted-{predicted_label}\"\n",
    "\n",
    "            # Log the image on TensorBoard with the image name\n",
    "            self.writer.add_image(image_name, image.cpu(), global_step=i)\n",
    "\n",
    "        #creating confusion matrix\n",
    "        true_labels = torch.tensor(true_labels)\n",
    "        predicted_labels = torch.tensor(predicted_labels)\n",
    "\n",
    "        cm = confusion_matrix(true_labels, predicted_labels)\n",
    "\n",
    "        fig = plt.figure(figsize=(8, 8))\n",
    "        plt.imshow(cm, interpolation='nearest', cmap=plt.cm.Blues)\n",
    "        plt.colorbar()\n",
    "\n",
    "        # Set the axis labels and ticks\n",
    "        class_names = ['Zooplankton', 'Marine-Snow']\n",
    "        tick_marks = np.arange(len(class_names))\n",
    "        plt.xticks(tick_marks, class_names)\n",
    "        plt.yticks(tick_marks, class_names)\n",
    "\n",
    "        # Add labels to each cell of the confusion matrix\n",
    "        thresh = cm.max() / 2.\n",
    "        for i, j in itertools.product(range(cm.shape[0]), range(cm.shape[1])):\n",
    "            plt.text(j, i, format(cm[i, j], 'd'),\n",
    "                     horizontalalignment=\"center\",\n",
    "                     color=\"white\" if cm[i, j] > thresh else \"black\")\n",
    "\n",
    "        # Save the confusion matrix figure to TensorBoard\n",
    "        self.writer.add_figure('Confusion Matrix', fig)\n",
    "\n"
   ]
  },
  {
   "cell_type": "markdown",
   "id": "6fc2f1e9-e45c-4e62-8a35-7330b88283ce",
   "metadata": {
    "tags": []
   },
   "source": [
    "# Hyperparameters"
   ]
  },
  {
   "cell_type": "code",
   "execution_count": 100,
   "id": "9087ec74-10c8-4b63-9d89-acf6159d26f7",
   "metadata": {
    "tags": []
   },
   "outputs": [],
   "source": [
    "    #model\n",
    "    device = torch.device(\"cuda:0\" if torch.cuda.is_available() else \"cpu\")\n",
    "    model = Model_v1()\n",
    "    model.to(device)\n",
    "    parameters = filter(lambda p: p.requires_grad, model.parameters())\n",
    "   # optimizer \n",
    "    optimizer = optim.Adam(\n",
    "        params=parameters,\n",
    "        lr=0.001,\n",
    "        betas=(0.8, 0.999),\n",
    "        eps=1e-8,\n",
    "        weight_decay=3e-7)\n",
    "    #scheduler\n",
    "    lr_warm_up_num = 100\n",
    "    cr = 1.0 / math.log(lr_warm_up_num)\n",
    "    scheduler = optim.lr_scheduler.LambdaLR(\n",
    "        optimizer,\n",
    "        lr_lambda=lambda ee: cr * math.log(ee + 1)\n",
    "        if ee < lr_warm_up_num else 1)\n",
    "    #  loss, metrics\n",
    "    loss_criterion = torch.nn.CrossEntropyLoss()\n",
    "    #creating object for tensorboard_dir\n",
    "    tensorboard_dir = '/home/ec2-user/SageMaker/runs/'\n"
   ]
  },
  {
   "cell_type": "markdown",
   "id": "bcf15377-d31a-413c-be7e-42be733190d4",
   "metadata": {
    "tags": []
   },
   "source": [
    "# Trainer Object"
   ]
  },
  {
   "cell_type": "code",
   "execution_count": 101,
   "id": "86016839-5292-4fd5-8055-6520441a1397",
   "metadata": {
    "tags": []
   },
   "outputs": [],
   "source": [
    "   trainer = Trainer(\n",
    "        model, loss_criterion,\n",
    "        train_data_loader=train_loader,\n",
    "        test_data_loader=test_loader,\n",
    "        optimizer=optimizer,\n",
    "        epochs=10,\n",
    "        with_cuda=True,\n",
    "        use_scheduler=True,\n",
    "        scheduler=scheduler,\n",
    "        save_dir='/home/ec2-user/SageMaker/checkpoints/cropped/',\n",
    "        tensorboard_dir=tensorboard_dir,\n",
    "        lr=0.001)\n",
    " "
   ]
  },
  {
   "cell_type": "code",
   "execution_count": 102,
   "id": "aae2cf3f-2bd5-4ac8-9ed4-b08e4423cef2",
   "metadata": {
    "tags": []
   },
   "outputs": [
    {
     "name": "stderr",
     "output_type": "stream",
     "text": [
      "Epoch[1/10]: 100%|██████████| 47/47 [00:33<00:00,  1.41it/s, accuracy=91.1, batch_loss=0.0942, device=cuda:0, global_loss=16.5, lr=[0.0008406206186877935], speed=7.69]\n"
     ]
    },
    {
     "name": "stdout",
     "output_type": "stream",
     "text": [
      "Saving checkpoint: /home/ec2-user/SageMaker/checkpoints/cropped/checkpoint_Model_v1_epoch00_acc_91.10512.pth.tar ...\n"
     ]
    },
    {
     "name": "stderr",
     "output_type": "stream",
     "text": [
      "Epoch[2/10]: 100%|██████████| 47/47 [00:33<00:00,  1.42it/s, accuracy=90.6, batch_loss=1.6, device=cuda:0, global_loss=12.6, lr=[0.0009888618026444237], speed=9.03]  \n"
     ]
    },
    {
     "name": "stdout",
     "output_type": "stream",
     "text": [
      "Saving checkpoint: /home/ec2-user/SageMaker/checkpoints/cropped/checkpoint_Model_v1_epoch01_acc_90.56604.pth.tar ...\n"
     ]
    },
    {
     "name": "stderr",
     "output_type": "stream",
     "text": [
      "Epoch[3/10]: 100%|██████████| 47/47 [00:33<00:00,  1.40it/s, accuracy=90.3, batch_loss=0.142, device=cuda:0, global_loss=10.3, lr=[0.001], speed=8.79]             \n"
     ]
    },
    {
     "name": "stdout",
     "output_type": "stream",
     "text": [
      "Saving checkpoint: /home/ec2-user/SageMaker/checkpoints/cropped/checkpoint_Model_v1_epoch02_acc_90.29650.pth.tar ...\n"
     ]
    },
    {
     "name": "stderr",
     "output_type": "stream",
     "text": [
      "Epoch[4/10]: 100%|██████████| 47/47 [00:28<00:00,  1.63it/s, accuracy=91.4, batch_loss=0.515, device=cuda:0, global_loss=7.89, lr=[0.001], speed=8.66] \n"
     ]
    },
    {
     "name": "stdout",
     "output_type": "stream",
     "text": [
      "Saving checkpoint: /home/ec2-user/SageMaker/checkpoints/cropped/checkpoint_Model_v1_epoch03_acc_91.37466.pth.tar ...\n"
     ]
    },
    {
     "name": "stderr",
     "output_type": "stream",
     "text": [
      "Epoch[5/10]: 100%|██████████| 47/47 [00:24<00:00,  1.92it/s, accuracy=94.1, batch_loss=0.0472, device=cuda:0, global_loss=6.7, lr=[0.001], speed=12.6] \n"
     ]
    },
    {
     "name": "stdout",
     "output_type": "stream",
     "text": [
      "Saving checkpoint: /home/ec2-user/SageMaker/checkpoints/cropped/checkpoint_Model_v1_epoch04_acc_94.07008.pth.tar ...\n"
     ]
    },
    {
     "name": "stderr",
     "output_type": "stream",
     "text": [
      "Epoch[6/10]: 100%|██████████| 47/47 [00:23<00:00,  1.98it/s, accuracy=94.6, batch_loss=0.00272, device=cuda:0, global_loss=4.28, lr=[0.001], speed=12.4]\n"
     ]
    },
    {
     "name": "stdout",
     "output_type": "stream",
     "text": [
      "Saving checkpoint: /home/ec2-user/SageMaker/checkpoints/cropped/checkpoint_Model_v1_epoch05_acc_94.60916.pth.tar ...\n"
     ]
    },
    {
     "name": "stderr",
     "output_type": "stream",
     "text": [
      "Epoch[7/10]: 100%|██████████| 47/47 [00:23<00:00,  1.96it/s, accuracy=93.8, batch_loss=0.0138, device=cuda:0, global_loss=4.03, lr=[0.001], speed=12.4]\n"
     ]
    },
    {
     "name": "stdout",
     "output_type": "stream",
     "text": [
      "Saving checkpoint: /home/ec2-user/SageMaker/checkpoints/cropped/checkpoint_Model_v1_epoch06_acc_93.80054.pth.tar ...\n"
     ]
    },
    {
     "name": "stderr",
     "output_type": "stream",
     "text": [
      "Epoch[8/10]: 100%|██████████| 47/47 [00:24<00:00,  1.94it/s, accuracy=96, batch_loss=0.0436, device=cuda:0, global_loss=2.78, lr=[0.001], speed=12.4]     \n"
     ]
    },
    {
     "name": "stdout",
     "output_type": "stream",
     "text": [
      "Saving checkpoint: /home/ec2-user/SageMaker/checkpoints/cropped/checkpoint_Model_v1_epoch07_acc_95.95687.pth.tar ...\n"
     ]
    },
    {
     "name": "stderr",
     "output_type": "stream",
     "text": [
      "Epoch[9/10]: 100%|██████████| 47/47 [00:23<00:00,  1.97it/s, accuracy=94.1, batch_loss=0.0526, device=cuda:0, global_loss=2.3, lr=[0.001], speed=12.7] \n"
     ]
    },
    {
     "name": "stdout",
     "output_type": "stream",
     "text": [
      "Saving checkpoint: /home/ec2-user/SageMaker/checkpoints/cropped/checkpoint_Model_v1_epoch08_acc_94.07008.pth.tar ...\n"
     ]
    },
    {
     "name": "stderr",
     "output_type": "stream",
     "text": [
      "Epoch[10/10]: 100%|██████████| 47/47 [00:23<00:00,  1.98it/s, accuracy=96, batch_loss=0.124, device=cuda:0, global_loss=2.01, lr=[0.001], speed=12.1]     \n"
     ]
    },
    {
     "name": "stdout",
     "output_type": "stream",
     "text": [
      "Saving checkpoint: /home/ec2-user/SageMaker/checkpoints/cropped/checkpoint_Model_v1_epoch09_acc_95.95687.pth.tar ...\n"
     ]
    },
    {
     "data": {
      "image/png": "[encoded data removed]",
      "text/plain": [
       "<Figure size 640x480 with 1 Axes>"
      ]
     },
     "metadata": {},
     "output_type": "display_data"
    }
   ],
   "source": [
    "trainer._train_epoch()"
   ]
  },
  {
   "cell_type": "code",
   "execution_count": null,
   "id": "f18f9967-eb75-4fdb-98ba-0a3e9dae4f6e",
   "metadata": {},
   "outputs": [],
   "source": []
  }
 ],
 "metadata": {
  "kernelspec": {
   "display_name": "conda_pytorch_p39",
   "language": "python",
   "name": "conda_pytorch_p39"
  },
  "language_info": {
   "codemirror_mode": {
    "name": "ipython",
    "version": 3
   },
   "file_extension": ".py",
   "mimetype": "text/x-python",
   "name": "python",
   "nbconvert_exporter": "python",
   "pygments_lexer": "ipython3",
   "version": "3.9.15"
  }
 },
 "nbformat": 4,
 "nbformat_minor": 5
}
