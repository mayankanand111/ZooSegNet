{
 "cells": [
  {
   "cell_type": "markdown",
   "id": "632bc5c7-3383-479b-bc2b-053037e66c18",
   "metadata": {
    "tags": []
   },
   "source": [
    "# Imports"
   ]
  },
  {
   "cell_type": "code",
   "execution_count": 42,
   "id": "a66df1e2-3718-4cfe-83de-61750940bbe7",
   "metadata": {
    "tags": []
   },
   "outputs": [
    {
     "name": "stdout",
     "output_type": "stream",
     "text": [
      "Looking in indexes: https://pypi.org/simple, https://pip.repos.neuron.amazonaws.com\n",
      "Requirement already satisfied: tensorboard in /home/ec2-user/anaconda3/envs/pytorch_p310/lib/python3.10/site-packages (2.13.0)\n",
      "Requirement already satisfied: absl-py>=0.4 in /home/ec2-user/anaconda3/envs/pytorch_p310/lib/python3.10/site-packages (from tensorboard) (1.4.0)\n",
      "Requirement already satisfied: grpcio>=1.48.2 in /home/ec2-user/anaconda3/envs/pytorch_p310/lib/python3.10/site-packages (from tensorboard) (1.56.2)\n",
      "Requirement already satisfied: google-auth<3,>=1.6.3 in /home/ec2-user/anaconda3/envs/pytorch_p310/lib/python3.10/site-packages (from tensorboard) (2.22.0)\n",
      "Requirement already satisfied: google-auth-oauthlib<1.1,>=0.5 in /home/ec2-user/anaconda3/envs/pytorch_p310/lib/python3.10/site-packages (from tensorboard) (1.0.0)\n",
      "Requirement already satisfied: markdown>=2.6.8 in /home/ec2-user/anaconda3/envs/pytorch_p310/lib/python3.10/site-packages (from tensorboard) (3.4.4)\n",
      "Requirement already satisfied: numpy>=1.12.0 in /home/ec2-user/anaconda3/envs/pytorch_p310/lib/python3.10/site-packages (from tensorboard) (1.24.3)\n",
      "Requirement already satisfied: protobuf>=3.19.6 in /home/ec2-user/anaconda3/envs/pytorch_p310/lib/python3.10/site-packages (from tensorboard) (3.20.3)\n",
      "Requirement already satisfied: requests<3,>=2.21.0 in /home/ec2-user/anaconda3/envs/pytorch_p310/lib/python3.10/site-packages (from tensorboard) (2.29.0)\n",
      "Requirement already satisfied: setuptools>=41.0.0 in /home/ec2-user/anaconda3/envs/pytorch_p310/lib/python3.10/site-packages (from tensorboard) (67.7.2)\n",
      "Requirement already satisfied: tensorboard-data-server<0.8.0,>=0.7.0 in /home/ec2-user/anaconda3/envs/pytorch_p310/lib/python3.10/site-packages (from tensorboard) (0.7.1)\n",
      "Requirement already satisfied: werkzeug>=1.0.1 in /home/ec2-user/anaconda3/envs/pytorch_p310/lib/python3.10/site-packages (from tensorboard) (2.3.4)\n",
      "Requirement already satisfied: wheel>=0.26 in /home/ec2-user/anaconda3/envs/pytorch_p310/lib/python3.10/site-packages (from tensorboard) (0.40.0)\n",
      "Requirement already satisfied: cachetools<6.0,>=2.0.0 in /home/ec2-user/anaconda3/envs/pytorch_p310/lib/python3.10/site-packages (from google-auth<3,>=1.6.3->tensorboard) (5.3.1)\n",
      "Requirement already satisfied: pyasn1-modules>=0.2.1 in /home/ec2-user/anaconda3/envs/pytorch_p310/lib/python3.10/site-packages (from google-auth<3,>=1.6.3->tensorboard) (0.3.0)\n",
      "Requirement already satisfied: rsa<5,>=3.1.4 in /home/ec2-user/anaconda3/envs/pytorch_p310/lib/python3.10/site-packages (from google-auth<3,>=1.6.3->tensorboard) (4.7.2)\n",
      "Requirement already satisfied: six>=1.9.0 in /home/ec2-user/anaconda3/envs/pytorch_p310/lib/python3.10/site-packages (from google-auth<3,>=1.6.3->tensorboard) (1.16.0)\n",
      "Requirement already satisfied: urllib3<2.0 in /home/ec2-user/anaconda3/envs/pytorch_p310/lib/python3.10/site-packages (from google-auth<3,>=1.6.3->tensorboard) (1.26.14)\n",
      "Requirement already satisfied: requests-oauthlib>=0.7.0 in /home/ec2-user/anaconda3/envs/pytorch_p310/lib/python3.10/site-packages (from google-auth-oauthlib<1.1,>=0.5->tensorboard) (1.3.1)\n",
      "Requirement already satisfied: charset-normalizer<4,>=2 in /home/ec2-user/anaconda3/envs/pytorch_p310/lib/python3.10/site-packages (from requests<3,>=2.21.0->tensorboard) (3.1.0)\n",
      "Requirement already satisfied: idna<4,>=2.5 in /home/ec2-user/anaconda3/envs/pytorch_p310/lib/python3.10/site-packages (from requests<3,>=2.21.0->tensorboard) (3.4)\n",
      "Requirement already satisfied: certifi>=2017.4.17 in /home/ec2-user/anaconda3/envs/pytorch_p310/lib/python3.10/site-packages (from requests<3,>=2.21.0->tensorboard) (2023.5.7)\n",
      "Requirement already satisfied: MarkupSafe>=2.1.1 in /home/ec2-user/anaconda3/envs/pytorch_p310/lib/python3.10/site-packages (from werkzeug>=1.0.1->tensorboard) (2.1.2)\n",
      "Requirement already satisfied: pyasn1<0.6.0,>=0.4.6 in /home/ec2-user/anaconda3/envs/pytorch_p310/lib/python3.10/site-packages (from pyasn1-modules>=0.2.1->google-auth<3,>=1.6.3->tensorboard) (0.4.8)\n",
      "Requirement already satisfied: oauthlib>=3.0.0 in /home/ec2-user/anaconda3/envs/pytorch_p310/lib/python3.10/site-packages (from requests-oauthlib>=0.7.0->google-auth-oauthlib<1.1,>=0.5->tensorboard) (3.2.2)\n",
      "Note: you may need to restart the kernel to use updated packages.\n"
     ]
    }
   ],
   "source": [
    "pip install tensorboard"
   ]
  },
  {
   "cell_type": "code",
   "execution_count": 43,
   "id": "7a543005-cabc-41ad-8649-287c81ca6ed0",
   "metadata": {
    "tags": []
   },
   "outputs": [],
   "source": [
    "import os\n",
    "import torch\n",
    "import torch.nn as nn\n",
    "import torch.nn.functional as F\n",
    "import pandas as pd\n",
    "# from skimage import io,transform,img_as_ubyte\n",
    "import numpy as np\n",
    "import matplotlib.pyplot as plt\n",
    "import matplotlib.patches as patches\n",
    "from torch.utils.data import Dataset, DataLoader\n",
    "from torchvision import transforms, utils\n",
    "from PIL import Image\n",
    "from tqdm import tqdm\n",
    "import torch.optim as optim\n",
    "import math\n",
    "import time\n",
    "from datetime import datetime\n",
    "import shutil\n",
    "import tensorboard\n",
    "from torch.utils.tensorboard import SummaryWriter\n",
    "from torchvision.utils import make_grid\n",
    "import torchvision.transforms.functional as TF\n",
    "from PIL import Image, ImageDraw, ImageFont\n",
    "import torchvision.utils as vutils\n",
    "from torchvision.transforms.functional import to_pil_image\n",
    "from sklearn.metrics import confusion_matrix\n",
    "import itertools\n",
    "import torch.distributed as dist\n",
    "import torch.multiprocessing as mp\n",
    "from sklearn.model_selection import train_test_split"
   ]
  },
  {
   "cell_type": "markdown",
   "id": "ca5f05bc-d0b6-4be3-9952-98b92c3fa7ed",
   "metadata": {
    "tags": []
   },
   "source": [
    "# Dataset and dataloaders"
   ]
  },
  {
   "cell_type": "code",
   "execution_count": 44,
   "id": "77b8ced9-17b3-4796-a75b-417ec9e73c37",
   "metadata": {
    "tags": []
   },
   "outputs": [],
   "source": [
    "class ZooplanktonDataset(Dataset):\n",
    "    def __init__(self, csv, cropped_image_folder, transform=None):\n",
    "        self.annotations = pd.read_csv(csv)\n",
    "        self.cropped_image_folder = cropped_image_folder\n",
    "        self.transform = transform\n",
    "        self.labels = np.array(self.annotations.iloc[:, 1])\n",
    "    \n",
    "    def __len__(self):\n",
    "        return len(self.annotations)\n",
    "    \n",
    "    def __getitem__(self, index):\n",
    "        img_name = self.annotations.iloc[index, 0]\n",
    "        cropped_img_path = os.path.join(self.cropped_image_folder, img_name)\n",
    "        \n",
    "        image = Image.open(cropped_img_path).convert('RGB')\n",
    "        \n",
    "        y_label = self.annotations.iloc[index, 1]\n",
    "            \n",
    "        if self.transform:\n",
    "            image = self.transform(image)\n",
    "        \n",
    "        return image, y_label\n"
   ]
  },
  {
   "cell_type": "markdown",
   "id": "743a3eaf-f9cb-4dc7-850f-dc0254449034",
   "metadata": {
    "tags": []
   },
   "source": [
    "# Oversampling"
   ]
  },
  {
   "cell_type": "code",
   "execution_count": 45,
   "id": "c729efa8-ef8e-4da8-8273-4c7746d26259",
   "metadata": {
    "tags": []
   },
   "outputs": [],
   "source": [
    "# from torchvision.transforms import RandomRotation, RandomAffine\n",
    "\n",
    "# class ZooplanktonDataset(Dataset):\n",
    "#     def __init__(self, csv, cropped_image_folder, transform=None):\n",
    "#         self.annotations = pd.read_csv(csv)\n",
    "#         self.cropped_image_folder = cropped_image_folder\n",
    "#         self.transform = transform\n",
    "        \n",
    "#         # Perform oversampling\n",
    "#         label_counts = self.annotations['Label'].value_counts()\n",
    "#         max_count = label_counts.max()\n",
    "#         self.annotations = self.oversample_minority_class(self.annotations, max_count)\n",
    "    \n",
    "#     def oversample_minority_class(self, annotations, target_count):\n",
    "#         # Separate samples from each class\n",
    "#         class_0 = annotations[annotations['Label'] == 0]\n",
    "#         class_1 = annotations[annotations['Label'] == 1]\n",
    "\n",
    "#         # Determine the number of samples to generate for the minority class\n",
    "#         minority_count = target_count - len(class_1)\n",
    "\n",
    "#         # Upsample minority class with augmentation\n",
    "#         class_1_augmented = self.augment_data(class_1, minority_count)\n",
    "\n",
    "#         # Concatenate the augmented minority class with the majority class\n",
    "#         oversampled_annotations = pd.concat([class_0, class_1_augmented])\n",
    "\n",
    "#         return oversampled_annotations\n",
    "    \n",
    "#     def augment_data(self, data, target_count):\n",
    "#         augmented_data = []\n",
    "#         rotation_angle = 30  # Specify the rotation angle\n",
    "        \n",
    "#         # Apply augmentation to reach the target count\n",
    "#         while len(augmented_data) < target_count:\n",
    "#             # Randomly select an image from the data\n",
    "#             image_row = data.sample(n=1)\n",
    "#             image_name = image_row['ImageName'].values[0]\n",
    "#             image_path = os.path.join(self.cropped_image_folder, image_name)\n",
    "            \n",
    "#             # Load the image\n",
    "#             image = Image.open(image_path).convert('RGB')\n",
    "            \n",
    "#             # Generate a new image name based on the original image name\n",
    "#             augmented_image_name = image_name\n",
    "            \n",
    "#             # Apply additional transformations (rotation and shear)\n",
    "#             rotation_transform = RandomRotation(rotation_angle)\n",
    "#             affine_transform = RandomAffine(degrees=0, shear=20)\n",
    "            \n",
    "#             augmented_image = affine_transform(rotation_transform(image))\n",
    "            \n",
    "#             augmented_data.append((augmented_image, augmented_image_name, image_row['Label'].values[0]))\n",
    "        \n",
    "#         augmented_data_df = pd.DataFrame(augmented_data, columns=['AugmentedImage', 'ImageName', 'Label'])\n",
    "#         return augmented_data_df\n",
    "    \n",
    "#     def __len__(self):\n",
    "#         return len(self.annotations)\n",
    "    \n",
    "#     def __getitem__(self, index):\n",
    "#         img_name = str(self.annotations.iloc[index]['ImageName'])\n",
    "#         cropped_img_path = os.path.join(self.cropped_image_folder, img_name)\n",
    "#         image = Image.open(cropped_img_path).convert('RGB')\n",
    "#         label = self.annotations.iloc[index, 1]\n",
    "\n",
    "#         if self.transform is not None:\n",
    "#             image = self.transform(image)\n",
    "\n",
    "#         return image, label\n"
   ]
  },
  {
   "cell_type": "markdown",
   "id": "c28c6be0-975b-4e30-b988-abbd01552708",
   "metadata": {
    "tags": []
   },
   "source": [
    "# Under-Sampling"
   ]
  },
  {
   "cell_type": "code",
   "execution_count": 46,
   "id": "cfb98a51-ebfe-4513-bfbd-168b0da94012",
   "metadata": {
    "tags": []
   },
   "outputs": [],
   "source": [
    "# from sklearn.utils import resample\n",
    "\n",
    "# class ZooplanktonDataset(Dataset):\n",
    "#     def __init__(self, csv, cropped_image_folder, transform=None):\n",
    "#         self.annotations = pd.read_csv(csv)\n",
    "#         self.cropped_image_folder = cropped_image_folder\n",
    "#         self.transform = transform\n",
    "        \n",
    "#         # Perform undersampling\n",
    "#         label_counts = self.annotations['Label'].value_counts()\n",
    "#         min_count = label_counts.min()\n",
    "#         self.annotations = self.undersample_majority_class(self.annotations, min_count)\n",
    "    \n",
    "#     def undersample_majority_class(self, annotations, target_count):\n",
    "#         # Separate samples from each class\n",
    "#         class_0 = annotations[annotations['Label'] == 0]\n",
    "#         class_1 = annotations[annotations['Label'] == 1]\n",
    "        \n",
    "#         # Downsample majority class\n",
    "#         class_0_undersampled = resample(class_0, replace=False, n_samples=target_count, random_state=42)\n",
    "        \n",
    "#         # Concatenate the undersampled majority class with the minority class\n",
    "#         undersampled_annotations = pd.concat([class_0_undersampled, class_1])\n",
    "        \n",
    "#         return undersampled_annotations\n",
    "    \n",
    "#     def __len__(self):\n",
    "#         return len(self.annotations)\n",
    "    \n",
    "#     def __getitem__(self, index):\n",
    "#         img_name = self.annotations.iloc[index, 0]\n",
    "#         cropped_img_path = os.path.join(self.cropped_image_folder, img_name)\n",
    "        \n",
    "#         image = Image.open(cropped_img_path).convert('RGB')\n",
    "        \n",
    "#         label = self.annotations.iloc[index, 1]\n",
    "            \n",
    "#         if self.transform:\n",
    "#             image = self.transform(image)\n",
    "        \n",
    "#         return image, label\n"
   ]
  },
  {
   "cell_type": "markdown",
   "id": "76534ffa-dbb5-49ae-98f0-579338d62172",
   "metadata": {
    "tags": []
   },
   "source": [
    "# Train and Test split "
   ]
  },
  {
   "cell_type": "code",
   "execution_count": 47,
   "id": "4c23216f-6606-45c2-a314-6925f62aa8b9",
   "metadata": {
    "tags": []
   },
   "outputs": [],
   "source": [
    "data_transform = transforms.Compose([\n",
    "    transforms.ToTensor(),\n",
    "    transforms.Normalize(mean=[0.485, 0.456, 0.406], std=[0.229, 0.224, 0.225])\n",
    "])\n",
    "\n",
    "# data_transform = transforms.Compose([\n",
    "#     transforms.RandomHorizontalFlip(0.5),\n",
    "#     transforms.RandomRotation(10),\n",
    "#     transforms.ToTensor(),\n",
    "#     transforms.Normalize(mean=[0.485, 0.456, 0.406], std=[0.229, 0.224, 0.225])\n",
    "# ])\n",
    "\n",
    "dataset = ZooplanktonDataset(csv='/home/ec2-user/SageMaker/All_csv_combined/annotations.csv',cropped_image_folder='dataset/uncropped',\n",
    "                            transform=data_transform)\n",
    "\n",
    "from torch.utils.data import Subset\n",
    "\n",
    "# Splitting the indices into train and test sets with a stratified split\n",
    "train_indices, test_indices = train_test_split(\n",
    "    np.arange(len(dataset)), test_size=0.2, stratify=dataset.labels\n",
    ")\n",
    "\n",
    "# Create subset datasets using the train and test indices\n",
    "train_set = Subset(dataset, train_indices)\n",
    "test_set = Subset(dataset, test_indices)\n",
    "\n",
    "train_loader = DataLoader(dataset=train_set, batch_size=16, shuffle=True)\n",
    "test_loader = DataLoader(dataset=test_set, batch_size=16, shuffle=True)\n"
   ]
  },
  {
   "cell_type": "markdown",
   "id": "e663f213-8f71-46c3-9463-446d4a663454",
   "metadata": {
    "tags": []
   },
   "source": [
    "# Models"
   ]
  },
  {
   "cell_type": "code",
   "execution_count": 48,
   "id": "23617768-f290-4624-bac7-a589797d8f82",
   "metadata": {
    "tags": []
   },
   "outputs": [],
   "source": [
    "class Basemodel(nn.Module):\n",
    "    def __init__(self):\n",
    "        super(Basemodel, self).__init__()\n",
    "        self.conv1 = nn.Conv2d(3, 16, 5)\n",
    "        self.pool = nn.MaxPool2d(2,2)\n",
    "        self.conv2 = nn.Conv2d(16, 32, 5)\n",
    "        self.dropout = nn.Dropout(0.2)\n",
    "        self.fc1 = nn.Linear(32*53*53, 256)\n",
    "        self.fc2 = nn.Linear(256, 84)\n",
    "        self.fc3 = nn.Linear(84, 2)\n",
    "        self.softmax = nn.LogSoftmax(dim=1)\n",
    "        \n",
    "    def forward(self, x):\n",
    "        x = F.relu(self.pool(self.conv1(x)))\n",
    "        x = F.relu(self.pool(self.conv2(x)))\n",
    "        x = self.dropout(x)\n",
    "        x = x.view(-1, 32 * 53 * 53)\n",
    "        x = F.relu(self.fc1(x))\n",
    "        x = self.dropout(F.relu(self.fc2(x)))\n",
    "        x = self.softmax(self.fc3(x))\n",
    "        return x"
   ]
  },
  {
   "cell_type": "code",
   "execution_count": 49,
   "id": "1d4fcede-d733-4dd8-bac9-feb68c3ca1f4",
   "metadata": {
    "tags": []
   },
   "outputs": [],
   "source": [
    "class Model_v1(nn.Module):\n",
    "    def __init__(self):\n",
    "        super(Model_v1, self).__init__()\n",
    "        self.conv1 = nn.Conv2d(3, 16, 3)\n",
    "        self.conv2 = nn.Conv2d(16, 32, 3)\n",
    "        self.conv3 = nn.Conv2d(32, 64, 3)\n",
    "        self.pool = nn.MaxPool2d(2, 2)\n",
    "        self.dropout = nn.Dropout(0.2)\n",
    "        self.fc1 = nn.Linear(64 * 26 * 26, 256)\n",
    "        self.fc2 = nn.Linear(256, 84)\n",
    "        self.fc3 = nn.Linear(84, 2)\n",
    "        self.softmax = nn.LogSoftmax(dim=1)\n",
    "        \n",
    "    def forward(self, x):\n",
    "        x = F.relu(self.conv1(x))\n",
    "        x = self.pool(x)\n",
    "        x = F.relu(self.conv2(x))\n",
    "        x = self.pool(x)\n",
    "        x = F.relu(self.conv3(x))\n",
    "        x = self.pool(x)\n",
    "        x = self.dropout(x)\n",
    "        x = x.view(-1, 64 * 26 * 26)\n",
    "        x = F.relu(self.fc1(x))\n",
    "        x = self.dropout(F.relu(self.fc2(x)))\n",
    "        x = self.softmax(self.fc3(x))\n",
    "        return x\n"
   ]
  },
  {
   "cell_type": "code",
   "execution_count": 50,
   "id": "f54fb7f0-625e-4779-8565-0d9bd6e007f6",
   "metadata": {
    "tags": []
   },
   "outputs": [],
   "source": [
    "# class Model_v2(nn.Module):\n",
    "#     def __init__(self, dropout):\n",
    "#         super(Model_v2, self).__init__()\n",
    "#         self.conv1 = nn.Conv2d(3, 16, 3)\n",
    "#         self.conv2 = nn.Conv2d(16, 32, 3)\n",
    "#         self.conv3 = nn.Conv2d(32, 64, 3)\n",
    "#         self.pool1 = nn.MaxPool2d(2, 2)\n",
    "#         self.pool2 = nn.MaxPool2d(3, 2)\n",
    "#         self.pool3 = nn.MaxPool2d(2, 2)\n",
    "#         self.dropout = nn.Dropout(dropout)\n",
    "#         self.fc1 = nn.Linear(64 * 26 * 26, 256)\n",
    "#         self.fc2 = nn.Linear(256, 84)\n",
    "#         self.fc3 = nn.Linear(84, 2)\n",
    "#         self.softmax = nn.LogSoftmax(dim=1)\n",
    "        \n",
    "#     def forward(self, x):\n",
    "#         x = self.dropout(F.relu(self.conv1(x)))\n",
    "#         x = self.pool1(x)\n",
    "#         x = self.dropout(F.relu(self.conv2(x)))\n",
    "#         x = self.pool2(x)\n",
    "#         x = self.dropout(F.relu(self.conv3(x)))\n",
    "#         x = self.pool3(x)\n",
    "#         x = x.view(-1, 64 * 26 * 26)\n",
    "#         x = self.dropout(F.relu(self.fc1(x)))\n",
    "#         x = self.dropout(F.relu(self.fc2(x)))\n",
    "#         x = self.softmax(self.fc3(x))\n",
    "#         return x"
   ]
  },
  {
   "cell_type": "code",
   "execution_count": 51,
   "id": "aff2c3e4-9ce5-41eb-b707-ed120b8db684",
   "metadata": {
    "tags": []
   },
   "outputs": [],
   "source": [
    "# accepts 256x256\n",
    "import torch.nn as nn\n",
    "import torch.nn.functional as F\n",
    "\n",
    "class Model_v2(nn.Module):\n",
    "    def __init__(self, dropout):\n",
    "        super(Model_v2, self).__init__()\n",
    "        self.conv1 = nn.Conv2d(3, 16, 3)\n",
    "        self.conv2 = nn.Conv2d(16, 32, 3)\n",
    "        self.conv3 = nn.Conv2d(32, 64, 3)\n",
    "        self.pool1 = nn.MaxPool2d(2, 2)\n",
    "        self.pool2 = nn.MaxPool2d(3, 2)\n",
    "        self.pool3 = nn.MaxPool2d(2, 2)\n",
    "        self.dropout = nn.Dropout(dropout)\n",
    "        \n",
    "        # Adjusting the fully connected layers to fit the spatial dimensions\n",
    "        # of the input image (256x256)\n",
    "        self.fc1 = nn.Linear(64 * 30 * 30, 256)\n",
    "        self.fc2 = nn.Linear(256, 84)\n",
    "        self.fc3 = nn.Linear(84, 2)\n",
    "        self.softmax = nn.LogSoftmax(dim=1)\n",
    "        \n",
    "    def forward(self, x):\n",
    "        x = self.dropout(F.relu(self.conv1(x)))\n",
    "        x = self.pool1(x)\n",
    "        x = self.dropout(F.relu(self.conv2(x)))\n",
    "        x = self.pool2(x)\n",
    "        x = self.dropout(F.relu(self.conv3(x)))\n",
    "        x = self.pool3(x)\n",
    "        x = x.view(-1, 64 * 30 * 30)  # Adjusted view shape\n",
    "        x = self.dropout(F.relu(self.fc1(x)))\n",
    "        x = self.dropout(F.relu(self.fc2(x)))\n",
    "        x = self.softmax(self.fc3(x))\n",
    "        return x\n"
   ]
  },
  {
   "cell_type": "code",
   "execution_count": 52,
   "id": "c42393d6-f152-491e-b67a-9a2cf603e03e",
   "metadata": {},
   "outputs": [],
   "source": [
    "# import torch.nn as nn\n",
    "\n",
    "# class Model_v2(nn.Module):\n",
    "#     def __init__(self, dropout):\n",
    "#         super(Model_v2, self).__init__()\n",
    "#         self.conv1 = nn.Conv2d(in_channels=3, out_channels=32, kernel_size=3, padding=1)\n",
    "#         self.relu1 = nn.ReLU()\n",
    "#         self.pool1 = nn.MaxPool2d(kernel_size=2, stride=2)\n",
    "\n",
    "#         self.conv2 = nn.Conv2d(in_channels=32, out_channels=64, kernel_size=3, padding=1)\n",
    "#         self.relu2 = nn.ReLU()\n",
    "#         self.pool2 = nn.MaxPool2d(kernel_size=2, stride=2)\n",
    "\n",
    "#         self.conv3 = nn.Conv2d(in_channels=64, out_channels=128, kernel_size=3, padding=1)\n",
    "#         self.relu3 = nn.ReLU()\n",
    "#         self.pool3 = nn.MaxPool2d(kernel_size=2, stride=2)\n",
    "\n",
    "#         self.fc1 = nn.Linear(128 * 37 * 37, 512)  # Calculate the input size based on 300x300 input images\n",
    "#         self.relu4 = nn.ReLU()\n",
    "#         self.dropout = nn.Dropout(dropout)  # Use the provided dropout value\n",
    "#         self.fc2 = nn.Linear(512, 2)  # Output layer with 2 neurons for binary classification\n",
    "\n",
    "#         self.softmax = nn.LogSoftmax(dim=1)\n",
    "\n",
    "#     def forward(self, x):\n",
    "#         x = self.pool1(self.relu1(self.conv1(x)))\n",
    "#         x = self.pool2(self.relu2(self.conv2(x)))\n",
    "#         x = self.pool3(self.relu3(self.conv3(x)))\n",
    "\n",
    "#         x = x.view(-1, 128 * 37 * 37)  # Flatten the tensor\n",
    "#         x = self.dropout(self.relu4(self.fc1(x)))\n",
    "#         x = self.fc2(x)\n",
    "#         x = self.softmax(x)\n",
    "#         return x\n"
   ]
  },
  {
   "cell_type": "code",
   "execution_count": 53,
   "id": "73da546e-c548-4daa-8aff-954e8a50058d",
   "metadata": {
    "tags": []
   },
   "outputs": [],
   "source": [
    "# import torch.nn as nn\n",
    "# import torch.nn.functional as F\n",
    "\n",
    "# class Model_v2(nn.Module):\n",
    "#     def __init__(self, dropout):\n",
    "#         super(Model_v2, self).__init__()\n",
    "#         self.conv1 = nn.Conv2d(3, 16, 3)\n",
    "#         self.conv2 = nn.Conv2d(16, 32, 3)\n",
    "#         self.conv3 = nn.Conv2d(32, 64, 3)\n",
    "#         self.pool1 = nn.MaxPool2d(2, 2)\n",
    "#         self.pool2 = nn.MaxPool2d(3, 2)\n",
    "#         self.pool3 = nn.MaxPool2d(2, 2)\n",
    "#         self.dropout = nn.Dropout(dropout)\n",
    "        \n",
    "#         # Adjusting the fully connected layers to fit the spatial dimensions\n",
    "#         # of the input image (256x256)\n",
    "#         self.fc1 = nn.Linear(64 * 30 * 30, 256)\n",
    "#         self.fc2 = nn.Linear(256, 84)\n",
    "#         self.fc3 = nn.Linear(84, 1)  # One output unit for binary classification\n",
    "        \n",
    "#     def forward(self, x):\n",
    "#         x = self.dropout(F.relu(self.conv1(x)))\n",
    "#         x = self.pool1(x)\n",
    "#         x = self.dropout(F.relu(self.conv2(x)))\n",
    "#         x = self.pool2(x)\n",
    "#         x = self.dropout(F.relu(self.conv3(x)))\n",
    "#         x = self.pool3(x)\n",
    "#         x = x.view(-1, 64 * 30 * 30)  # Adjusted view shape\n",
    "#         x = self.dropout(F.relu(self.fc1(x)))\n",
    "#         x = self.dropout(F.relu(self.fc2(x)))\n",
    "#         x = self.fc3(x) \n",
    "#         return x\n"
   ]
  },
  {
   "cell_type": "code",
   "execution_count": 54,
   "id": "329d68df-5616-4442-9d45-8db12f4ea230",
   "metadata": {
    "tags": []
   },
   "outputs": [],
   "source": [
    "class Model_v3(nn.Module):\n",
    "    def __init__(self, dropout):\n",
    "        super(Model_v3, self).__init__()\n",
    "        self.conv1 = nn.Conv2d(3, 16, 3)\n",
    "        self.conv2 = nn.Conv2d(16, 32, 3)\n",
    "        self.conv3 = nn.Conv2d(32, 64, 3)\n",
    "        self.conv4 = nn.Conv2d(64, 128, 3)\n",
    "        self.pool1 = nn.MaxPool2d(2, 2)\n",
    "        self.pool2 = nn.MaxPool2d(3, 2)\n",
    "        self.pool3 = nn.MaxPool2d(2, 2)\n",
    "        self.pool4 = nn.MaxPool2d(2, 2)\n",
    "        self.dropout = nn.Dropout(dropout)\n",
    "        self.fc1 = nn.Linear(128 * 12 * 12, 256)\n",
    "        self.fc2 = nn.Linear(256, 84)\n",
    "        self.fc3 = nn.Linear(84, 2)\n",
    "        self.softmax = nn.LogSoftmax(dim=1)\n",
    "        \n",
    "    def forward(self, x):\n",
    "        x = self.dropout(F.relu(self.conv1(x)))\n",
    "        x = self.pool1(x)\n",
    "        x = self.dropout(F.relu(self.conv2(x)))\n",
    "        x = self.pool2(x)\n",
    "        x = self.dropout(F.relu(self.conv3(x)))\n",
    "        x = self.pool3(x)\n",
    "        x = self.dropout(F.relu(self.conv4(x)))\n",
    "        x = self.pool4(x)\n",
    "        x = x.view(-1, 128 * 12 * 12)\n",
    "        x = self.dropout(F.relu(self.fc1(x)))\n",
    "        x = self.dropout(F.relu(self.fc2(x)))\n",
    "        x = self.softmax(self.fc3(x))\n",
    "        return x\n"
   ]
  },
  {
   "cell_type": "markdown",
   "id": "aceb8ad3-2aec-4f7d-8ddd-2a229c5af1a6",
   "metadata": {
    "tags": []
   },
   "source": [
    "# Loss curve "
   ]
  },
  {
   "cell_type": "code",
   "execution_count": 55,
   "id": "064031cd-6a36-479e-9e02-ffa0eac97b37",
   "metadata": {
    "tags": []
   },
   "outputs": [],
   "source": [
    "class LossCurve:\n",
    "    def __init__(self):\n",
    "        self\n",
    "\n",
    "    def PlotCurve(loss_values,epochs):\n",
    "        plt.plot(range(epochs), loss_values, 'blue')\n",
    "        plt.title('Loss decay')\n",
    "        plt.xlabel('number of epochs')\n",
    "        plt.ylabel('Loss')\n",
    "        plt.show()"
   ]
  },
  {
   "cell_type": "markdown",
   "id": "973bd25c-d5fe-45e2-a39b-885db688590d",
   "metadata": {
    "tags": []
   },
   "source": [
    "# Training Loop"
   ]
  },
  {
   "cell_type": "code",
   "execution_count": 56,
   "id": "8a592bbe-76ae-4b74-9f7e-f18626f3a04e",
   "metadata": {
    "tags": []
   },
   "outputs": [],
   "source": [
    "class Trainer():\n",
    "    def __init__(self, model, loss_criterion,\n",
    "                 train_data_loader, test_data_loader,\n",
    "                 optimizer, epochs, with_cuda,\n",
    "                 use_scheduler, scheduler, save_dir,tensorboard_dir, lr=0.001,print_freq=1):\n",
    "        self.device = torch.device(\"cuda:0\" if with_cuda else \"cpu\")\n",
    "        self.model = model\n",
    "        self.loss_criterion = loss_criterion\n",
    "        self.optimizer = optimizer\n",
    "        self.epochs = epochs\n",
    "        self.with_cuda = with_cuda\n",
    "        self.train_data_loader = train_data_loader\n",
    "        self.test_data_loader = test_data_loader\n",
    "        self.lr = lr\n",
    "        self.save_dir = save_dir\n",
    "        self.tensorboard_dir = tensorboard_dir\n",
    "        self.use_scheduler = use_scheduler\n",
    "        self.scheduler = scheduler\n",
    "        self.step = 0\n",
    "        self.print_freq = print_freq\n",
    "        self.start_time = datetime.now().strftime('%b-%d_%H-%M')\n",
    "        self.save_freq = 1\n",
    "        self.accuracy = 0\n",
    "        if not os.path.exists(self.tensorboard_dir):\n",
    "            os.makedirs(self.tensorboard_dir)\n",
    "        self.writer = SummaryWriter(log_dir=self.tensorboard_dir)\n",
    "        \n",
    "    def _train_epoch(self):\n",
    "        loss_values = []\n",
    "        \n",
    "        for epoch in range(self.epochs):\n",
    "            running_loss = 0\n",
    "            last_step = self.step - 1\n",
    "            last_time = time.time()\n",
    "            batch_counter = 0\n",
    "            accuracy=0\n",
    "            loop = tqdm(enumerate(self.train_data_loader), total=len(self.train_data_loader), leave=True)\n",
    "            for batch_idx, (images, labels) in loop:\n",
    "                if self.with_cuda:\n",
    "                    images, labels = images.to(self.device), labels.to (self.device)\n",
    "                self.model.train()\n",
    "                batch_counter += 1\n",
    "                # forward pass\n",
    "                outputs = self.model(images)\n",
    "                # finding loss\n",
    "                loss = self.loss_criterion(outputs, labels)\n",
    "                # backward pass\n",
    "                self.optimizer.zero_grad()\n",
    "                loss.backward()\n",
    "                self.optimizer.step()\n",
    "                \n",
    "                if self.use_scheduler:\n",
    "                    self.scheduler.step()\n",
    "\n",
    "                running_loss += loss.item()\n",
    "                # evaluation of model on test data\n",
    "                if batch_counter % 1000 == 0 or batch_counter == len(self.train_data_loader):\n",
    "                    accuracy = self._valid_epoch(self.model, epoch, self.test_data_loader)\n",
    "                \n",
    "                is_best = False\n",
    "                if accuracy > self.accuracy:\n",
    "                    is_best = True\n",
    "                self.accuracy = accuracy\n",
    "                \n",
    "                if self.step % self.print_freq == self.print_freq - 1:\n",
    "                    used_time = time.time() - last_time\n",
    "                    step_num = self.step - last_step\n",
    "                    speed = self.train_data_loader.batch_size * \\\n",
    "                        step_num / used_time\n",
    "                    batch_loss = loss.item()\n",
    "                    loop.set_description(f\"Epoch[{epoch + 1}/{self.epochs}]\")\n",
    "                    loop.set_postfix(\n",
    "                    lr=self.scheduler.get_last_lr(),\n",
    "                    batch_loss=batch_loss,\n",
    "                    global_loss = running_loss,\n",
    "                    speed=speed,\n",
    "                    accuracy = self.accuracy,\n",
    "                    device = self.device\n",
    "                    )\n",
    "                    global_loss = 0.0\n",
    "                    last_step = self.step\n",
    "                    last_time = time.time()\n",
    "                self.step += 1\n",
    "\n",
    "            if epoch % self.save_freq == 0:\n",
    "                self._save_checkpoint(epoch, is_best)\n",
    "            \n",
    "            self.writer.add_scalar('Loss', running_loss / len(self.train_data_loader), global_step=self.step)\n",
    "            loss_values.append(running_loss / len(self.train_data_loader))\n",
    "        \n",
    "        print(\"Train Accuracy:\", self._valid_epoch(self.model, self.epochs, self.train_data_loader))\n",
    "        print(\"Validation Accuracy:\", self._valid_epoch(self.model, self.epochs, self.test_data_loader))\n",
    "        # Plotting Loss Curve\n",
    "        LossCurve.PlotCurve(loss_values, self.epochs)\n",
    "        \n",
    "        #logging images to Tensorboard\n",
    "        self.log_images_after_training()\n",
    "        \n",
    "        #closing SummaryWriter Object\n",
    "        self.writer.close()\n",
    "        \n",
    "    def _valid_epoch(self, model, epoch, test_loader):\n",
    "        model.eval()\n",
    "        with torch.no_grad():\n",
    "            correct_samples = 0\n",
    "            total_samples = 0\n",
    "            for images, labels in test_loader:\n",
    "                if self.with_cuda:\n",
    "                    images, labels = images.to(self.device), labels.to (self.device)\n",
    "                pred_ratio = model(images)\n",
    "                _, pred_labels = torch.max(pred_ratio, 1)\n",
    "                total_samples += labels.size(0)\n",
    "                correct_samples += (pred_labels == labels).sum().item()\n",
    "            accuracy = (correct_samples / total_samples) * 100\n",
    "            self.writer.add_scalar('Accuracy', accuracy, global_step=epoch)\n",
    "            return accuracy\n",
    "    \n",
    "    def _save_checkpoint(self, epoch, is_best):\n",
    "        arch = type(self.model).__name__\n",
    "        state = {\n",
    "            'epoch': epoch,\n",
    "            'arch': arch,\n",
    "            'state_dict': self.model.state_dict(),\n",
    "            'optimizer': self.optimizer.state_dict(),\n",
    "            'accuracy': self.accuracy,\n",
    "            'step': self.step + 1,\n",
    "            'start_time': self.start_time}\n",
    "        filename = os.path.join(\n",
    "            self.save_dir+\n",
    "            'checkpoint_{}_epoch{:02d}_acc_{:.5f}.pth.tar'.format(\n",
    "                arch,\n",
    "                epoch, \n",
    "                self.accuracy))\n",
    "        print(\"Saving checkpoint: {} ...\".format(filename))\n",
    "        if not os.path.exists(self.save_dir):\n",
    "            os.makedirs(self.save_dir)\n",
    "        torch.save(state, filename)\n",
    "        if is_best:\n",
    "            shutil.copyfile(\n",
    "                filename, os.path.join(self.save_dir,'{}_best.pth.tar'.format(arch)))\n",
    "        return filename\n",
    "\n",
    "    def log_images_after_training(self):\n",
    "        arch = type(self.model).__name__\n",
    "        checkpoint = torch.load('/home/ec2-user/SageMaker/checkpoints/uncropped/{}_best.pth.tar'.format(arch))\n",
    "        self.model.load_state_dict(checkpoint['state_dict'])\n",
    "        self.model.eval()\n",
    "        images = []\n",
    "        true_labels = []\n",
    "        predicted_labels = []\n",
    "\n",
    "        for batch_images, batch_labels in self.test_data_loader:\n",
    "            with torch.no_grad():\n",
    "                if self.with_cuda:\n",
    "                    batch_images, batch_labels = batch_images.to(self.device), batch_labels.to(self.device)\n",
    "\n",
    "                # Forward pass to obtain predicted labels for each item in the batch\n",
    "                batch_outputs = self.model(batch_images)\n",
    "                batch_predicted_labels = torch.argmax(batch_outputs, dim=1)\n",
    "            # Iterate over each item in the batch\n",
    "            for i in range(batch_images.size(0)):\n",
    "                image = vutils.make_grid(batch_images[i], nrow=1, padding=10, normalize=True) \n",
    "                true_label = batch_labels[i]\n",
    "                predicted_label = batch_predicted_labels[i]\n",
    "\n",
    "                images.append(image)\n",
    "                true_labels.append(true_label)\n",
    "                predicted_labels.append(predicted_label)\n",
    "\n",
    "        for i in range(len(images)):\n",
    "            image = images[i]\n",
    "            true_label = true_labels[i]\n",
    "            predicted_label = predicted_labels[i]\n",
    "\n",
    "            # Set the image name as the predicted and true labels\n",
    "            image_name = f\"Image-{i}-True-{true_label}-Predicted-{predicted_label}\"\n",
    "\n",
    "            # Log the image on TensorBoard with the image name\n",
    "            self.writer.add_image(image_name, image.cpu(), global_step=i)\n",
    "\n",
    "        #creating confusion matrix\n",
    "        true_labels = torch.tensor(true_labels)\n",
    "        predicted_labels = torch.tensor(predicted_labels)\n",
    "\n",
    "        cm = confusion_matrix(true_labels, predicted_labels)\n",
    "\n",
    "        fig = plt.figure(figsize=(8, 8))\n",
    "        plt.imshow(cm, interpolation='nearest', cmap=plt.cm.Blues)\n",
    "        plt.colorbar()\n",
    "\n",
    "        # Set the axis labels and ticks\n",
    "        class_names = ['Zooplankton', 'Marine-Snow']\n",
    "        tick_marks = np.arange(len(class_names))\n",
    "        plt.xticks(tick_marks, class_names)\n",
    "        plt.yticks(tick_marks, class_names)\n",
    "\n",
    "        # Add labels to each cell of the confusion matrix\n",
    "        thresh = cm.max() / 2.\n",
    "        for i, j in itertools.product(range(cm.shape[0]), range(cm.shape[1])):\n",
    "            plt.text(j, i, format(cm[i, j], 'd'),\n",
    "                     horizontalalignment=\"center\",\n",
    "                     color=\"white\" if cm[i, j] > thresh else \"black\")\n",
    "\n",
    "        # Save the confusion matrix figure to TensorBoard\n",
    "        self.writer.add_figure('Confusion Matrix', fig)\n",
    "\n"
   ]
  },
  {
   "cell_type": "code",
   "execution_count": 57,
   "id": "97b0d215-6bb9-47e4-80cb-771d079328d0",
   "metadata": {
    "tags": []
   },
   "outputs": [],
   "source": [
    "# import os\n",
    "# import time\n",
    "# import shutil\n",
    "# import torch\n",
    "# import torch.nn as nn\n",
    "# import torchvision.utils as vutils\n",
    "# from datetime import datetime\n",
    "# from tqdm import tqdm\n",
    "# from sklearn.metrics import confusion_matrix\n",
    "# import matplotlib.pyplot as plt\n",
    "# import numpy as np\n",
    "# import itertools\n",
    "# from torch.utils.tensorboard import SummaryWriter\n",
    "\n",
    "\n",
    "# class Trainer():\n",
    "#     def __init__(self, model, loss_criterion, threshold,\n",
    "#                  train_data_loader, test_data_loader,\n",
    "#                  optimizer, epochs, with_cuda,\n",
    "#                  use_scheduler, scheduler, save_dir, tensorboard_dir, lr=0.001, print_freq=1):\n",
    "#         self.device = torch.device(\"cuda:0\" if with_cuda else \"cpu\")\n",
    "#         self.model = model\n",
    "#         self.loss_criterion = loss_criterion\n",
    "#         self.optimizer = optimizer\n",
    "#         self.epochs = epochs\n",
    "#         self.with_cuda = with_cuda\n",
    "#         self.train_data_loader = train_data_loader\n",
    "#         self.test_data_loader = test_data_loader\n",
    "#         self.lr = lr\n",
    "#         self.save_dir = save_dir\n",
    "#         self.tensorboard_dir = tensorboard_dir\n",
    "#         self.use_scheduler = use_scheduler\n",
    "#         self.scheduler = scheduler\n",
    "#         self.step = 0\n",
    "#         self.print_freq = print_freq\n",
    "#         self.start_time = datetime.now().strftime('%b-%d_%H-%M')\n",
    "#         self.save_freq = 1\n",
    "#         self.accuracy = 0\n",
    "#         if not os.path.exists(self.tensorboard_dir):\n",
    "#             os.makedirs(self.tensorboard_dir)\n",
    "#         self.writer = SummaryWriter(log_dir=self.tensorboard_dir)\n",
    "#         self.threshold = threshold  # Threshold for classifying as true or false (0 to 1)\n",
    "\n",
    "#     def _train_epoch(self):\n",
    "#         loss_values = []\n",
    "\n",
    "#         for epoch in range(self.epochs):\n",
    "#             running_loss = 0\n",
    "#             last_step = self.step - 1\n",
    "#             last_time = time.time()\n",
    "#             batch_counter = 0\n",
    "#             accuracy = 0\n",
    "#             loop = tqdm(enumerate(self.train_data_loader), total=len(self.train_data_loader), leave=True)\n",
    "#             for batch_idx, (images, labels) in loop:\n",
    "#                 if self.with_cuda:\n",
    "#                     images, labels = images.to(self.device), labels.to(self.device)\n",
    "#                 self.model.train()\n",
    "#                 batch_counter += 1\n",
    "#                 labels = labels.view(-1, 1).float()\n",
    "#                 # forward pass\n",
    "#                 outputs = self.model(images)\n",
    "#                 # finding loss\n",
    "#                 loss = self.loss_criterion(outputs, labels)\n",
    "#                 # backward pass\n",
    "#                 self.optimizer.zero_grad()\n",
    "#                 loss.backward()\n",
    "#                 self.optimizer.step()\n",
    "\n",
    "#                 if self.use_scheduler:\n",
    "#                     self.scheduler.step()\n",
    "\n",
    "#                 running_loss += loss.item()\n",
    "#                 # evaluation of model on test data\n",
    "#                 if batch_counter % 1000 == 0 or batch_counter == len(self.train_data_loader):\n",
    "#                     accuracy = self._valid_epoch(self.model, epoch, self.test_data_loader)\n",
    "\n",
    "#                 is_best = False\n",
    "#                 if accuracy > self.accuracy:\n",
    "#                     is_best = True\n",
    "#                 self.accuracy = accuracy\n",
    "\n",
    "#                 if self.step % self.print_freq == self.print_freq - 1:\n",
    "#                     used_time = time.time() - last_time\n",
    "#                     step_num = self.step - last_step\n",
    "#                     speed = self.train_data_loader.batch_size * step_num / used_time\n",
    "#                     batch_loss = loss.item()\n",
    "#                     loop.set_description(f\"Epoch[{epoch + 1}/{self.epochs}]\")\n",
    "#                     loop.set_postfix(\n",
    "#                         lr=self.scheduler.get_last_lr(),\n",
    "#                         batch_loss=batch_loss,\n",
    "#                         global_loss=running_loss,\n",
    "#                         speed=speed,\n",
    "#                         accuracy=self.accuracy,\n",
    "#                         device=self.device\n",
    "#                     )\n",
    "#                     global_loss = 0.0\n",
    "#                     last_step = self.step\n",
    "#                     last_time = time.time()\n",
    "#                 self.step += 1\n",
    "\n",
    "#             if epoch % self.save_freq == 0:\n",
    "#                 self._save_checkpoint(epoch, is_best)\n",
    "\n",
    "#             self.writer.add_scalar('Loss', running_loss / len(self.train_data_loader), global_step=self.step)\n",
    "#             loss_values.append(running_loss / len(self.train_data_loader))\n",
    "\n",
    "#         print(\"Train Accuracy:\", self._valid_epoch(self.model, self.epochs, self.train_data_loader))\n",
    "#         print(\"Validation Accuracy:\", self._valid_epoch(self.model, self.epochs, self.test_data_loader))\n",
    "#         # Plotting Loss Curve\n",
    "#         LossCurve.PlotCurve(loss_values, self.epochs)\n",
    "\n",
    "#         # logging images to Tensorboard\n",
    "#         self.log_images_after_training()\n",
    "\n",
    "#         # closing SummaryWriter Object\n",
    "#         self.writer.close()\n",
    "\n",
    "#     def _valid_epoch(self, model, epoch, test_loader):\n",
    "#         model.eval()\n",
    "#         with torch.no_grad():\n",
    "#             correct_samples = 0\n",
    "#             total_samples = 0\n",
    "#             for images, labels in test_loader:\n",
    "#                 if self.with_cuda:\n",
    "#                     images, labels = images.to(self.device), labels.to(self.device)\n",
    "#                 pred_ratio = model(images)\n",
    "#                 pred_labels = (pred_ratio > self.threshold).float()  # Applying the threshold\n",
    "#                 total_samples += labels.size(0)\n",
    "#                 correct_samples += (pred_labels == labels).sum().item()\n",
    "#             accuracy = (correct_samples / total_samples) * 100\n",
    "#             self.writer.add_scalar('Accuracy', accuracy, global_step=epoch)\n",
    "#             return accuracy\n",
    "\n",
    "#     def _save_checkpoint(self, epoch, is_best):\n",
    "#         arch = type(self.model).__name__\n",
    "#         state = {\n",
    "#             'epoch': epoch,\n",
    "#             'arch': arch,\n",
    "#             'state_dict': self.model.state_dict(),\n",
    "#             'optimizer': self.optimizer.state_dict(),\n",
    "#             'accuracy': self.accuracy,\n",
    "#             'step': self.step + 1,\n",
    "#             'start_time': self.start_time}\n",
    "#         filename = os.path.join(\n",
    "#             self.save_dir +\n",
    "#             'checkpoint_{}_epoch{:02d}_acc_{:.5f}.pth.tar'.format(\n",
    "#                 arch,\n",
    "#                 epoch,\n",
    "#                 self.accuracy))\n",
    "#         print(\"Saving checkpoint: {} ...\".format(filename))\n",
    "#         if not os.path.exists(self.save_dir):\n",
    "#             os.makedirs(self.save_dir)\n",
    "#         torch.save(state, filename)\n",
    "#         if is_best:\n",
    "#             shutil.copyfile(\n",
    "#                 filename, os.path.join(self.save_dir, '{}_best.pth.tar'.format(arch)))\n",
    "#         return filename\n",
    "\n",
    "#     def log_images_after_training(self):\n",
    "#         arch = type(self.model).__name__\n",
    "#         checkpoint = torch.load('/home/ec2-user/SageMaker/checkpoints/uncropped/{}_best.pth.tar'.format(arch))\n",
    "#         self.model.load_state_dict(checkpoint['state_dict'])\n",
    "#         self.model.eval()\n",
    "#         images = []\n",
    "#         true_labels = []\n",
    "#         predicted_labels = []\n",
    "\n",
    "#         for batch_images, batch_labels in self.test_data_loader:\n",
    "#             with torch.no_grad():\n",
    "#                 if self.with_cuda:\n",
    "#                     batch_images, batch_labels = batch_images.to(self.device), batch_labels.to(self.device)\n",
    "\n",
    "#                 # Forward pass to obtain predicted labels for each item in the batch\n",
    "#                 batch_outputs = self.model(batch_images)\n",
    "#                 batch_predicted_labels = (batch_outputs > self.threshold).float()  # Applying the threshold\n",
    "\n",
    "#             # Iterate over each item in the batch\n",
    "#             for i in range(batch_images.size(0)):\n",
    "#                 image = vutils.make_grid(batch_images[i], nrow=1, padding=10, normalize=True)\n",
    "#                 true_label = batch_labels[i]\n",
    "#                 predicted_label = batch_predicted_labels[i]\n",
    "\n",
    "#                 images.append(image)\n",
    "#                 true_labels.append(true_label)\n",
    "#                 predicted_labels.append(predicted_label)\n",
    "\n",
    "#         for i in range(len(images)):\n",
    "#             image = images[i]\n",
    "#             true_label = true_labels[i]\n",
    "#             predicted_label = predicted_labels[i]\n",
    "\n",
    "#             # Set the image name as the predicted and true labels\n",
    "#             image_name = f\"Image-{i}-True-{true_label}-Predicted-{predicted_label}\"\n",
    "\n",
    "#             # Log the image on TensorBoard with the image name\n",
    "#             self.writer.add_image(image_name, image.cpu(), global_step=i)\n",
    "\n",
    "#         # creating confusion matrix\n",
    "#         true_labels = torch.tensor(true_labels)\n",
    "#         predicted_labels = torch.tensor(predicted_labels)\n",
    "\n",
    "#         cm = confusion_matrix(true_labels, predicted_labels)\n",
    "\n",
    "#         fig = plt.figure(figsize=(8, 8))\n",
    "#         plt.imshow(cm, interpolation='nearest', cmap=plt.cm.Blues)\n",
    "#         plt.colorbar()\n",
    "\n",
    "#         # Set the axis labels and ticks\n",
    "#         class_names = ['Zooplankton', 'Marine-Snow']\n",
    "#         tick_marks = np.arange(len(class_names))\n",
    "#         plt.xticks(tick_marks, class_names)\n",
    "#         plt.yticks(tick_marks, class_names)\n",
    "\n",
    "#         # Add labels to each cell of the confusion matrix\n",
    "#         thresh = cm.max() / 2.\n",
    "#         for i, j in itertools.product(range(cm.shape[0]), range(cm.shape[1])):\n",
    "#             plt.text(j, i, format(cm[i, j], 'd'),\n",
    "#                      horizontalalignment=\"center\",\n",
    "#                      color=\"white\" if cm[i, j] > thresh else \"black\")\n",
    "\n",
    "#         # Save the confusion matrix figure to TensorBoard\n",
    "#         self.writer.add_figure('Confusion Matrix', fig)\n"
   ]
  },
  {
   "cell_type": "markdown",
   "id": "6fc2f1e9-e45c-4e62-8a35-7330b88283ce",
   "metadata": {
    "tags": []
   },
   "source": [
    "# Hyperparameters"
   ]
  },
  {
   "cell_type": "code",
   "execution_count": 58,
   "id": "9087ec74-10c8-4b63-9d89-acf6159d26f7",
   "metadata": {
    "tags": []
   },
   "outputs": [
    {
     "name": "stdout",
     "output_type": "stream",
     "text": [
      "tensor([1.0000, 6.3882], device='cuda:0')\n"
     ]
    }
   ],
   "source": [
    "    #model\n",
    "    device = torch.device(\"cuda:0\" if torch.cuda.is_available() else \"cpu\")\n",
    "    model = Model_v2(0.2)\n",
    "    model.to(device)\n",
    "    parameters = filter(lambda p: p.requires_grad, model.parameters())\n",
    "   # optimizer \n",
    "    optimizer = optim.RAdam(\n",
    "        params=parameters,\n",
    "        lr=0.001,\n",
    "        betas=(0.8, 0.999),\n",
    "        eps=1e-8,\n",
    "        weight_decay=1e-7)\n",
    "    #scheduler\n",
    "    lr_warm_up_num = 100\n",
    "    cr = 1.0 / math.log(lr_warm_up_num)\n",
    "    scheduler = optim.lr_scheduler.LambdaLR(\n",
    "        optimizer,\n",
    "        lr_lambda=lambda ee: cr * math.log(ee + 1)\n",
    "        if ee < lr_warm_up_num else 1)\n",
    "    #  loss, metrics\n",
    "    data = pd.read_csv('/home/ec2-user/SageMaker/All_csv_combined/annotations.csv')\n",
    "    label_counts = data.iloc[:, 1].value_counts()\n",
    "    loss_ratio = label_counts[0] / label_counts[1]\n",
    "    weight = torch.Tensor([1.0, loss_ratio]).to(device)\n",
    "    print(weight)\n",
    "    loss_criterion = torch.nn.CrossEntropyLoss(weight=weight)\n",
    "    #creating object for tensorboard_dir\n",
    "    tensorboard_dir = '/home/ec2-user/SageMaker/runs/'\n"
   ]
  },
  {
   "cell_type": "markdown",
   "id": "bcf15377-d31a-413c-be7e-42be733190d4",
   "metadata": {
    "tags": []
   },
   "source": [
    "# Trainer Object"
   ]
  },
  {
   "cell_type": "code",
   "execution_count": 59,
   "id": "86016839-5292-4fd5-8055-6520441a1397",
   "metadata": {
    "tags": []
   },
   "outputs": [],
   "source": [
    "   trainer = Trainer(\n",
    "        model, loss_criterion,\n",
    "        train_data_loader=train_loader,\n",
    "        test_data_loader=test_loader,\n",
    "        optimizer=optimizer,\n",
    "        epochs=30,\n",
    "        with_cuda=True,\n",
    "        use_scheduler=True,\n",
    "        scheduler=scheduler,\n",
    "        save_dir='/home/ec2-user/SageMaker/checkpoints/uncropped/',\n",
    "        tensorboard_dir=tensorboard_dir,\n",
    "        lr=0.01)\n",
    " "
   ]
  },
  {
   "cell_type": "markdown",
   "id": "90322549-280e-4139-9f2a-bdcec70f9bad",
   "metadata": {
    "tags": []
   },
   "source": [
    "# Hyperparameter Search"
   ]
  },
  {
   "cell_type": "code",
   "execution_count": 60,
   "id": "92f3d42a-8d58-4462-9aeb-7103e54c1dfb",
   "metadata": {
    "tags": []
   },
   "outputs": [],
   "source": [
    "# import itertools\n",
    "\n",
    "# # Define the hyperparameter grid\n",
    "# hyperparameter_grid = {\n",
    "#     'model': [Model_v2,Model_v3], # adding more layers # adding more maxpool and make \n",
    "#     'lr': [0.001], # imp\n",
    "#     'weight_decay': [1e-3,1e-4,1e-5,1e-7],\n",
    "#     'dropout': [0.2], #imp\n",
    "#     'loss_weight': [1.0],\n",
    "#     'batch_size': [16], # most imp\n",
    "#     'lr_warm_up_num':[100]\n",
    "# }\n",
    "\n",
    "# # Create a list of all possible combinations of hyperparameters\n",
    "# hyperparameter_combinations = list(itertools.product(*hyperparameter_grid.values()))\n",
    "\n",
    "# # Define a function for training and evaluating the model with a given set of hyperparameters\n",
    "# def train_and_evaluate_model(model_class, lr, weight_decay, dropout, loss_weight, batch_size, lr_warm_up_num):\n",
    "#     # Create the model\n",
    "#     device = torch.device(\"cuda:0\" if torch.cuda.is_available() else \"cpu\")\n",
    "#     model = model_class(dropout)\n",
    "#     model.to(device)\n",
    "#     parameters = filter(lambda p: p.requires_grad, model.parameters())\n",
    "    \n",
    "#     # Create the optimizer\n",
    "#     optimizer = optim.Adam(\n",
    "#         params=parameters,\n",
    "#         lr=lr,\n",
    "#         betas=(0.8, 0.999),\n",
    "#         eps=1e-8,\n",
    "#         weight_decay=weight_decay)\n",
    "#     tensorboard_dir = '/home/ec2-user/SageMaker/runs/'\n",
    "#     # Create the scheduler\n",
    "#     lr_warm_up_num = lr_warm_up_num\n",
    "#     cr = 1.0 / math.log(lr_warm_up_num)\n",
    "#     scheduler = optim.lr_scheduler.LambdaLR(\n",
    "#         optimizer,\n",
    "#         lr_lambda=lambda ee: cr * math.log(ee + 1)\n",
    "#         if ee < lr_warm_up_num else 1)\n",
    "    \n",
    "#     # Create the loss criterion\n",
    "#     data = pd.read_csv('dataset/uncropped/annotations.csv')\n",
    "#     label_counts = data.iloc[:, 1].value_counts()\n",
    "#     loss_ratio = label_counts[0] / label_counts[1]\n",
    "#     weight = torch.Tensor([1,loss_ratio]).to(device)\n",
    "#     loss_criterion = torch.nn.CrossEntropyLoss(weight=weight)\n",
    "    \n",
    "# #     # Load the data with the specified batch size\n",
    "# #     dataset_length = len(dataset)\n",
    "# #     train_size = int(0.7 * dataset_length)\n",
    "# #     test_size = dataset_length - train_size\n",
    "# #     train_set, test_set = torch.utils.data.random_split(dataset, [train_size,test_size])\n",
    "\n",
    "# #     train_loader = DataLoader(dataset=train_set, batch_size=batch_size, shuffle=True)\n",
    "# #     test_loader = DataLoader(dataset=test_set, batch_size=batch_size, shuffle=True)\n",
    "    \n",
    "#     # Splitting the indices into train and test sets with a stratified split\n",
    "#     train_indices, test_indices = train_test_split(\n",
    "#         np.arange(len(dataset)), test_size=0.2, stratify=dataset.labels\n",
    "#     )\n",
    "\n",
    "#     # Create subset datasets using the train and test indices\n",
    "#     train_set = Subset(dataset, train_indices)\n",
    "#     test_set = Subset(dataset, test_indices)\n",
    "\n",
    "#     train_loader = DataLoader(dataset=train_set, batch_size=batch_size, shuffle=True)\n",
    "#     test_loader = DataLoader(dataset=test_set, batch_size=batch_size, shuffle=True)\n",
    "    \n",
    "#     # Create the Trainer object\n",
    "#     trainer = Trainer(\n",
    "#         model, loss_criterion,\n",
    "#         train_data_loader=train_loader,\n",
    "#         test_data_loader=test_loader,\n",
    "#         optimizer=optimizer,\n",
    "#         epochs=30,\n",
    "#         with_cuda=True,\n",
    "#         use_scheduler=True,\n",
    "#         scheduler=scheduler,\n",
    "#         save_dir='/home/ec2-user/SageMaker/checkpoints/uncropped/',\n",
    "#         tensorboard_dir=tensorboard_dir,\n",
    "#         lr=lr)\n",
    "    \n",
    "#     # Train the model\n",
    "#     trainer._train_epoch()\n",
    "    \n",
    "#     # Evaluate the model\n",
    "#     accuracy = trainer._valid_epoch(model, 0, test_loader)\n",
    "    \n",
    "#     return accuracy\n",
    "\n",
    "# # Perform grid search\n",
    "# best_accuracy = 0.0\n",
    "# best_hyperparameters = None\n",
    "\n",
    "# for hyperparameters in hyperparameter_combinations:\n",
    "#     model_class, lr, weight_decay, dropout, loss_weight, batch_size, lr_warm_up_num = hyperparameters\n",
    "#     print(f\"Training model {model_class.__name__} with lr={lr}, weight_decay={weight_decay}, dropout={dropout}, loss_weight={loss_weight}, batch_size={batch_size}, lr_warm_up_num={lr_warm_up_num}...\")\n",
    "#     accuracy = train_and_evaluate_model(model_class, lr, weight_decay, dropout, loss_weight, batch_size, lr_warm_up_num)\n",
    "    \n",
    "#     if accuracy > best_accuracy:\n",
    "#         best_accuracy = accuracy\n",
    "#         best_hyperparameters = hyperparameters\n",
    "        \n",
    "# print(best_accuracy)\n",
    "# print(best_hyperparameters)\n"
   ]
  },
  {
   "cell_type": "markdown",
   "id": "2cae0fc9-9f22-4959-bedb-5f2426b7ccf2",
   "metadata": {
    "tags": []
   },
   "source": [
    "# 10-fold cross validation"
   ]
  },
  {
   "cell_type": "code",
   "execution_count": 61,
   "id": "8f83eeb9-bfc8-4d67-b6f1-9a70905d0d0d",
   "metadata": {
    "tags": []
   },
   "outputs": [],
   "source": [
    "# import itertools\n",
    "# from sklearn.model_selection import KFold\n",
    "\n",
    "# # Define the hyperparameter grid showing best hyperparameters obtained from Hyperparameter search Grid\n",
    "# hyperparameter_grid = {\n",
    "#     'model': [Model_v2],\n",
    "#     'lr': [0.001],\n",
    "#     'weight_decay': [1e-7],\n",
    "#     'dropout': [0.2],\n",
    "#     'loss_weight': [1.0],\n",
    "#     'batch_size': [16]\n",
    "# }\n",
    "\n",
    "# # Create a list of all possible combinations of hyperparameters\n",
    "# hyperparameter_combinations = list(itertools.product(*hyperparameter_grid.values()))\n",
    "\n",
    "# def train_and_evaluate_model(model_class, lr, weight_decay, dropout, loss_weight, batch_size, train_loader, test_loader):\n",
    "#     # Create the model\n",
    "#     device = torch.device(\"cuda:0\" if torch.cuda.is_available() else \"cpu\")\n",
    "#     model = model_class(dropout)\n",
    "#     model.to(device)\n",
    "#     parameters = filter(lambda p: p.requires_grad, model.parameters())\n",
    "    \n",
    "#     # Create the optimizer\n",
    "#     optimizer = optim.Adam(\n",
    "#         params=parameters,\n",
    "#         lr=lr,\n",
    "#         betas=(0.8, 0.999),\n",
    "#         eps=1e-8,\n",
    "#         weight_decay=weight_decay)\n",
    "#     tensorboard_dir = '/home/ec2-user/SageMaker/runs/'\n",
    "#     # Create the scheduler\n",
    "#     lr_warm_up_num = 100\n",
    "#     cr = 1.0 / math.log(lr_warm_up_num)\n",
    "#     scheduler = optim.lr_scheduler.LambdaLR(\n",
    "#         optimizer,\n",
    "#         lr_lambda=lambda ee: cr * math.log(ee + 1)\n",
    "#         if ee < lr_warm_up_num else 1)\n",
    "    \n",
    "#     # Create the loss criterion\n",
    "#     data = pd.read_csv('dataset/uncropped/annotations.csv')\n",
    "#     label_counts = data.iloc[:, 1].value_counts()\n",
    "#     loss_ratio = label_counts[0] / label_counts[1]\n",
    "#     weight = torch.Tensor([1,loss_ratio]).to(device)\n",
    "#     loss_criterion = torch.nn.CrossEntropyLoss(weight=weight)\n",
    "    \n",
    "#     # Create the Trainer object\n",
    "#     trainer = Trainer(\n",
    "#         model, loss_criterion,\n",
    "#         train_data_loader=train_loader,\n",
    "#         test_data_loader=test_loader,\n",
    "#         optimizer=optimizer,\n",
    "#         epochs=30,\n",
    "#         with_cuda=True,\n",
    "#         use_scheduler=True,\n",
    "#         scheduler=scheduler,\n",
    "#         save_dir='/home/ec2-user/SageMaker/checkpoints/uncropped/',\n",
    "#         tensorboard_dir=tensorboard_dir,\n",
    "#         lr=lr)\n",
    "    \n",
    "#     # Train the model\n",
    "#     trainer._train_epoch()\n",
    "    \n",
    "#     # Evaluate the model\n",
    "#     accuracy = trainer._valid_epoch(model, 0, test_loader)\n",
    "    \n",
    "#     return accuracy\n",
    "\n",
    "# # Perform 10-fold cross-validation\n",
    "# num_folds = 10\n",
    "# kf = KFold(n_splits=num_folds)\n",
    "\n",
    "# hyperparameter_accuracies = {}\n",
    "\n",
    "# data = pd.read_csv('dataset/uncropped/annotations.csv')\n",
    "# label_counts = data.iloc[:, 1].value_counts()\n",
    "# minority_class_label = label_counts.idxmin()\n",
    "# print(minority_class_label)\n",
    "\n",
    "# for hyperparameters in hyperparameter_combinations:\n",
    "#     model_class, lr, weight_decay, dropout, loss_weight, batch_size = hyperparameters\n",
    "#     print(f\"Training model {model_class.__name__} with lr={lr}, weight_decay={weight_decay}, dropout={dropout}, loss_weight={loss_weight}, batch_size={batch_size}...\")\n",
    "    \n",
    "#     fold_accuracies = []\n",
    "#     for train_index, test_index in kf.split(dataset.annotations):\n",
    "#     # Split the indices into training and testing sets for the current fold\n",
    "#         train_indices = train_index\n",
    "#         test_indices = test_index\n",
    "\n",
    "#         # Select the minority class instances from the test indices\n",
    "#         test_indices_minority = test_indices[data.iloc[test_indices, 1] == minority_class_label]\n",
    "#         test_indices_majority = test_indices[data.iloc[test_indices, 1] != minority_class_label]\n",
    "\n",
    "#         # Calculate the desired number of minority class instances per fold\n",
    "#         num_minority_per_fold = len(test_indices_minority) // num_folds\n",
    "\n",
    "#         # Randomly sample the desired number of minority class instances for the current fold\n",
    "#         test_indices_minority_sampled = np.random.choice(test_indices_minority, size=num_minority_per_fold, replace=False)\n",
    "\n",
    "#         # Combine the sampled minority class instances with the majority class instances\n",
    "#         test_indices_balanced = np.concatenate((test_indices_majority, test_indices_minority_sampled))\n",
    "\n",
    "#         # Shuffle the test indices to ensure randomization\n",
    "#         np.random.shuffle(test_indices_balanced)\n",
    "\n",
    "#         # Create subset datasets using the train and balanced test indices\n",
    "#         train_set = Subset(dataset, train_indices)\n",
    "#         test_set = Subset(dataset, test_indices_balanced)\n",
    "\n",
    "#         # Create data loaders for the current fold\n",
    "#         train_loader = DataLoader(dataset=train_set, batch_size=batch_size, shuffle=True)\n",
    "#         test_loader = DataLoader(dataset=test_set, batch_size=batch_size, shuffle=True)\n",
    "\n",
    "#         # Train and evaluate the model for the current fold\n",
    "#         accuracy = train_and_evaluate_model(model_class, lr, weight_decay, dropout, loss_weight, batch_size, train_loader, test_loader)\n",
    "#         fold_accuracies.append(accuracy)\n",
    "\n",
    "\n",
    "#     average_accuracy = sum(fold_accuracies) / num_folds\n",
    "#     print(f\"Average accuracy across {num_folds} folds: {average_accuracy}%\")\n",
    "    \n",
    "#     hyperparameter_accuracies[hyperparameters] = average_accuracy\n",
    "\n",
    "# # Print the accuracies for each hyperparameter combination\n",
    "# for hyperparameters, accuracy in hyperparameter_accuracies.items():\n",
    "#     print(f\"Hyperparameters: {hyperparameters}\")\n",
    "#     print(f\"Average accuracy: {accuracy}%\")\n"
   ]
  },
  {
   "cell_type": "markdown",
   "id": "d79f57ca-0722-4460-a193-997ba6ccb10d",
   "metadata": {
    "tags": []
   },
   "source": [
    "# Final Training"
   ]
  },
  {
   "cell_type": "code",
   "execution_count": null,
   "id": "6e2fea83-1261-44a5-a96a-2e644d6c073e",
   "metadata": {
    "tags": []
   },
   "outputs": [
    {
     "name": "stderr",
     "output_type": "stream",
     "text": [
      "Epoch[1/30]: 100%|██████████| 800/800 [01:23<00:00,  9.54it/s, accuracy=86.7, batch_loss=0.715, device=cuda:0, global_loss=552, lr=[0.001], speed=1.12]            \n"
     ]
    },
    {
     "name": "stdout",
     "output_type": "stream",
     "text": [
      "Saving checkpoint: /home/ec2-user/SageMaker/checkpoints/uncropped/checkpoint_Model_v2_epoch00_acc_86.74171.pth.tar ...\n"
     ]
    },
    {
     "name": "stderr",
     "output_type": "stream",
     "text": [
      "Epoch[2/30]: 100%|██████████| 800/800 [01:20<00:00,  9.99it/s, accuracy=85.6, batch_loss=0.547, device=cuda:0, global_loss=522, lr=[0.001], speed=1.36]\n"
     ]
    },
    {
     "name": "stdout",
     "output_type": "stream",
     "text": [
      "Saving checkpoint: /home/ec2-user/SageMaker/checkpoints/uncropped/checkpoint_Model_v2_epoch01_acc_85.64728.pth.tar ...\n"
     ]
    },
    {
     "name": "stderr",
     "output_type": "stream",
     "text": [
      "Epoch[3/30]: 100%|██████████| 800/800 [01:17<00:00, 10.28it/s, accuracy=80.1, batch_loss=0.787, device=cuda:0, global_loss=509, lr=[0.001], speed=1.4]\n"
     ]
    },
    {
     "name": "stdout",
     "output_type": "stream",
     "text": [
      "Saving checkpoint: /home/ec2-user/SageMaker/checkpoints/uncropped/checkpoint_Model_v2_epoch02_acc_80.11257.pth.tar ...\n"
     ]
    },
    {
     "name": "stderr",
     "output_type": "stream",
     "text": [
      "Epoch[4/30]: 100%|██████████| 800/800 [01:26<00:00,  9.29it/s, accuracy=79.5, batch_loss=0.784, device=cuda:0, global_loss=499, lr=[0.001], speed=1.3]\n"
     ]
    },
    {
     "name": "stdout",
     "output_type": "stream",
     "text": [
      "Saving checkpoint: /home/ec2-user/SageMaker/checkpoints/uncropped/checkpoint_Model_v2_epoch03_acc_79.45591.pth.tar ...\n"
     ]
    },
    {
     "name": "stderr",
     "output_type": "stream",
     "text": [
      "Epoch[5/30]: 100%|██████████| 800/800 [01:21<00:00,  9.87it/s, accuracy=81.8, batch_loss=0.417, device=cuda:0, global_loss=477, lr=[0.001], speed=1.3]\n"
     ]
    },
    {
     "name": "stdout",
     "output_type": "stream",
     "text": [
      "Saving checkpoint: /home/ec2-user/SageMaker/checkpoints/uncropped/checkpoint_Model_v2_epoch04_acc_81.83240.pth.tar ...\n"
     ]
    },
    {
     "name": "stderr",
     "output_type": "stream",
     "text": [
      "Epoch[6/30]: 100%|██████████| 800/800 [01:21<00:00,  9.77it/s, accuracy=82.2, batch_loss=0.785, device=cuda:0, global_loss=448, lr=[0.001], speed=1.3]\n"
     ]
    },
    {
     "name": "stdout",
     "output_type": "stream",
     "text": [
      "Saving checkpoint: /home/ec2-user/SageMaker/checkpoints/uncropped/checkpoint_Model_v2_epoch05_acc_82.23890.pth.tar ...\n"
     ]
    },
    {
     "name": "stderr",
     "output_type": "stream",
     "text": [
      "Epoch[7/30]: 100%|██████████| 800/800 [01:19<00:00, 10.02it/s, accuracy=83.1, batch_loss=0.295, device=cuda:0, global_loss=407, lr=[0.001], speed=1.31]\n"
     ]
    },
    {
     "name": "stdout",
     "output_type": "stream",
     "text": [
      "Saving checkpoint: /home/ec2-user/SageMaker/checkpoints/uncropped/checkpoint_Model_v2_epoch06_acc_83.05191.pth.tar ...\n"
     ]
    },
    {
     "name": "stderr",
     "output_type": "stream",
     "text": [
      "Epoch[8/30]: 100%|██████████| 800/800 [01:23<00:00,  9.63it/s, accuracy=80.8, batch_loss=0.353, device=cuda:0, global_loss=357, lr=[0.001], speed=1.32]\n"
     ]
    },
    {
     "name": "stdout",
     "output_type": "stream",
     "text": [
      "Saving checkpoint: /home/ec2-user/SageMaker/checkpoints/uncropped/checkpoint_Model_v2_epoch07_acc_80.83177.pth.tar ...\n"
     ]
    },
    {
     "name": "stderr",
     "output_type": "stream",
     "text": [
      "Epoch[9/30]: 100%|██████████| 800/800 [01:20<00:00,  9.89it/s, accuracy=86.1, batch_loss=0.179, device=cuda:0, global_loss=307, lr=[0.001], speed=1.34]\n"
     ]
    },
    {
     "name": "stdout",
     "output_type": "stream",
     "text": [
      "Saving checkpoint: /home/ec2-user/SageMaker/checkpoints/uncropped/checkpoint_Model_v2_epoch08_acc_86.14759.pth.tar ...\n"
     ]
    },
    {
     "name": "stderr",
     "output_type": "stream",
     "text": [
      "Epoch[10/30]: 100%|██████████| 800/800 [01:21<00:00,  9.87it/s, accuracy=84.2, batch_loss=0.723, device=cuda:0, global_loss=285, lr=[0.001], speed=1.35]\n"
     ]
    },
    {
     "name": "stdout",
     "output_type": "stream",
     "text": [
      "Saving checkpoint: /home/ec2-user/SageMaker/checkpoints/uncropped/checkpoint_Model_v2_epoch09_acc_84.24015.pth.tar ...\n"
     ]
    },
    {
     "name": "stderr",
     "output_type": "stream",
     "text": [
      "Epoch[11/30]: 100%|██████████| 800/800 [01:20<00:00,  9.96it/s, accuracy=82.7, batch_loss=0.351, device=cuda:0, global_loss=246, lr=[0.001], speed=1.4]\n"
     ]
    },
    {
     "name": "stdout",
     "output_type": "stream",
     "text": [
      "Saving checkpoint: /home/ec2-user/SageMaker/checkpoints/uncropped/checkpoint_Model_v2_epoch10_acc_82.67667.pth.tar ...\n"
     ]
    },
    {
     "name": "stderr",
     "output_type": "stream",
     "text": [
      "Epoch[12/30]: 100%|██████████| 800/800 [01:21<00:00,  9.79it/s, accuracy=81.4, batch_loss=0.0644, device=cuda:0, global_loss=226, lr=[0.001], speed=1.34]\n"
     ]
    },
    {
     "name": "stdout",
     "output_type": "stream",
     "text": [
      "Saving checkpoint: /home/ec2-user/SageMaker/checkpoints/uncropped/checkpoint_Model_v2_epoch11_acc_81.42589.pth.tar ...\n"
     ]
    },
    {
     "name": "stderr",
     "output_type": "stream",
     "text": [
      "Epoch[13/30]: 100%|██████████| 800/800 [01:21<00:00,  9.84it/s, accuracy=85.8, batch_loss=0.071, device=cuda:0, global_loss=205, lr=[0.001], speed=1.34]\n"
     ]
    },
    {
     "name": "stdout",
     "output_type": "stream",
     "text": [
      "Saving checkpoint: /home/ec2-user/SageMaker/checkpoints/uncropped/checkpoint_Model_v2_epoch12_acc_85.83490.pth.tar ...\n"
     ]
    },
    {
     "name": "stderr",
     "output_type": "stream",
     "text": [
      "Epoch[14/30]: 100%|██████████| 800/800 [01:23<00:00,  9.56it/s, accuracy=84.1, batch_loss=0.0803, device=cuda:0, global_loss=203, lr=[0.001], speed=1.33]\n"
     ]
    },
    {
     "name": "stdout",
     "output_type": "stream",
     "text": [
      "Saving checkpoint: /home/ec2-user/SageMaker/checkpoints/uncropped/checkpoint_Model_v2_epoch13_acc_84.11507.pth.tar ...\n"
     ]
    },
    {
     "name": "stderr",
     "output_type": "stream",
     "text": [
      "Epoch[15/30]: 100%|██████████| 800/800 [01:21<00:00,  9.82it/s, accuracy=84.2, batch_loss=0.0868, device=cuda:0, global_loss=195, lr=[0.001], speed=1.34]\n"
     ]
    },
    {
     "name": "stdout",
     "output_type": "stream",
     "text": [
      "Saving checkpoint: /home/ec2-user/SageMaker/checkpoints/uncropped/checkpoint_Model_v2_epoch14_acc_84.17761.pth.tar ...\n"
     ]
    },
    {
     "name": "stderr",
     "output_type": "stream",
     "text": [
      "Epoch[16/30]: 100%|██████████| 800/800 [01:23<00:00,  9.55it/s, accuracy=84.4, batch_loss=0.0271, device=cuda:0, global_loss=167, lr=[0.001], speed=1.3]\n"
     ]
    },
    {
     "name": "stdout",
     "output_type": "stream",
     "text": [
      "Saving checkpoint: /home/ec2-user/SageMaker/checkpoints/uncropped/checkpoint_Model_v2_epoch15_acc_84.42777.pth.tar ...\n"
     ]
    },
    {
     "name": "stderr",
     "output_type": "stream",
     "text": [
      "Epoch[17/30]: 100%|██████████| 800/800 [01:22<00:00,  9.71it/s, accuracy=85.3, batch_loss=0.0758, device=cuda:0, global_loss=155, lr=[0.001], speed=1.23]\n"
     ]
    },
    {
     "name": "stdout",
     "output_type": "stream",
     "text": [
      "Saving checkpoint: /home/ec2-user/SageMaker/checkpoints/uncropped/checkpoint_Model_v2_epoch16_acc_85.33458.pth.tar ...\n"
     ]
    },
    {
     "name": "stderr",
     "output_type": "stream",
     "text": [
      "Epoch[18/30]: 100%|██████████| 800/800 [01:29<00:00,  8.90it/s, accuracy=85.6, batch_loss=0.0762, device=cuda:0, global_loss=144, lr=[0.001], speed=1.08]\n"
     ]
    },
    {
     "name": "stdout",
     "output_type": "stream",
     "text": [
      "Saving checkpoint: /home/ec2-user/SageMaker/checkpoints/uncropped/checkpoint_Model_v2_epoch17_acc_85.58474.pth.tar ...\n"
     ]
    },
    {
     "name": "stderr",
     "output_type": "stream",
     "text": [
      "Epoch[19/30]: 100%|██████████| 800/800 [01:24<00:00,  9.43it/s, accuracy=85.5, batch_loss=0.0565, device=cuda:0, global_loss=138, lr=[0.001], speed=1.33]\n"
     ]
    },
    {
     "name": "stdout",
     "output_type": "stream",
     "text": [
      "Saving checkpoint: /home/ec2-user/SageMaker/checkpoints/uncropped/checkpoint_Model_v2_epoch18_acc_85.52220.pth.tar ...\n"
     ]
    },
    {
     "name": "stderr",
     "output_type": "stream",
     "text": [
      "Epoch[20/30]: 100%|██████████| 800/800 [01:22<00:00,  9.66it/s, accuracy=86.1, batch_loss=0.313, device=cuda:0, global_loss=121, lr=[0.001], speed=1.26]\n"
     ]
    },
    {
     "name": "stdout",
     "output_type": "stream",
     "text": [
      "Saving checkpoint: /home/ec2-user/SageMaker/checkpoints/uncropped/checkpoint_Model_v2_epoch19_acc_86.11632.pth.tar ...\n"
     ]
    },
    {
     "name": "stderr",
     "output_type": "stream",
     "text": [
      "Epoch[21/30]: 100%|██████████| 800/800 [01:21<00:00,  9.77it/s, accuracy=83.8, batch_loss=0.143, device=cuda:0, global_loss=116, lr=[0.001], speed=1.37]\n"
     ]
    },
    {
     "name": "stdout",
     "output_type": "stream",
     "text": [
      "Saving checkpoint: /home/ec2-user/SageMaker/checkpoints/uncropped/checkpoint_Model_v2_epoch20_acc_83.80238.pth.tar ...\n"
     ]
    },
    {
     "name": "stderr",
     "output_type": "stream",
     "text": [
      "Epoch[22/30]: 100%|██████████| 800/800 [01:20<00:00, 10.00it/s, accuracy=83.6, batch_loss=0.109, device=cuda:0, global_loss=118, lr=[0.001], speed=1.37]\n"
     ]
    },
    {
     "name": "stdout",
     "output_type": "stream",
     "text": [
      "Saving checkpoint: /home/ec2-user/SageMaker/checkpoints/uncropped/checkpoint_Model_v2_epoch21_acc_83.55222.pth.tar ...\n"
     ]
    },
    {
     "name": "stderr",
     "output_type": "stream",
     "text": [
      "Epoch[23/30]: 100%|██████████| 800/800 [01:44<00:00,  7.66it/s, accuracy=85.3, batch_loss=0.0856, device=cuda:0, global_loss=104, lr=[0.001], speed=0.968]\n"
     ]
    },
    {
     "name": "stdout",
     "output_type": "stream",
     "text": [
      "Saving checkpoint: /home/ec2-user/SageMaker/checkpoints/uncropped/checkpoint_Model_v2_epoch22_acc_85.33458.pth.tar ...\n"
     ]
    },
    {
     "name": "stderr",
     "output_type": "stream",
     "text": [
      "Epoch[24/30]: 100%|██████████| 800/800 [01:24<00:00,  9.48it/s, accuracy=84.9, batch_loss=0.0134, device=cuda:0, global_loss=97.4, lr=[0.001], speed=1.27]\n"
     ]
    },
    {
     "name": "stdout",
     "output_type": "stream",
     "text": [
      "Saving checkpoint: /home/ec2-user/SageMaker/checkpoints/uncropped/checkpoint_Model_v2_epoch23_acc_84.89681.pth.tar ...\n"
     ]
    },
    {
     "name": "stderr",
     "output_type": "stream",
     "text": [
      "Epoch[25/30]: 100%|██████████| 800/800 [01:27<00:00,  9.12it/s, accuracy=84.8, batch_loss=0.00415, device=cuda:0, global_loss=96.4, lr=[0.001], speed=1.36]\n"
     ]
    },
    {
     "name": "stdout",
     "output_type": "stream",
     "text": [
      "Saving checkpoint: /home/ec2-user/SageMaker/checkpoints/uncropped/checkpoint_Model_v2_epoch24_acc_84.77173.pth.tar ...\n"
     ]
    },
    {
     "name": "stderr",
     "output_type": "stream",
     "text": [
      "Epoch[26/30]: 100%|██████████| 800/800 [01:25<00:00,  9.35it/s, accuracy=85.6, batch_loss=0.0159, device=cuda:0, global_loss=83.5, lr=[0.001], speed=1.25]\n"
     ]
    },
    {
     "name": "stdout",
     "output_type": "stream",
     "text": [
      "Saving checkpoint: /home/ec2-user/SageMaker/checkpoints/uncropped/checkpoint_Model_v2_epoch25_acc_85.64728.pth.tar ...\n"
     ]
    },
    {
     "name": "stderr",
     "output_type": "stream",
     "text": [
      "Epoch[27/30]: 100%|██████████| 800/800 [01:23<00:00,  9.54it/s, accuracy=84.2, batch_loss=0.092, device=cuda:0, global_loss=80.7, lr=[0.001], speed=1.35]\n"
     ]
    },
    {
     "name": "stdout",
     "output_type": "stream",
     "text": [
      "Saving checkpoint: /home/ec2-user/SageMaker/checkpoints/uncropped/checkpoint_Model_v2_epoch26_acc_84.24015.pth.tar ...\n"
     ]
    },
    {
     "name": "stderr",
     "output_type": "stream",
     "text": [
      "Epoch[28/30]: 100%|██████████| 800/800 [01:15<00:00, 10.66it/s, accuracy=84.7, batch_loss=0.0233, device=cuda:0, global_loss=75.6, lr=[0.001], speed=1.5]\n"
     ]
    },
    {
     "name": "stdout",
     "output_type": "stream",
     "text": [
      "Saving checkpoint: /home/ec2-user/SageMaker/checkpoints/uncropped/checkpoint_Model_v2_epoch27_acc_84.74046.pth.tar ...\n"
     ]
    },
    {
     "name": "stderr",
     "output_type": "stream",
     "text": [
      "Epoch[29/30]: 100%|██████████| 800/800 [01:11<00:00, 11.17it/s, accuracy=85.4, batch_loss=0.00856, device=cuda:0, global_loss=84.4, lr=[0.001], speed=1.53]\n"
     ]
    },
    {
     "name": "stdout",
     "output_type": "stream",
     "text": [
      "Saving checkpoint: /home/ec2-user/SageMaker/checkpoints/uncropped/checkpoint_Model_v2_epoch28_acc_85.39712.pth.tar ...\n"
     ]
    },
    {
     "name": "stderr",
     "output_type": "stream",
     "text": [
      "Epoch[30/30]: 100%|██████████| 800/800 [01:00<00:00, 13.20it/s, accuracy=85.9, batch_loss=0.416, device=cuda:0, global_loss=97.1, lr=[0.001], speed=1.89]\n"
     ]
    },
    {
     "name": "stdout",
     "output_type": "stream",
     "text": [
      "Saving checkpoint: /home/ec2-user/SageMaker/checkpoints/uncropped/checkpoint_Model_v2_epoch29_acc_85.92871.pth.tar ...\n",
      "Train Accuracy: 99.70289288506646\n",
      "Validation Accuracy: 85.92870544090057\n"
     ]
    },
    {
     "data": {
      "image/png": "[encoded data removed]",
      "text/plain": [
       "<Figure size 640x480 with 1 Axes>"
      ]
     },
     "metadata": {},
     "output_type": "display_data"
    }
   ],
   "source": [
    "trainer._train_epoch()"
   ]
  },
  {
   "cell_type": "code",
   "execution_count": null,
   "id": "569d735d-e88e-49c1-ad63-9bee895ea005",
   "metadata": {
    "tags": []
   },
   "outputs": [],
   "source": [
    "# import itertools\n",
    "\n",
    "# # Define the hyperparameter grid\n",
    "# hyperparameter_grid = {\n",
    "#     'model': [Model_v2], # adding more layers # adding more maxpool and make \n",
    "#     'lr': [0.001], # imp\n",
    "#     'weight_decay': [1e-7],\n",
    "#     'dropout': [0.2], #imp\n",
    "#     'loss_weight': [0.3,0.5,1.0,1.5,2.0,5.0],\n",
    "#     'batch_size': [16] # most imp\n",
    "# }\n",
    "\n",
    "# # Create a list of all possible combinations of hyperparameters\n",
    "# hyperparameter_combinations = list(itertools.product(*hyperparameter_grid.values()))\n",
    "\n",
    "# # Define a function for training and evaluating the model with a given set of hyperparameters\n",
    "# def train_and_evaluate_model(model_class, lr, weight_decay, dropout, loss_weight, batch_size):\n",
    "#     # Create the model\n",
    "#     device = torch.device(\"cuda:0\" if torch.cuda.is_available() else \"cpu\")\n",
    "#     model = model_class(dropout)\n",
    "#     model.to(device)\n",
    "#     parameters = filter(lambda p: p.requires_grad, model.parameters())\n",
    "    \n",
    "#     # Create the optimizer\n",
    "#     optimizer = optim.Adam(\n",
    "#         params=parameters,\n",
    "#         lr=lr,\n",
    "#         betas=(0.8, 0.999),\n",
    "#         eps=1e-8,\n",
    "#         weight_decay=weight_decay)\n",
    "#     tensorboard_dir = '/home/ec2-user/SageMaker/runs/'\n",
    "#     # Create the scheduler\n",
    "#     lr_warm_up_num = 100\n",
    "#     cr = 1.0 / math.log(lr_warm_up_num)\n",
    "#     scheduler = optim.lr_scheduler.LambdaLR(\n",
    "#         optimizer,\n",
    "#         lr_lambda=lambda ee: cr * math.log(ee + 1)\n",
    "#         if ee < lr_warm_up_num else 1)\n",
    "    \n",
    "#     # Create the loss criterion\n",
    "#     data = pd.read_csv('dataset/uncropped/annotations.csv')\n",
    "#     label_counts = data.iloc[:, 1].value_counts()\n",
    "#     loss_ratio = label_counts[0] / label_counts[1]\n",
    "#     weight = torch.Tensor([1,loss_ratio*loss_weight]).to(device)\n",
    "#     loss_criterion = torch.nn.CrossEntropyLoss(weight=weight)\n",
    "    \n",
    "#     # Load the data with the specified batch size\n",
    "#     dataset_length = len(dataset)\n",
    "#     train_size = int(0.7 * dataset_length)\n",
    "#     test_size = dataset_length - train_size\n",
    "#     train_set, test_set = torch.utils.data.random_split(dataset, [train_size,test_size])\n",
    "\n",
    "#     train_loader = DataLoader(dataset=train_set, batch_size=batch_size, shuffle=True)\n",
    "#     test_loader = DataLoader(dataset=test_set, batch_size=batch_size, shuffle=True)\n",
    "    \n",
    "#     # Create the Trainer object\n",
    "#     trainer = Trainer(\n",
    "#         model, loss_criterion,\n",
    "#         train_data_loader=train_loader,\n",
    "#         test_data_loader=test_loader,\n",
    "#         optimizer=optimizer,\n",
    "#         epochs=30,\n",
    "#         with_cuda=True,\n",
    "#         use_scheduler=True,\n",
    "#         scheduler=scheduler,\n",
    "#         save_dir='/home/ec2-user/SageMaker/checkpoints/uncropped/',\n",
    "#         tensorboard_dir=tensorboard_dir,\n",
    "#         lr=lr)\n",
    "    \n",
    "#     # Train the model\n",
    "#     trainer._train_epoch()\n",
    "    \n",
    "#     # Evaluate the model\n",
    "#     accuracy = trainer._valid_epoch(model, 0, test_loader)\n",
    "    \n",
    "#     return accuracy\n",
    "\n",
    "# # Perform grid search\n",
    "# best_accuracy = 0.0\n",
    "# best_hyperparameters = None\n",
    "\n",
    "# for hyperparameters in hyperparameter_combinations:\n",
    "#     model_class, lr, weight_decay, dropout, loss_weight, batch_size = hyperparameters\n",
    "#     print(f\"Training model {model_class.__name__} with lr={lr}, weight_decay={weight_decay}, dropout={dropout}, loss_weight={loss_weight}, batch_size={batch_size}...\")\n",
    "#     accuracy = train_and_evaluate_model(model_class, lr, weight_decay, dropout, loss_weight, batch_size)\n",
    "#     print(f\"Accuracy: {accuracy}%\")\n",
    "    \n",
    "#     if accuracy > best_accuracy:\n",
    "#         best_accuracy = accuracy\n",
    "#         best_hyperparameters = hyperparameters\n",
    "        \n",
    "# print(best_accuracy)\n",
    "# print(best_hyperparameters)\n"
   ]
  }
 ],
 "metadata": {
  "kernelspec": {
   "display_name": "conda_pytorch_p310",
   "language": "python",
   "name": "conda_pytorch_p310"
  },
  "language_info": {
   "codemirror_mode": {
    "name": "ipython",
    "version": 3
   },
   "file_extension": ".py",
   "mimetype": "text/x-python",
   "name": "python",
   "nbconvert_exporter": "python",
   "pygments_lexer": "ipython3",
   "version": "3.10.10"
  }
 },
 "nbformat": 4,
 "nbformat_minor": 5
}
